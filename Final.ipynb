{
 "cells": [
  {
   "cell_type": "markdown",
   "metadata": {},
   "source": [
    "# Intro to Computer Programming - Final Test - Fall 2024 - Wilmington College\n",
    "## Due Date: December 08, 2024, 11.59 AM\n",
    "\n",
    "Dear Students,\n",
    "\n",
    "Welcome to Final Exam for the Intro to Computer Programming course.\n",
    "\n",
    "**Submission Instructions:**\n",
    "Please complete the final test and submit it to the Blackboard. In case you encounter any issues or have questions, feel free to seek assistance from me.\n",
    "\n",
    "**Alternative Submission:**\n",
    "If, for any reason, you are unable to use BB, you can submit your work via email. If you face any challenges, don't hesitate to reach out."
   ]
  },
  {
   "cell_type": "markdown",
   "metadata": {},
   "source": [
    "### **Exercise 1: Modify String with Indices**\n",
    "\n",
    "You are given a string and a list of indices. Write a program that replaces the characters at the specified indices with a pound sign (`%`) and prints the modified string.\n",
    "\n",
    "**Input:**\n",
    "```python\n",
    "string_variable = \"python\"\n",
    "indices = [1, 2, 5]\n",
    "```\n",
    "\n",
    "**Expected Output:**\n",
    "```\n",
    "p%%on\n",
    "```"
   ]
  },
  {
   "cell_type": "code",
   "execution_count": null,
   "metadata": {},
   "outputs": [],
   "source": [
    "# -------------------- Solution ----------------------- #\n",
    "# Write your code here:\n"
   ]
  },
  {
   "cell_type": "markdown",
   "metadata": {},
   "source": [
    "### **Exercise 2: Matrix Transpose**\n",
    "Write a Python program that takes a 2D matrix as input and transposes it. The transpose of a matrix is obtained by swapping the rows and columns.\n",
    "\n",
    "**Input:**\n",
    "```python\n",
    "matrix = [\n",
    "    [1, 2, 3],\n",
    "    [4, 5, 6],\n",
    "    [7, 8, 9]\n",
    "]\n",
    "```\n",
    "\n",
    "**Expected Output:**\n",
    "```python\n",
    "[\n",
    "    [1, 4, 7],\n",
    "    [2, 5, 8],\n",
    "    [3, 6, 9]\n",
    "]\n",
    "```"
   ]
  },
  {
   "cell_type": "code",
   "execution_count": null,
   "metadata": {},
   "outputs": [],
   "source": [
    "# -------------------- Solution ----------------------- #\n",
    "# Write your code here:\n"
   ]
  },
  {
   "cell_type": "markdown",
   "metadata": {},
   "source": [
    "### **Exercise 3: Merge Two Dictionaries**\n",
    "Write a Python program that merges two dictionaries into one. If there are overlapping keys, sum their values.\n",
    "\n",
    "**Input:**\n",
    "```python\n",
    "dict1 = {'a': 5, 'b': 10, 'c': 15}\n",
    "dict2 = {'b': 3, 'c': 8, 'd': 20}\n",
    "```\n",
    "\n",
    "**Expected Output:**\n",
    "```python\n",
    "{'a': 5, 'b': 13, 'c': 23, 'd': 20}\n",
    "```\n"
   ]
  },
  {
   "cell_type": "code",
   "execution_count": null,
   "metadata": {},
   "outputs": [],
   "source": [
    "# -------------------- Solution ----------------------- #\n",
    "# Write your code here:\n",
    "\n"
   ]
  },
  {
   "cell_type": "markdown",
   "metadata": {},
   "source": [
    "### **Exercise 4: Count the Occurrence of Each Character in a String**\n",
    "Write a Python program that counts the occurrence of each character in a string and stores the result in a dictionary.\n",
    "\n",
    "**Input:**\n",
    "```python\n",
    "input_str = \"programming\"\n",
    "```\n",
    "\n",
    "**Expected Output:**\n",
    "```python\n",
    "{'p': 1, 'r': 2, 'o': 1, 'g': 2, 'a': 1, 'm': 2, 'i': 1, 'n': 1}\n",
    "```\n"
   ]
  },
  {
   "cell_type": "code",
   "execution_count": null,
   "metadata": {},
   "outputs": [],
   "source": [
    "# -------------------- Solution ----------------------- #\n",
    "# Write your code here:\n",
    "\n"
   ]
  },
  {
   "cell_type": "markdown",
   "metadata": {},
   "source": [
    "### **Exercise 5: : Data Manipulation and Analysis with Python**\n",
    "\n",
    "You are provided with a dataset of student records stored in a list of dictionaries. Each record contains information about the student’s name, age, major, and grades. Perform the following tasks:\n",
    "\n",
    "```python\n",
    "students = [\n",
    "    {\"name\": \"Alice\", \"age\": 20, \"major\": \"Computer Science\", \"grades\": [85, 90, 78]},\n",
    "    {\"name\": \"Bob\", \"age\": 22, \"major\": \"Mathematics\", \"grades\": [88, 92, 95]},\n",
    "    {\"name\": \"Charlie\", \"age\": 21, \"major\": \"Biology\", \"grades\": [70, 65, 80]},\n",
    "    {\"name\": \"David\", \"age\": 23, \"major\": \"Computer Science\", \"grades\": [60, 75, 85]},\n",
    "    {\"name\": \"Eve\", \"age\": 20, \"major\": \"Mathematics\", \"grades\": [95, 88, 92]}\n",
    "]\n",
    "```\n",
    "\n",
    "---\n",
    "\n",
    "#### **Part 1: Filtering and Displaying Records (Lists and Conditionals)**  \n",
    "Write a function `filter_by_major` that filters and prints the records of students majoring in \"Computer Science\".\n",
    "\n",
    "**Expected Output:**  \n",
    "```\n",
    "{'name': 'Alice', 'age': 20, 'major': 'Computer Science', 'grades': [85, 90, 78]}  \n",
    "{'name': 'David', 'age': 23, 'major': 'Computer Science', 'grades': [60, 75, 85]}\n",
    "```"
   ]
  },
  {
   "cell_type": "code",
   "execution_count": null,
   "metadata": {},
   "outputs": [],
   "source": [
    "# -------------------- Solution ----------------------- #\n",
    "# Write your code here:\n"
   ]
  },
  {
   "cell_type": "markdown",
   "metadata": {},
   "source": [
    "#### **Part 2: Average Grade Calculation (Loops and Functions)**  \n",
    "Write a function `calculate_average_grade` that calculates and prints the average grade for each student.\n",
    "\n",
    "**Expected Output:**  \n",
    "```\n",
    "Alice: 84.33  \n",
    "Bob: 91.67  \n",
    "Charlie: 71.67  \n",
    "David: 73.33  \n",
    "Eve: 91.67\n",
    "```\n"
   ]
  },
  {
   "cell_type": "code",
   "execution_count": null,
   "metadata": {},
   "outputs": [],
   "source": [
    "# -------------------- Solution ----------------------- #\n",
    "# Write your code here:\n"
   ]
  },
  {
   "cell_type": "markdown",
   "metadata": {},
   "source": [
    "#### **Part 3: Find the Student with the Highest Average (Dictionaries and Loops)**  \n",
    "Write a function `highest_average_student` that finds and prints the name of the student with the highest average grade and their average.\n",
    "\n",
    "**Expected Output:**  \n",
    "```\n",
    "Student with the highest average: Bob (91.67)\n",
    "```\n"
   ]
  },
  {
   "cell_type": "code",
   "execution_count": null,
   "metadata": {},
   "outputs": [],
   "source": [
    "# -------------------- Solution ----------------------- #\n",
    "# Write your code here:\n"
   ]
  },
  {
   "cell_type": "markdown",
   "metadata": {},
   "source": [
    "#### **Part 4: Group Students by Age (Dictionaries and List Manipulation)**  \n",
    "Write a function `group_by_age` that groups students by their age and prints the result.\n",
    "\n",
    "**Expected Output:**  \n",
    "```python\n",
    "{\n",
    "    20: ['Alice', 'Eve'],\n",
    "    21: ['Charlie'],\n",
    "    22: ['Bob'],\n",
    "    23: ['David']\n",
    "}\n",
    "```"
   ]
  },
  {
   "cell_type": "code",
   "execution_count": null,
   "metadata": {},
   "outputs": [],
   "source": [
    "# -------------------- Solution ----------------------- #\n",
    "# Write your code here:\n",
    "\n"
   ]
  },
  {
   "cell_type": "markdown",
   "metadata": {},
   "source": [
    "#### **Part 5: Create a Summary Report (Formatted Strings and Loops)**  \n",
    "Generate a neatly formatted summary report that displays each student's name, major, and average grade.\n",
    "\n",
    "**Expected Output:**  \n",
    "```\n",
    "Name       Major              Average Grade  \n",
    "--------------------------------------------  \n",
    "Alice      Computer Science   84.33  \n",
    "Bob        Mathematics        91.67  \n",
    "Charlie    Biology            71.67  \n",
    "David      Computer Science   73.33  \n",
    "Eve        Mathematics        91.67\n",
    "```"
   ]
  },
  {
   "cell_type": "code",
   "execution_count": null,
   "metadata": {},
   "outputs": [],
   "source": [
    "# -------------------- Solution ----------------------- #\n",
    "# Write your code here:\n"
   ]
  }
 ],
 "metadata": {
  "kernelspec": {
   "display_name": "Python 3",
   "language": "python",
   "name": "python3"
  },
  "language_info": {
   "codemirror_mode": {
    "name": "ipython",
    "version": 3
   },
   "file_extension": ".py",
   "mimetype": "text/x-python",
   "name": "python",
   "nbconvert_exporter": "python",
   "pygments_lexer": "ipython3",
   "version": "3.12.1"
  }
 },
 "nbformat": 4,
 "nbformat_minor": 2
}
