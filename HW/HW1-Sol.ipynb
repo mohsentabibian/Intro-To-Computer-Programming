{
 "cells": [
  {
   "cell_type": "markdown",
   "metadata": {},
   "source": [
    "# Intro to Computer Programming - Solution To Homework 1 - Fall 2024 - Wilmington College"
   ]
  },
  {
   "cell_type": "markdown",
   "metadata": {},
   "source": [
    "## **Exercise 1: Basic Input and Output**\n",
    "\n",
    "Write a program that asks the user for their name and age, then prints a greeting message that includes their name and how old they will be in five years.\n"
   ]
  },
  {
   "cell_type": "code",
   "execution_count": null,
   "metadata": {},
   "outputs": [],
   "source": [
    "# Sample Output:\n",
    "# What is your name? John\n",
    "# How old are you? 25\n",
    "# Hello, John! In five years, you will be 30 years old.\n",
    "\n",
    "# Write your code here:\n",
    "\n",
    "# -------------------- Solution ----------------------- #\n",
    "\n",
    "# Ask the user for their name\n",
    "name = input(\"What is your name? \")\n",
    "\n",
    "# Ask the user for their age\n",
    "age = int(input(\"How old are you? \"))\n",
    "\n",
    "# Print the greeting message with the calculated age\n",
    "print(\"Hello\", name +\"! In five years, you will be\", age + 5 , \"years old.\")\n",
    "# or\n",
    "print(f\"Hello, {name}! In five years, you will be {age + 5} years old.\")"
   ]
  },
  {
   "cell_type": "markdown",
   "metadata": {},
   "source": [
    "**Exercise 2: Arithmetic Operations**\n",
    "\n",
    "Create a program that asks the user to input two numbers and then outputs the result of adding, subtracting, multiplying, and dividing them.\n",
    "\n",
    "**Hint:** Use the arithmetic operators +, -, *, and /. \n",
    "\n",
    "**Extra Credit** Consider what should happen if the user inputs zero as the second number."
   ]
  },
  {
   "cell_type": "code",
   "execution_count": null,
   "metadata": {},
   "outputs": [],
   "source": [
    "# Sample Output:\n",
    "# Enter the first number: 8\n",
    "# Enter the second number: 0\n",
    "# 8 + 0 = 8\n",
    "# 8 - 0 = 8\n",
    "# 8 * 0 = 0\n",
    "# 8 / 0 = Undifined\n",
    "\n",
    "# Write your code here:\n",
    "\n",
    "# -------------------- Solution ----------------------- #\n",
    "\n",
    "# Ask the user to input the first number\n",
    "num1 = float(input(\"Enter the first number: \"))\n",
    "\n",
    "# Ask the user to input the second number\n",
    "num2 = float(input(\"Enter the second number: \"))\n",
    "\n",
    "# Perform addition\n",
    "addition = num1 + num2\n",
    "print(f\"{num1} + {num2} = {addition}\")\n",
    "\n",
    "# Perform subtraction\n",
    "subtraction = num1 - num2\n",
    "print(f\"{num1} - {num2} = {subtraction}\")\n",
    "\n",
    "# Perform multiplication\n",
    "multiplication = num1 * num2\n",
    "print(f\"{num1} * {num2} = {multiplication}\")\n",
    "\n",
    "# Perform division with a check for division by zero\n",
    "if num2 != 0:\n",
    "    division = num1 / num2\n",
    "    print(f\"{num1} / {num2} = {division}\")\n",
    "else:\n",
    "    print(\"Division by zero is not allowed.\")\n"
   ]
  },
  {
   "cell_type": "markdown",
   "metadata": {},
   "source": [
    "**Exercise 3: Documenting Code with Comments and Docstrings**\n",
    "\n",
    "Write a program that converts temperature from Fahrenheit to Celsius . Use comments to explain each part of your code and include a docstring at the beginning to describe the program's purpose.\n",
    "\n",
    "**Hint:** The formula for converting F to C is $C = (F - 32) * 5/9$.\n"
   ]
  },
  {
   "cell_type": "code",
   "execution_count": null,
   "metadata": {},
   "outputs": [],
   "source": [
    "# -------------------- Solution ----------------------- #\n",
    "\n",
    "\"\"\" Converting temperature from F to C\n",
    "\n",
    "This program converts a temperature from Fahrenheit to Celsius.\n",
    "The user will input a temperature in Fahrenheit, and the program\n",
    "will output the equivalent temperature in Celsius.\n",
    "\"\"\"\n",
    "\n",
    "# Get temperature in Fahrenheit from the user\n",
    "fahrenheit = float(input(\"Enter temperature in Fahrenheit: \"))\n",
    "\n",
    "# Convert Fahrenheit to Celsius using the formula C = (F - 32) * 5/9\n",
    "celsius = (fahrenheit - 32) * 5/9\n",
    "\n",
    "# Output the result to the user\n",
    "print(\"Temperature in Celsius:\", int(celsius))"
   ]
  },
  {
   "cell_type": "markdown",
   "metadata": {},
   "source": [
    "**Exercise 4: Debugging a Program with Multiple Errors**\n",
    "The following program contains three errors. Follow the steps to find and correct each error:\n",
    "\n",
    "Step 1: Run the program to identify the first error. Correct the line of code where the error occurs.\n",
    "Step 2: Run the program again to find and correct the second error.\n",
    "Step 3: Continue running and correcting the program until all errors are fixed and the program runs successfully."
   ]
  },
  {
   "cell_type": "code",
   "execution_count": null,
   "metadata": {},
   "outputs": [],
   "source": [
    "# Program to calculate the area of a rectangle\n",
    "\n",
    "length = float(input(\"Enter the length: \"))\n",
    "width = float(input(\"Enter the width: \")\n",
    "\n",
    "area = lentgh * width\n",
    "print(\"The area of the rectangle is: \", area)"
   ]
  },
  {
   "cell_type": "code",
   "execution_count": null,
   "metadata": {},
   "outputs": [],
   "source": [
    "# -------------------- Solution ----------------------- #\n",
    "\n",
    "length = float(input(\"Enter the length: \"))\n",
    "width = float(input(\"Enter the width: \")) # Error: This line is missing a closing parenthesis ).\n",
    "\n",
    "area = length * width   # The variable name lentgh is misspelled.\n",
    "print(\"The area of the rectangle is: \", area)"
   ]
  },
  {
   "cell_type": "markdown",
   "metadata": {},
   "source": [
    "## **Exercise 5: Exploring the Cause of an Error**\n",
    "Given the following error message, explain the cause of the error and how to fix it:\n",
    "\n",
    "``` python\n",
    "Traceback (most recent call last):\n",
    "  File \"/home/student/Desktop/calculator.py\", line 4\n",
    "    total = 5 + * 3\n",
    "                ^\n",
    "SyntaxError: invalid syntax\n",
    "```\n",
    "**Question:** What caused this error and how would you correct it?"
   ]
  },
  {
   "cell_type": "markdown",
   "metadata": {},
   "source": [
    "**Solution**\n",
    "\n",
    "**Cause of the Error:** The error message indicates a SyntaxError due to invalid syntax.\n",
    "Specifically, the SyntaxError is caused by the incorrect use of the + operator with a * operator immediately following it. Python does not understand 5 + * 3 because the * operator is not correctly placed between two operands.\n",
    "\n",
    "**How to Fix It:**\n",
    "The expression 5 + * 3 is syntactically incorrect. To perform addition and multiplication correctly, you need to use valid syntax where operators and operands are properly placed.\n",
    "If the intention was to add 5 to the result of 3 multiplied by another value, the corrected syntax would be 5 + (3 * value). However, if the goal is to simply add 5 and 3, then the correct expression would be 5 + 3."
   ]
  }
 ],
 "metadata": {
  "kernelspec": {
   "display_name": "Python 3",
   "language": "python",
   "name": "python3"
  },
  "language_info": {
   "codemirror_mode": {
    "name": "ipython",
    "version": 3
   },
   "file_extension": ".py",
   "mimetype": "text/x-python",
   "name": "python",
   "nbconvert_exporter": "python",
   "pygments_lexer": "ipython3",
   "version": "3.12.1"
  }
 },
 "nbformat": 4,
 "nbformat_minor": 2
}
