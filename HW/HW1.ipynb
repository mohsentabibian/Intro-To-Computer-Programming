{
 "cells": [
  {
   "cell_type": "markdown",
   "metadata": {},
   "source": [
    "# Intro to Computer Programming - Homework 1 - Fall 2024 - Wilmington College\n",
    "## Due Date: September 13, 2024, 11:30 AM (Before the Start of Our Class)\n",
    "\n",
    "Dear Students,\n",
    "\n",
    "Welcome to Homework 1 for the Intro to Computer Programming course.\n",
    "\n",
    "**Submission Instructions:**\n",
    "Please complete the homework and submit it to the Blackboard. In case you encounter any issues or have questions, feel free to seek assistance from me.\n",
    "\n",
    "**Alternative Submission:**\n",
    "If, for any reason, you are unable to use BB, you can submit your work via email.\n",
    "\n",
    "Remember, timely completion of assignments is crucial for your understanding of the course material. If you face any challenges, don't hesitate to reach out."
   ]
  },
  {
   "cell_type": "markdown",
   "metadata": {},
   "source": [
    "**Exercise 1: Basic Input and Output**\n",
    "\n",
    "Write a program that asks the user for their name and age, then prints a greeting message that includes their name and how old they will be in five years.\n"
   ]
  },
  {
   "cell_type": "code",
   "execution_count": 1,
   "metadata": {},
   "outputs": [
    {
     "name": "stdout",
     "output_type": "stream",
     "text": [
      "Collecting nbgrader\n",
      "  Downloading nbgrader-0.9.3-py3-none-any.whl.metadata (6.8 kB)\n",
      "Collecting alembic>=1.7 (from nbgrader)\n",
      "  Downloading alembic-1.13.2-py3-none-any.whl.metadata (7.4 kB)\n",
      "Requirement already satisfied: ipython>=8.10.0 in /home/codespace/.local/lib/python3.12/site-packages (from nbgrader) (8.26.0)\n",
      "Collecting ipywidgets>=7.6 (from nbgrader)\n",
      "  Downloading ipywidgets-8.1.5-py3-none-any.whl.metadata (2.3 kB)\n",
      "Requirement already satisfied: jinja2>=3 in /home/codespace/.local/lib/python3.12/site-packages (from nbgrader) (3.1.4)\n",
      "Requirement already satisfied: jsonschema>=3 in /home/codespace/.local/lib/python3.12/site-packages (from nbgrader) (4.23.0)\n",
      "Requirement already satisfied: jupyter-client<9 in /home/codespace/.local/lib/python3.12/site-packages (from nbgrader) (8.6.2)\n",
      "Requirement already satisfied: jupyter-server>=2 in /home/codespace/.local/lib/python3.12/site-packages (from nbgrader) (2.14.2)\n",
      "Requirement already satisfied: jupyterlab-server in /home/codespace/.local/lib/python3.12/site-packages (from nbgrader) (2.27.3)\n",
      "Requirement already satisfied: jupyterlab<5,>=4.2.0 in /home/codespace/.local/lib/python3.12/site-packages (from nbgrader) (4.2.4)\n",
      "Requirement already satisfied: nbclient>=0.6.1 in /home/codespace/.local/lib/python3.12/site-packages (from nbgrader) (0.10.0)\n",
      "Requirement already satisfied: nbconvert>=6 in /home/codespace/.local/lib/python3.12/site-packages (from nbgrader) (7.16.4)\n",
      "Collecting notebook<8,>=7.2.0 (from nbgrader)\n",
      "  Downloading notebook-7.2.2-py3-none-any.whl.metadata (10 kB)\n",
      "Requirement already satisfied: python-dateutil>=2.8 in /home/codespace/.local/lib/python3.12/site-packages (from nbgrader) (2.9.0.post0)\n",
      "Requirement already satisfied: pyyaml>=6.0 in /home/codespace/.local/lib/python3.12/site-packages (from nbgrader) (6.0.2)\n",
      "Collecting rapidfuzz>=1.8 (from nbgrader)\n",
      "  Downloading rapidfuzz-3.9.7-cp312-cp312-manylinux_2_17_x86_64.manylinux2014_x86_64.whl.metadata (12 kB)\n",
      "Requirement already satisfied: requests>=2.26 in /home/codespace/.local/lib/python3.12/site-packages (from nbgrader) (2.32.3)\n",
      "Requirement already satisfied: setuptools in /home/codespace/.local/lib/python3.12/site-packages (from nbgrader) (72.1.0)\n",
      "Collecting sqlalchemy<3,>=1.4 (from nbgrader)\n",
      "  Downloading SQLAlchemy-2.0.34-cp312-cp312-manylinux_2_17_x86_64.manylinux2014_x86_64.whl.metadata (9.6 kB)\n",
      "Collecting Mako (from alembic>=1.7->nbgrader)\n",
      "  Downloading Mako-1.3.5-py3-none-any.whl.metadata (2.9 kB)\n",
      "Requirement already satisfied: typing-extensions>=4 in /home/codespace/.local/lib/python3.12/site-packages (from alembic>=1.7->nbgrader) (4.12.2)\n",
      "Requirement already satisfied: decorator in /home/codespace/.local/lib/python3.12/site-packages (from ipython>=8.10.0->nbgrader) (5.1.1)\n",
      "Requirement already satisfied: jedi>=0.16 in /home/codespace/.local/lib/python3.12/site-packages (from ipython>=8.10.0->nbgrader) (0.19.1)\n",
      "Requirement already satisfied: matplotlib-inline in /home/codespace/.local/lib/python3.12/site-packages (from ipython>=8.10.0->nbgrader) (0.1.7)\n",
      "Requirement already satisfied: prompt-toolkit<3.1.0,>=3.0.41 in /home/codespace/.local/lib/python3.12/site-packages (from ipython>=8.10.0->nbgrader) (3.0.47)\n",
      "Requirement already satisfied: pygments>=2.4.0 in /home/codespace/.local/lib/python3.12/site-packages (from ipython>=8.10.0->nbgrader) (2.18.0)\n",
      "Requirement already satisfied: stack-data in /home/codespace/.local/lib/python3.12/site-packages (from ipython>=8.10.0->nbgrader) (0.6.3)\n",
      "Requirement already satisfied: traitlets>=5.13.0 in /home/codespace/.local/lib/python3.12/site-packages (from ipython>=8.10.0->nbgrader) (5.14.3)\n",
      "Requirement already satisfied: pexpect>4.3 in /home/codespace/.local/lib/python3.12/site-packages (from ipython>=8.10.0->nbgrader) (4.9.0)\n",
      "Requirement already satisfied: comm>=0.1.3 in /home/codespace/.local/lib/python3.12/site-packages (from ipywidgets>=7.6->nbgrader) (0.2.2)\n",
      "Collecting widgetsnbextension~=4.0.12 (from ipywidgets>=7.6->nbgrader)\n",
      "  Downloading widgetsnbextension-4.0.13-py3-none-any.whl.metadata (1.6 kB)\n",
      "Collecting jupyterlab-widgets~=3.0.12 (from ipywidgets>=7.6->nbgrader)\n",
      "  Downloading jupyterlab_widgets-3.0.13-py3-none-any.whl.metadata (4.1 kB)\n",
      "Requirement already satisfied: MarkupSafe>=2.0 in /home/codespace/.local/lib/python3.12/site-packages (from jinja2>=3->nbgrader) (2.1.5)\n",
      "Requirement already satisfied: attrs>=22.2.0 in /home/codespace/.local/lib/python3.12/site-packages (from jsonschema>=3->nbgrader) (24.2.0)\n",
      "Requirement already satisfied: jsonschema-specifications>=2023.03.6 in /home/codespace/.local/lib/python3.12/site-packages (from jsonschema>=3->nbgrader) (2023.12.1)\n",
      "Requirement already satisfied: referencing>=0.28.4 in /home/codespace/.local/lib/python3.12/site-packages (from jsonschema>=3->nbgrader) (0.35.1)\n",
      "Requirement already satisfied: rpds-py>=0.7.1 in /home/codespace/.local/lib/python3.12/site-packages (from jsonschema>=3->nbgrader) (0.20.0)\n",
      "Requirement already satisfied: jupyter-core!=5.0.*,>=4.12 in /home/codespace/.local/lib/python3.12/site-packages (from jupyter-client<9->nbgrader) (5.7.2)\n",
      "Requirement already satisfied: pyzmq>=23.0 in /home/codespace/.local/lib/python3.12/site-packages (from jupyter-client<9->nbgrader) (26.1.0)\n",
      "Requirement already satisfied: tornado>=6.2 in /home/codespace/.local/lib/python3.12/site-packages (from jupyter-client<9->nbgrader) (6.4.1)\n",
      "Requirement already satisfied: anyio>=3.1.0 in /home/codespace/.local/lib/python3.12/site-packages (from jupyter-server>=2->nbgrader) (4.4.0)\n",
      "Requirement already satisfied: argon2-cffi>=21.1 in /home/codespace/.local/lib/python3.12/site-packages (from jupyter-server>=2->nbgrader) (23.1.0)\n",
      "Requirement already satisfied: jupyter-events>=0.9.0 in /home/codespace/.local/lib/python3.12/site-packages (from jupyter-server>=2->nbgrader) (0.10.0)\n",
      "Requirement already satisfied: jupyter-server-terminals>=0.4.4 in /home/codespace/.local/lib/python3.12/site-packages (from jupyter-server>=2->nbgrader) (0.5.3)\n",
      "Requirement already satisfied: nbformat>=5.3.0 in /home/codespace/.local/lib/python3.12/site-packages (from jupyter-server>=2->nbgrader) (5.10.4)\n",
      "Requirement already satisfied: overrides>=5.0 in /home/codespace/.local/lib/python3.12/site-packages (from jupyter-server>=2->nbgrader) (7.7.0)\n",
      "Requirement already satisfied: packaging>=22.0 in /home/codespace/.local/lib/python3.12/site-packages (from jupyter-server>=2->nbgrader) (24.1)\n",
      "Requirement already satisfied: prometheus-client>=0.9 in /home/codespace/.local/lib/python3.12/site-packages (from jupyter-server>=2->nbgrader) (0.20.0)\n",
      "Requirement already satisfied: send2trash>=1.8.2 in /home/codespace/.local/lib/python3.12/site-packages (from jupyter-server>=2->nbgrader) (1.8.3)\n",
      "Requirement already satisfied: terminado>=0.8.3 in /home/codespace/.local/lib/python3.12/site-packages (from jupyter-server>=2->nbgrader) (0.18.1)\n",
      "Requirement already satisfied: websocket-client>=1.7 in /home/codespace/.local/lib/python3.12/site-packages (from jupyter-server>=2->nbgrader) (1.8.0)\n",
      "Requirement already satisfied: async-lru>=1.0.0 in /home/codespace/.local/lib/python3.12/site-packages (from jupyterlab<5,>=4.2.0->nbgrader) (2.0.4)\n",
      "Requirement already satisfied: httpx>=0.25.0 in /home/codespace/.local/lib/python3.12/site-packages (from jupyterlab<5,>=4.2.0->nbgrader) (0.27.0)\n",
      "Requirement already satisfied: ipykernel>=6.5.0 in /home/codespace/.local/lib/python3.12/site-packages (from jupyterlab<5,>=4.2.0->nbgrader) (6.29.5)\n",
      "Requirement already satisfied: jupyter-lsp>=2.0.0 in /home/codespace/.local/lib/python3.12/site-packages (from jupyterlab<5,>=4.2.0->nbgrader) (2.2.5)\n",
      "Requirement already satisfied: notebook-shim>=0.2 in /home/codespace/.local/lib/python3.12/site-packages (from jupyterlab<5,>=4.2.0->nbgrader) (0.2.4)\n",
      "Requirement already satisfied: babel>=2.10 in /home/codespace/.local/lib/python3.12/site-packages (from jupyterlab-server->nbgrader) (2.16.0)\n",
      "Requirement already satisfied: json5>=0.9.0 in /home/codespace/.local/lib/python3.12/site-packages (from jupyterlab-server->nbgrader) (0.9.25)\n",
      "Requirement already satisfied: beautifulsoup4 in /home/codespace/.local/lib/python3.12/site-packages (from nbconvert>=6->nbgrader) (4.12.3)\n",
      "Requirement already satisfied: bleach!=5.0.0 in /home/codespace/.local/lib/python3.12/site-packages (from nbconvert>=6->nbgrader) (6.1.0)\n",
      "Requirement already satisfied: defusedxml in /home/codespace/.local/lib/python3.12/site-packages (from nbconvert>=6->nbgrader) (0.7.1)\n",
      "Requirement already satisfied: jupyterlab-pygments in /home/codespace/.local/lib/python3.12/site-packages (from nbconvert>=6->nbgrader) (0.3.0)\n",
      "Requirement already satisfied: mistune<4,>=2.0.3 in /home/codespace/.local/lib/python3.12/site-packages (from nbconvert>=6->nbgrader) (3.0.2)\n",
      "Requirement already satisfied: pandocfilters>=1.4.1 in /home/codespace/.local/lib/python3.12/site-packages (from nbconvert>=6->nbgrader) (1.5.1)\n",
      "Requirement already satisfied: tinycss2 in /home/codespace/.local/lib/python3.12/site-packages (from nbconvert>=6->nbgrader) (1.3.0)\n",
      "Requirement already satisfied: six>=1.5 in /home/codespace/.local/lib/python3.12/site-packages (from python-dateutil>=2.8->nbgrader) (1.16.0)\n",
      "Requirement already satisfied: charset-normalizer<4,>=2 in /home/codespace/.local/lib/python3.12/site-packages (from requests>=2.26->nbgrader) (3.3.2)\n",
      "Requirement already satisfied: idna<4,>=2.5 in /home/codespace/.local/lib/python3.12/site-packages (from requests>=2.26->nbgrader) (3.7)\n",
      "Requirement already satisfied: urllib3<3,>=1.21.1 in /home/codespace/.local/lib/python3.12/site-packages (from requests>=2.26->nbgrader) (2.2.2)\n",
      "Requirement already satisfied: certifi>=2017.4.17 in /home/codespace/.local/lib/python3.12/site-packages (from requests>=2.26->nbgrader) (2024.7.4)\n",
      "Collecting greenlet!=0.4.17 (from sqlalchemy<3,>=1.4->nbgrader)\n",
      "  Downloading greenlet-3.1.0-cp312-cp312-manylinux_2_24_x86_64.manylinux_2_28_x86_64.whl.metadata (3.8 kB)\n",
      "Requirement already satisfied: sniffio>=1.1 in /home/codespace/.local/lib/python3.12/site-packages (from anyio>=3.1.0->jupyter-server>=2->nbgrader) (1.3.1)\n",
      "Requirement already satisfied: argon2-cffi-bindings in /home/codespace/.local/lib/python3.12/site-packages (from argon2-cffi>=21.1->jupyter-server>=2->nbgrader) (21.2.0)\n",
      "Requirement already satisfied: webencodings in /home/codespace/.local/lib/python3.12/site-packages (from bleach!=5.0.0->nbconvert>=6->nbgrader) (0.5.1)\n",
      "Requirement already satisfied: httpcore==1.* in /home/codespace/.local/lib/python3.12/site-packages (from httpx>=0.25.0->jupyterlab<5,>=4.2.0->nbgrader) (1.0.5)\n",
      "Requirement already satisfied: h11<0.15,>=0.13 in /home/codespace/.local/lib/python3.12/site-packages (from httpcore==1.*->httpx>=0.25.0->jupyterlab<5,>=4.2.0->nbgrader) (0.14.0)\n",
      "Requirement already satisfied: debugpy>=1.6.5 in /home/codespace/.local/lib/python3.12/site-packages (from ipykernel>=6.5.0->jupyterlab<5,>=4.2.0->nbgrader) (1.8.5)\n",
      "Requirement already satisfied: nest-asyncio in /home/codespace/.local/lib/python3.12/site-packages (from ipykernel>=6.5.0->jupyterlab<5,>=4.2.0->nbgrader) (1.6.0)\n",
      "Requirement already satisfied: psutil in /home/codespace/.local/lib/python3.12/site-packages (from ipykernel>=6.5.0->jupyterlab<5,>=4.2.0->nbgrader) (6.0.0)\n",
      "Requirement already satisfied: parso<0.9.0,>=0.8.3 in /home/codespace/.local/lib/python3.12/site-packages (from jedi>=0.16->ipython>=8.10.0->nbgrader) (0.8.4)\n",
      "Requirement already satisfied: platformdirs>=2.5 in /home/codespace/.local/lib/python3.12/site-packages (from jupyter-core!=5.0.*,>=4.12->jupyter-client<9->nbgrader) (4.2.2)\n",
      "Requirement already satisfied: python-json-logger>=2.0.4 in /home/codespace/.local/lib/python3.12/site-packages (from jupyter-events>=0.9.0->jupyter-server>=2->nbgrader) (2.0.7)\n",
      "Requirement already satisfied: rfc3339-validator in /home/codespace/.local/lib/python3.12/site-packages (from jupyter-events>=0.9.0->jupyter-server>=2->nbgrader) (0.1.4)\n",
      "Requirement already satisfied: rfc3986-validator>=0.1.1 in /home/codespace/.local/lib/python3.12/site-packages (from jupyter-events>=0.9.0->jupyter-server>=2->nbgrader) (0.1.1)\n",
      "Requirement already satisfied: fastjsonschema>=2.15 in /home/codespace/.local/lib/python3.12/site-packages (from nbformat>=5.3.0->jupyter-server>=2->nbgrader) (2.20.0)\n",
      "Requirement already satisfied: ptyprocess>=0.5 in /home/codespace/.local/lib/python3.12/site-packages (from pexpect>4.3->ipython>=8.10.0->nbgrader) (0.7.0)\n",
      "Requirement already satisfied: wcwidth in /home/codespace/.local/lib/python3.12/site-packages (from prompt-toolkit<3.1.0,>=3.0.41->ipython>=8.10.0->nbgrader) (0.2.13)\n",
      "Requirement already satisfied: soupsieve>1.2 in /home/codespace/.local/lib/python3.12/site-packages (from beautifulsoup4->nbconvert>=6->nbgrader) (2.5)\n",
      "Requirement already satisfied: executing>=1.2.0 in /home/codespace/.local/lib/python3.12/site-packages (from stack-data->ipython>=8.10.0->nbgrader) (2.0.1)\n",
      "Requirement already satisfied: asttokens>=2.1.0 in /home/codespace/.local/lib/python3.12/site-packages (from stack-data->ipython>=8.10.0->nbgrader) (2.4.1)\n",
      "Requirement already satisfied: pure-eval in /home/codespace/.local/lib/python3.12/site-packages (from stack-data->ipython>=8.10.0->nbgrader) (0.2.3)\n",
      "Requirement already satisfied: fqdn in /home/codespace/.local/lib/python3.12/site-packages (from jsonschema[format-nongpl]>=4.18.0->jupyter-events>=0.9.0->jupyter-server>=2->nbgrader) (1.5.1)\n",
      "Requirement already satisfied: isoduration in /home/codespace/.local/lib/python3.12/site-packages (from jsonschema[format-nongpl]>=4.18.0->jupyter-events>=0.9.0->jupyter-server>=2->nbgrader) (20.11.0)\n",
      "Requirement already satisfied: jsonpointer>1.13 in /home/codespace/.local/lib/python3.12/site-packages (from jsonschema[format-nongpl]>=4.18.0->jupyter-events>=0.9.0->jupyter-server>=2->nbgrader) (3.0.0)\n",
      "Requirement already satisfied: uri-template in /home/codespace/.local/lib/python3.12/site-packages (from jsonschema[format-nongpl]>=4.18.0->jupyter-events>=0.9.0->jupyter-server>=2->nbgrader) (1.3.0)\n",
      "Requirement already satisfied: webcolors>=24.6.0 in /home/codespace/.local/lib/python3.12/site-packages (from jsonschema[format-nongpl]>=4.18.0->jupyter-events>=0.9.0->jupyter-server>=2->nbgrader) (24.6.0)\n",
      "Requirement already satisfied: cffi>=1.0.1 in /home/codespace/.local/lib/python3.12/site-packages (from argon2-cffi-bindings->argon2-cffi>=21.1->jupyter-server>=2->nbgrader) (1.17.0)\n",
      "Requirement already satisfied: pycparser in /home/codespace/.local/lib/python3.12/site-packages (from cffi>=1.0.1->argon2-cffi-bindings->argon2-cffi>=21.1->jupyter-server>=2->nbgrader) (2.22)\n",
      "Requirement already satisfied: arrow>=0.15.0 in /home/codespace/.local/lib/python3.12/site-packages (from isoduration->jsonschema[format-nongpl]>=4.18.0->jupyter-events>=0.9.0->jupyter-server>=2->nbgrader) (1.3.0)\n",
      "Requirement already satisfied: types-python-dateutil>=2.8.10 in /home/codespace/.local/lib/python3.12/site-packages (from arrow>=0.15.0->isoduration->jsonschema[format-nongpl]>=4.18.0->jupyter-events>=0.9.0->jupyter-server>=2->nbgrader) (2.9.0.20240316)\n",
      "Downloading nbgrader-0.9.3-py3-none-any.whl (11.0 MB)\n",
      "\u001b[2K   \u001b[90m━━━━━━━━━━━━━━━━━━━━━━━━━━━━━━━━━━━━━━━━\u001b[0m \u001b[32m11.0/11.0 MB\u001b[0m \u001b[31m53.8 MB/s\u001b[0m eta \u001b[36m0:00:00\u001b[0m:00:01\u001b[0m\n",
      "\u001b[?25hDownloading alembic-1.13.2-py3-none-any.whl (232 kB)\n",
      "Downloading ipywidgets-8.1.5-py3-none-any.whl (139 kB)\n",
      "Downloading notebook-7.2.2-py3-none-any.whl (5.0 MB)\n",
      "\u001b[2K   \u001b[90m━━━━━━━━━━━━━━━━━━━━━━━━━━━━━━━━━━━━━━━━\u001b[0m \u001b[32m5.0/5.0 MB\u001b[0m \u001b[31m52.8 MB/s\u001b[0m eta \u001b[36m0:00:00\u001b[0m\n",
      "\u001b[?25hDownloading rapidfuzz-3.9.7-cp312-cp312-manylinux_2_17_x86_64.manylinux2014_x86_64.whl (3.4 MB)\n",
      "\u001b[2K   \u001b[90m━━━━━━━━━━━━━━━━━━━━━━━━━━━━━━━━━━━━━━━━\u001b[0m \u001b[32m3.4/3.4 MB\u001b[0m \u001b[31m40.9 MB/s\u001b[0m eta \u001b[36m0:00:00\u001b[0m\n",
      "\u001b[?25hDownloading SQLAlchemy-2.0.34-cp312-cp312-manylinux_2_17_x86_64.manylinux2014_x86_64.whl (3.2 MB)\n",
      "\u001b[2K   \u001b[90m━━━━━━━━━━━━━━━━━━━━━━━━━━━━━━━━━━━━━━━━\u001b[0m \u001b[32m3.2/3.2 MB\u001b[0m \u001b[31m36.4 MB/s\u001b[0m eta \u001b[36m0:00:00\u001b[0m\n",
      "\u001b[?25hDownloading greenlet-3.1.0-cp312-cp312-manylinux_2_24_x86_64.manylinux_2_28_x86_64.whl (626 kB)\n",
      "\u001b[2K   \u001b[90m━━━━━━━━━━━━━━━━━━━━━━━━━━━━━━━━━━━━━━━━\u001b[0m \u001b[32m626.7/626.7 kB\u001b[0m \u001b[31m9.3 MB/s\u001b[0m eta \u001b[36m0:00:00\u001b[0m\n",
      "\u001b[?25hDownloading jupyterlab_widgets-3.0.13-py3-none-any.whl (214 kB)\n",
      "Downloading widgetsnbextension-4.0.13-py3-none-any.whl (2.3 MB)\n",
      "\u001b[2K   \u001b[90m━━━━━━━━━━━━━━━━━━━━━━━━━━━━━━━━━━━━━━━━\u001b[0m \u001b[32m2.3/2.3 MB\u001b[0m \u001b[31m34.4 MB/s\u001b[0m eta \u001b[36m0:00:00\u001b[0m\n",
      "\u001b[?25hDownloading Mako-1.3.5-py3-none-any.whl (78 kB)\n",
      "Installing collected packages: widgetsnbextension, rapidfuzz, Mako, jupyterlab-widgets, greenlet, sqlalchemy, alembic, ipywidgets, notebook, nbgrader\n",
      "Successfully installed Mako-1.3.5 alembic-1.13.2 greenlet-3.1.0 ipywidgets-8.1.5 jupyterlab-widgets-3.0.13 nbgrader-0.9.3 notebook-7.2.2 rapidfuzz-3.9.7 sqlalchemy-2.0.34 widgetsnbextension-4.0.13\n"
     ]
    }
   ],
   "source": [
    "# Sample Output:\n",
    "# What is your name? John\n",
    "# How old are you? 25\n",
    "# Hello, John! In five years, you will be 30 years old.\n",
    "\n",
    "# -------------------- Solution ----------------------- #\n",
    "# Write your code here:\n",
    "! pip install nbgrader"
   ]
  },
  {
   "cell_type": "code",
   "execution_count": 4,
   "metadata": {},
   "outputs": [
    {
     "name": "stdout",
     "output_type": "stream",
     "text": [
      "\u001b[33m[QuickStartApp | WARNING]\u001b[m No nbgrader_config.py file found (rerun with --debug to see where nbgrader is looking)\n",
      "\u001b[32m[QuickStartApp | INFO]\u001b[m Creating directory '/workspaces/Intro-To-Computer-Programming/HW/Intro'...\n",
      "\u001b[32m[QuickStartApp | INFO]\u001b[m Copying example from the user guide...\n",
      "\u001b[32m[QuickStartApp | INFO]\u001b[m Generating example config file...\n",
      "\u001b[32m[QuickStartApp | INFO]\u001b[m Done! The course files are located in '/workspaces/Intro-To-Computer-Programming/HW/Intro'.\n",
      "    \n",
      "    To get started, you can edit the source notebooks located in:\n",
      "    \n",
      "        /workspaces/Intro-To-Computer-Programming/HW/Intro/source/ps1\n",
      "    \n",
      "    Once you have edited them to your satisfaction, you can create\n",
      "    the student version by running `nbgrader generate_assignment ps1` from the\n",
      "    '/workspaces/Intro-To-Computer-Programming/HW/Intro' directory.\n",
      "    \n",
      "    For further details, please see the full nbgrader documentation at:\n",
      "    \n",
      "        https://nbgrader.readthedocs.io/en/stable/\n",
      "    \n"
     ]
    }
   ],
   "source": [
    "! nbgrader quickstart Intro"
   ]
  },
  {
   "cell_type": "markdown",
   "metadata": {},
   "source": [
    "**Exercise 2: Arithmetic Operations**\n",
    "\n",
    "Create a program that asks the user to input two numbers and then outputs the result of adding, subtracting, multiplying, and dividing them.\n",
    "\n",
    "**Hint:** Use the arithmetic operators +, -, *, and /. \n",
    "\n",
    "**Extra Credit** Consider what should happen if the user inputs zero as the second number."
   ]
  },
  {
   "cell_type": "code",
   "execution_count": null,
   "metadata": {},
   "outputs": [],
   "source": [
    "# Sample Output:\n",
    "# Enter the first number: 8\n",
    "# Enter the second number: 0\n",
    "# 8 + 0 = 8\n",
    "# 8 - 0 = 8\n",
    "# 8 * 0 = 0\n",
    "# 8 / 0 = Undifined\n",
    "\n",
    "# -------------------- Solution ----------------------- #\n",
    "# Write your code here:"
   ]
  },
  {
   "cell_type": "markdown",
   "metadata": {},
   "source": [
    "**Exercise 3: Documenting Code with Comments and Docstrings**\n",
    "\n",
    "Write a program that converts temperature from Fahrenheit to Celsius . Use comments to explain each part of your code and include a docstring at the beginning to describe the program's purpose.\n",
    "\n",
    "**Hint:** The formula for converting F to C is $C = (F - 32) * 5/9$.\n"
   ]
  },
  {
   "cell_type": "code",
   "execution_count": null,
   "metadata": {},
   "outputs": [],
   "source": [
    "# -------------------- Solution ----------------------- #\n",
    "# Write your code here:\n",
    "hi"
   ]
  },
  {
   "cell_type": "markdown",
   "metadata": {},
   "source": [
    "**Exercise 4: Debugging a Program with Multiple Errors**\n",
    "The following program contains three errors. Follow the steps to find and correct each error:\n",
    "\n",
    "Step 1: Run the program to identify the first error. Correct the line of code where the error occurs.\n",
    "Step 2: Run the program again to find and correct the second error.\n",
    "Step 3: Continue running and correcting the program until all errors are fixed and the program runs successfully."
   ]
  },
  {
   "cell_type": "code",
   "execution_count": null,
   "metadata": {},
   "outputs": [],
   "source": [
    "# Program to calculate the area of a rectangle\n",
    "\n",
    "length = float(input(\"Enter the length: \"))\n",
    "width = float(input(\"Enter the width: \")\n",
    "\n",
    "area = lentgh * width\n",
    "print(\"The area of the rectangle is: \", area)"
   ]
  },
  {
   "cell_type": "code",
   "execution_count": null,
   "metadata": {},
   "outputs": [],
   "source": [
    "# -------------------- Solution ----------------------- #\n",
    "# Write your code here:\n",
    "\n"
   ]
  },
  {
   "cell_type": "markdown",
   "metadata": {},
   "source": [
    "**Exercise 5: Exploring the Cause of an Error**\n",
    "Given the following error message, explain the cause of the error and how to fix it:\n",
    "\n",
    "``` python\n",
    "Traceback (most recent call last):\n",
    "  File \"/home/student/Desktop/calculator.py\", line 4\n",
    "    total = 5 + * 3\n",
    "                ^\n",
    "SyntaxError: invalid syntax\n",
    "```\n",
    "**Question:** What caused this error and how would you correct it?"
   ]
  },
  {
   "cell_type": "markdown",
   "metadata": {},
   "source": [
    "**Solution**\n",
    "\n",
    "**Cause of the Error:** Type your answer:\n",
    "\n",
    "\n",
    "\n",
    "**How to Fix It:** Type your answer:\n"
   ]
  }
 ],
 "metadata": {
  "kernelspec": {
   "display_name": "Python 3",
   "language": "python",
   "name": "python3"
  },
  "language_info": {
   "codemirror_mode": {
    "name": "ipython",
    "version": 3
   },
   "file_extension": ".py",
   "mimetype": "text/x-python",
   "name": "python",
   "nbconvert_exporter": "python",
   "pygments_lexer": "ipython3",
   "version": "3.12.1"
  }
 },
 "nbformat": 4,
 "nbformat_minor": 2
}
