{
 "cells": [
  {
   "cell_type": "markdown",
   "metadata": {},
   "source": [
    "# Intro to Computer Programming - Homework 2 - Fall 2024 - Wilmington College\n",
    "## Due Date: September 20, 2024, 11:30 AM (Before the Start of Our Class)\n",
    "\n",
    "Dear Students,\n",
    "\n",
    "Welcome to Homework 2 for the Intro to Computer Programming course.\n",
    "\n",
    "**Submission Instructions:**\n",
    "Please complete the homework and submit it to the Blackboard. In case you encounter any issues or have questions, feel free to seek assistance from me.\n",
    "\n",
    "**Alternative Submission:**\n",
    "If, for any reason, you are unable to use BB, you can submit your work via email.\n",
    "\n",
    "Remember, timely completion of assignments is crucial for your understanding of the course material. If you face any challenges, don't hesitate to reach out."
   ]
  },
  {
   "cell_type": "markdown",
   "metadata": {},
   "source": [
    "**Exercise 1: Understanding Spacing and Formatting**\n",
    "\n",
    "Reformat the following program so that it adheres to proper Python spacing and readability standards according to PEP 8.\n",
    "\n",
    "Make comments whenever needed.\n",
    "\n",
    "```\n",
    "name=input (\"Enter your name:\" )  # ToDO\n",
    "age=input( \"Enter your age: \") # ToDO\n",
    "print ( name, \"is\" ,age, \"years old!\") # ToDO\n",
    "```"
   ]
  },
  {
   "cell_type": "code",
   "execution_count": 1,
   "metadata": {},
   "outputs": [
    {
     "name": "stdout",
     "output_type": "stream",
     "text": [
      "Mohsen is 38 years old!\n"
     ]
    }
   ],
   "source": [
    "# -------------------- Solution ----------------------- #\n",
    "\n",
    "# Prompt the user to enter their name\n",
    "name = input(\"Enter your name: \")\n",
    "\n",
    "# Prompt the user to enter their age\n",
    "age = input(\"Enter your age: \")\n",
    "\n",
    "# Print the name and age in a formatted message\n",
    "print(name, \"is\", age, \"years old!\")"
   ]
  },
  {
   "cell_type": "markdown",
   "metadata": {},
   "source": [
    "**Exercise 2: Multi-Line Strings**\n",
    "\n",
    "The following string is too long for a single line of code. Use Python's implicit string concatenation to split the string into multiple lines of code and print it out correctly:\n",
    "\n",
    "\"The quick brown fox jumps over the lazy dog. The quick brown fox is one of the most famous sentences in English because it contains every letter of the alphabet.\""
   ]
  },
  {
   "cell_type": "code",
   "execution_count": 1,
   "metadata": {},
   "outputs": [
    {
     "name": "stdout",
     "output_type": "stream",
     "text": [
      "The quick brown fox jumps over the lazy dog. The quick brown fox is one of the most famous sentences in English because it contains every letter of the alphabet.\n"
     ]
    }
   ],
   "source": [
    "# -------------------- Solution ----------------------- #\n",
    "# Write your code here:\n",
    "\n",
    "# Use implicit string concatenation to split the long string\n",
    "sentence = (\"The quick brown fox jumps over the lazy dog. \"\n",
    "            \"The quick brown fox is one of the most famous sentences \"\n",
    "            \"in English because it contains every letter of the alphabet.\")\n",
    "\n",
    "# Print the sentence\n",
    "print(sentence)\n"
   ]
  },
  {
   "cell_type": "markdown",
   "metadata": {},
   "source": [
    "**Exercise 3: Mathematical Operations and Precedence**\n",
    "\n",
    "Write a Python program that calculates the following mathematical expression using proper spacing:\n",
    "\n",
    "$𝑏^2−4𝑎𝑐$\n",
    "\n",
    "Given $a = 2, b = 3$, and $c = 4$, calculate the value of the expression. Make sure to use correct spacing around operators according to PEP 8 guidelines.\n"
   ]
  },
  {
   "cell_type": "code",
   "execution_count": 3,
   "metadata": {},
   "outputs": [
    {
     "name": "stdout",
     "output_type": "stream",
     "text": [
      "The result of the expression b^2 - 4ac is: -23\n"
     ]
    }
   ],
   "source": [
    "# -------------------- Solution ----------------------- #\n",
    "# Write your code here:\n",
    "\n",
    "# Given values\n",
    "a = 2\n",
    "b = 3\n",
    "c = 4\n",
    "\n",
    "# Calculating the expression b^2 - 4ac\n",
    "result = b**2 - 4*a*c\n",
    "\n",
    "# Output the result\n",
    "print(\"The result of the expression b^2 - 4ac is:\", result)\n"
   ]
  },
  {
   "cell_type": "markdown",
   "metadata": {},
   "source": [
    "**Exercise 4: Tip Calculator**\n",
    "Write a Python program that functions as a simple tip calculator. The program should ask for the bill amount, the percentage to tip, and the number of people. The program should then calculate the total bill, the tip amount, and how much each person needs to pay. Your output should match the format below, and all dollar amounts should be rounded to two decimal places:"
   ]
  },
  {
   "cell_type": "code",
   "execution_count": 4,
   "metadata": {},
   "outputs": [
    {
     "name": "stdout",
     "output_type": "stream",
     "text": [
      "\n",
      "Tip amount: $22.50\n",
      "Total amount: $112.50\n",
      "\n",
      "Tip per person: $5.62\n",
      "Total per person: $28.12\n"
     ]
    }
   ],
   "source": [
    "# -------------------- Solution ----------------------- #\n",
    "# Write your code here:\n",
    "\n",
    "# Input from user\n",
    "bill_amount = float(input(\"Enter the bill amount: $\"))\n",
    "tip_percentage = float(input(\"Percentage to tip: \"))\n",
    "num_people = int(input(\"Number of people: \"))\n",
    "\n",
    "# Calculate the tip amount and total bill\n",
    "tip_amount = (bill_amount * tip_percentage) / 100\n",
    "total_bill = bill_amount + tip_amount\n",
    "\n",
    "# Calculate how much each person needs to pay\n",
    "tip_per_person = tip_amount / num_people\n",
    "total_per_person = total_bill / num_people\n",
    "\n",
    "# Output the results\n",
    "print(f\"\\nTip amount: ${tip_amount:.2f}\")\n",
    "print(f\"Total amount: ${total_bill:.2f}\")\n",
    "print(f\"\\nTip per person: ${tip_per_person:.2f}\")\n",
    "print(f\"Total per person: ${total_per_person:.2f}\")\n"
   ]
  },
  {
   "cell_type": "markdown",
   "metadata": {},
   "source": [
    "**Exercise 5: Miles to Kilometers Converter**\n",
    "Write a program to read the number of miles the user traveled today and compute the equivalent kilometers, as well as how many kilometers are left to reach a daily goal of 100 kilometers. Assume 1 mile equals 1.60934 kilometers. Write the code to calculate km_traveled and km_left to match the following:\n",
    "\n",
    "miles is a float representing the number of miles the user traveled.\n",
    "\n",
    "km_traveled is a float representing the number of kilometers traveled.\n",
    "\n",
    "km_left is an integer representing the number of kilometers left to reach the daily goal (rounded down)."
   ]
  },
  {
   "cell_type": "code",
   "execution_count": 5,
   "metadata": {},
   "outputs": [
    {
     "name": "stdout",
     "output_type": "stream",
     "text": [
      "\n",
      "Kilometers traveled: 88.51\n",
      "Kilometers left to reach daily goal: 11\n"
     ]
    }
   ],
   "source": [
    "# -------------------- Solution ----------------------- #\n",
    "# Write your code here:\n",
    "\n",
    "# Constants\n",
    "MILES_TO_KM_CONVERSION = 1.60934\n",
    "DAILY_GOAL_KM = 100\n",
    "\n",
    "# Input from user\n",
    "miles = float(input(\"Enter the number of miles traveled today: \"))\n",
    "\n",
    "# Calculate kilometers traveled\n",
    "km_traveled = miles * MILES_TO_KM_CONVERSION\n",
    "\n",
    "# Calculate kilometers left to reach the daily goal\n",
    "km_left = DAILY_GOAL_KM - km_traveled\n",
    "\n",
    "# Round down km_left to the nearest integer\n",
    "km_left = int(km_left)\n",
    "\n",
    "# Output the results\n",
    "print(f\"\\nKilometers traveled: {km_traveled:.2f}\")\n",
    "print(f\"Kilometers left to reach daily goal: {km_left}\")\n"
   ]
  },
  {
   "cell_type": "markdown",
   "metadata": {},
   "source": [
    "**Exercise 6: Painting a Wall**\n",
    "The holidays are coming, and you plan to paint a large wall. According to a paint manufacturer, you will need the following amount of paint for every square foot of wall:\n",
    "\n",
    "- 0.5 cups of paint (per square foot)\n",
    "- 0.1 gallons of water to thin the paint (per square foot)\n",
    "- 1 brush for every 50 square feet\n",
    "\n",
    "Write a program that inputs the following variables: `wall_height` (float), `wall_width` (float), and `num_walls` (int). The output should calculate the total square footage of all walls, the amount of paint required, the gallons of water needed, and the number of brushes required.\n",
    "\n",
    "**Note**: The measures the program calculates should be precise but realistic. For instance, 7.35 brushes would mean the user needs 8 brushes.\n",
    "\n",
    "**Example Input and Output:**\n",
    "\n",
    "**Example Input:**\n",
    "```\n",
    "Enter the height of the wall in feet: 10\n",
    "Enter the width of the wall in feet: 20\n",
    "Enter the number of walls to paint: 2\n",
    "```\n",
    "\n",
    "**Example Output:**\n",
    "```\n",
    "For 2 walls, you will need 400 square feet of coverage:\n",
    "\n",
    "    200 cups of paint\n",
    "    40 gallons of water\n",
    "    8 brushes\n",
    "```\n",
    "\n",
    "**Instructions:**\n",
    "1. The number of walls should be an integer.\n",
    "2. The wall height and width should be floats.\n",
    "3. The program should calculate the total area by multiplying the height and width of one wall and then by the number of walls.\n",
    "4. The total amount of paint, water, and brushes should be calculated based on the total square footage.\n"
   ]
  },
  {
   "cell_type": "code",
   "execution_count": 1,
   "metadata": {},
   "outputs": [
    {
     "name": "stdout",
     "output_type": "stream",
     "text": [
      "\n",
      "For 4 walls, you will need 468 square feet of coverage:\n",
      "\n",
      "\t234 cups of paint\n",
      "\t46.8 gallons of water\n",
      "\t10 brushes\n"
     ]
    }
   ],
   "source": [
    "# -------------------- Solution ----------------------- #\n",
    "# Write your code here:\n",
    "\n",
    "import math\n",
    "\n",
    "# Constants\n",
    "PAINT_CUPS_PER_SQ_FT = 0.5\n",
    "WATER_GALLONS_PER_SQ_FT = 0.1\n",
    "BRUSHES_PER_SQ_FT = 1 / 50\n",
    "\n",
    "# Input from user\n",
    "wall_height = float(input(\"Enter the height of the wall in feet: \"))\n",
    "wall_width = float(input(\"Enter the width of the wall in feet: \"))\n",
    "num_walls = int(input(\"Enter the number of walls to paint: \"))\n",
    "\n",
    "# Calculate total square footage\n",
    "total_sq_ft = wall_height * wall_width * num_walls\n",
    "\n",
    "# Calculate total paint needed\n",
    "total_paint_cups = total_sq_ft * PAINT_CUPS_PER_SQ_FT\n",
    "\n",
    "# Calculate total water needed\n",
    "total_water_gallons = total_sq_ft * WATER_GALLONS_PER_SQ_FT\n",
    "\n",
    "# Calculate total brushes needed (round up to the nearest whole number)\n",
    "total_brushes = math.ceil(total_sq_ft * BRUSHES_PER_SQ_FT)\n",
    "\n",
    "# Output the results\n",
    "print(f\"\\nFor {num_walls} walls, you will need {total_sq_ft:.0f} square feet of coverage:\\n\")\n",
    "print(f\"\\t{total_paint_cups:.0f} cups of paint\")\n",
    "print(f\"\\t{total_water_gallons:.1f} gallons of water\")\n",
    "print(f\"\\t{total_brushes} brushes\")\n"
   ]
  }
 ],
 "metadata": {
  "kernelspec": {
   "display_name": "Python 3",
   "language": "python",
   "name": "python3"
  },
  "language_info": {
   "codemirror_mode": {
    "name": "ipython",
    "version": 3
   },
   "file_extension": ".py",
   "mimetype": "text/x-python",
   "name": "python",
   "nbconvert_exporter": "python",
   "pygments_lexer": "ipython3",
   "version": "3.12.1"
  }
 },
 "nbformat": 4,
 "nbformat_minor": 2
}
