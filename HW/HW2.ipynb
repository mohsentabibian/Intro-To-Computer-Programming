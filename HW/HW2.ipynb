{
 "cells": [
  {
   "cell_type": "markdown",
   "metadata": {},
   "source": [
    "# Intro to Computer Programming - Homework 2 - Fall 2024 - Wilmington College\n",
    "## Due Date: September 20, 2024, 11:30 AM (Before the Start of Our Class)\n",
    "\n",
    "Dear Students,\n",
    "\n",
    "Welcome to Homework 2 for the Intro to Computer Programming course.\n",
    "\n",
    "**Submission Instructions:**\n",
    "Please complete the homework and submit it to the Blackboard. In case you encounter any issues or have questions, feel free to seek assistance from me.\n",
    "\n",
    "**Alternative Submission:**\n",
    "If, for any reason, you are unable to use BB, you can submit your work via email.\n",
    "\n",
    "Remember, timely completion of assignments is crucial for your understanding of the course material. If you face any challenges, don't hesitate to reach out."
   ]
  },
  {
   "cell_type": "markdown",
   "metadata": {},
   "source": [
    "**Exercise 1: Understanding Spacing and Formatting**\n",
    "\n",
    "Reformat the following program so that it adheres to proper Python spacing and readability standards according to PEP 8.\n",
    "\n",
    "Make comments whenever needed.\n",
    "\n",
    "```\n",
    "name=input (\"Enter your name:\" )  # ToDO\n",
    "age=input( \"Enter your age: \") # ToDO\n",
    "print ( name, \"is\" ,age, \"years old!\") # ToDO\n",
    "```"
   ]
  },
  {
   "cell_type": "code",
   "execution_count": null,
   "metadata": {},
   "outputs": [],
   "source": [
    "# -------------------- Solution ----------------------- #\n",
    "\n",
    "name=input (\"Enter your name:\" )  # ToDO\n",
    "age=input( \"Enter your age: \") # ToDO\n",
    "print ( name, \"is\" ,age, \"years old!\") # ToDO"
   ]
  },
  {
   "cell_type": "markdown",
   "metadata": {},
   "source": [
    "**Exercise 2: Multi-Line Strings**\n",
    "\n",
    "The following string is too long for a single line of code. Use Python's implicit string concatenation to split the string into multiple lines of code and print it out correctly:"
   ]
  },
  {
   "cell_type": "code",
   "execution_count": null,
   "metadata": {},
   "outputs": [],
   "source": [
    "\"The quick brown fox jumps over the lazy dog. The quick brown fox is one of the most famous sentences in English because it contains every letter of the alphabet.\"\n",
    "\n",
    "# -------------------- Solution ----------------------- #\n",
    "# Write your code here:"
   ]
  },
  {
   "cell_type": "markdown",
   "metadata": {},
   "source": [
    "**Exercise 3: Mathematical Operations and Precedence**\n",
    "\n",
    "Write a Python program that calculates the following mathematical expression using proper spacing:\n",
    "\n",
    "$𝑏^2−4𝑎𝑐$\n",
    "\n",
    "Given $a = 2, b = 3$, and $c = 4$, calculate the value of the expression. Make sure to use correct spacing around operators according to PEP 8 guidelines.\n"
   ]
  },
  {
   "cell_type": "code",
   "execution_count": null,
   "metadata": {},
   "outputs": [],
   "source": [
    "# -------------------- Solution ----------------------- #\n",
    "# Write your code here:\n"
   ]
  },
  {
   "cell_type": "markdown",
   "metadata": {},
   "source": [
    "**Exercise 4: Tip Calculator**\n",
    "Write a Python program that functions as a simple tip calculator. The program should ask for the bill amount, the percentage to tip, and the number of people. The program should then calculate the total bill, the tip amount, and how much each person needs to pay. Your output should match the format below, and all dollar amounts should be rounded to two decimal places:"
   ]
  },
  {
   "cell_type": "code",
   "execution_count": null,
   "metadata": {},
   "outputs": [],
   "source": [
    "# -------------------- Solution ----------------------- #\n",
    "# Write your code here:\n",
    "\n"
   ]
  },
  {
   "cell_type": "markdown",
   "metadata": {},
   "source": [
    "**Exercise 5: Miles to Kilometers Converter**\n",
    "Write a program to read the number of miles the user traveled today and compute the equivalent kilometers, as well as how many kilometers are left to reach a daily goal of 100 kilometers. Assume 1 mile equals 1.60934 kilometers. Write the code to calculate km_traveled and km_left to match the following:\n",
    "\n",
    "miles is a float representing the number of miles the user traveled.\n",
    "\n",
    "km_traveled is a float representing the number of kilometers traveled.\n",
    "\n",
    "km_left is an integer representing the number of kilometers left to reach the daily goal (rounded down)."
   ]
  },
  {
   "cell_type": "code",
   "execution_count": null,
   "metadata": {},
   "outputs": [],
   "source": [
    "# -------------------- Solution ----------------------- #\n",
    "# Write your code here:\n"
   ]
  },
  {
   "cell_type": "markdown",
   "metadata": {},
   "source": [
    "**Exercise 6: Painting a Wall**\n",
    "The holidays are coming, and you plan to paint a large wall. According to a paint manufacturer, you will need the following amount of paint for every square foot of wall:\n",
    "\n",
    "- 0.5 cups of paint (per square foot)\n",
    "- 0.1 gallons of water to thin the paint (per square foot)\n",
    "- 1 brush for every 50 square feet\n",
    "\n",
    "Write a program that inputs the following variables: `wall_height` (float), `wall_width` (float), and `num_walls` (int). The output should calculate the total square footage of all walls, the amount of paint required, the gallons of water needed, and the number of brushes required.\n",
    "\n",
    "**Note**: The measures the program calculates should be precise but realistic. For instance, 7.35 brushes would mean the user needs 8 brushes.\n",
    "\n",
    "**Example Input and Output:**\n",
    "\n",
    "**Example Input:**\n",
    "```\n",
    "Enter the height of the wall in feet: 10\n",
    "Enter the width of the wall in feet: 20\n",
    "Enter the number of walls to paint: 2\n",
    "```\n",
    "\n",
    "**Example Output:**\n",
    "```\n",
    "For 2 walls, you will need 400 square feet of coverage:\n",
    "\n",
    "    200 cups of paint\n",
    "    40 gallons of water\n",
    "    8 brushes\n",
    "```\n",
    "\n",
    "**Instructions:**\n",
    "1. The number of walls should be an integer.\n",
    "2. The wall height and width should be floats.\n",
    "3. The program should calculate the total area by multiplying the height and width of one wall and then by the number of walls.\n",
    "4. The total amount of paint, water, and brushes should be calculated based on the total square footage.\n"
   ]
  },
  {
   "cell_type": "code",
   "execution_count": null,
   "metadata": {},
   "outputs": [],
   "source": [
    "# -------------------- Solution ----------------------- #\n",
    "# Write your code here:\n"
   ]
  }
 ],
 "metadata": {
  "kernelspec": {
   "display_name": "Python 3",
   "language": "python",
   "name": "python3"
  },
  "language_info": {
   "codemirror_mode": {
    "name": "ipython",
    "version": 3
   },
   "file_extension": ".py",
   "mimetype": "text/x-python",
   "name": "python",
   "nbconvert_exporter": "python",
   "pygments_lexer": "ipython3",
   "version": "3.12.1"
  }
 },
 "nbformat": 4,
 "nbformat_minor": 2
}
