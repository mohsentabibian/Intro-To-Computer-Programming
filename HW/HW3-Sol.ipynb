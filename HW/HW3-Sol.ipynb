{
 "cells": [
  {
   "cell_type": "markdown",
   "metadata": {},
   "source": [
    "# Intro to Computer Programming - Solution to Homework 3 - Fall 2024 - Wilmington College"
   ]
  },
  {
   "cell_type": "markdown",
   "metadata": {},
   "source": [
    "**Exercise 1: Track Projects**\n",
    "\n",
    "You just started a new project and need to track how long each task takes to complete. Write a program that inputs the time you start the task, the time you finish the task, and the number of tasks you complete (example input in bold):\n",
    "\n",
    "    Starting hour: 14\n",
    "    Starting minute: 45\n",
    "    Ending hour: 16\n",
    "    Ending minute: 20\n",
    "    Number of tasks completed: 3\n",
    "Based on the user input, your program should calculate and display the following results:\n",
    "\n",
    "    Worked from 14:45 to 16:20\n",
    "    Total time spent: 1 hour 35 minutes\n",
    "    Average time per task: 31.67 minutes\n",
    "\n",
    "For this exercise, you need to write code that (1) calculates the total time worked, (2) calculates the average time per task, and (3) formats the output as shown. Use f-strings and format specifiers to display two-digit minutes, whole hours, and two decimal places for the average task time. Assume the use of a 24-hour clock."
   ]
  },
  {
   "cell_type": "code",
   "execution_count": 1,
   "metadata": {},
   "outputs": [
    {
     "ename": "ValueError",
     "evalue": "invalid literal for int() with base 10: ''",
     "output_type": "error",
     "traceback": [
      "\u001b[0;31m---------------------------------------------------------------------------\u001b[0m",
      "\u001b[0;31mValueError\u001b[0m                                Traceback (most recent call last)",
      "Cell \u001b[0;32mIn[1], line 5\u001b[0m\n\u001b[1;32m      1\u001b[0m \u001b[38;5;66;03m# -------------------- Solution ----------------------- #\u001b[39;00m\n\u001b[1;32m      2\u001b[0m \u001b[38;5;66;03m# Write your code here:\u001b[39;00m\n\u001b[1;32m      3\u001b[0m \n\u001b[1;32m      4\u001b[0m \u001b[38;5;66;03m# Input the starting and ending times, and the number of tasks completed\u001b[39;00m\n\u001b[0;32m----> 5\u001b[0m start_hour \u001b[38;5;241m=\u001b[39m \u001b[38;5;28;43mint\u001b[39;49m\u001b[43m(\u001b[49m\u001b[38;5;28;43minput\u001b[39;49m\u001b[43m(\u001b[49m\u001b[38;5;124;43m\"\u001b[39;49m\u001b[38;5;124;43mStarting hour: \u001b[39;49m\u001b[38;5;124;43m\"\u001b[39;49m\u001b[43m)\u001b[49m\u001b[43m)\u001b[49m\n\u001b[1;32m      6\u001b[0m start_minute \u001b[38;5;241m=\u001b[39m \u001b[38;5;28mint\u001b[39m(\u001b[38;5;28minput\u001b[39m(\u001b[38;5;124m\"\u001b[39m\u001b[38;5;124mStarting minute: \u001b[39m\u001b[38;5;124m\"\u001b[39m))\n\u001b[1;32m      7\u001b[0m end_hour \u001b[38;5;241m=\u001b[39m \u001b[38;5;28mint\u001b[39m(\u001b[38;5;28minput\u001b[39m(\u001b[38;5;124m\"\u001b[39m\u001b[38;5;124mEnding hour: \u001b[39m\u001b[38;5;124m\"\u001b[39m))\n",
      "\u001b[0;31mValueError\u001b[0m: invalid literal for int() with base 10: ''"
     ]
    }
   ],
   "source": [
    "# -------------------- Solution ----------------------- #\n",
    "# Write your code here:\n",
    "\n",
    "# Input the starting and ending times, and the number of tasks completed\n",
    "start_hour = int(input(\"Starting hour: \"))\n",
    "start_minute = int(input(\"Starting minute: \"))\n",
    "end_hour = int(input(\"Ending hour: \"))\n",
    "end_minute = int(input(\"Ending minute: \"))\n",
    "tasks_completed = int(input(\"Number of tasks completed: \"))\n",
    "\n",
    "# Calculate the total start and end times in minutes\n",
    "start_time_in_minutes = start_hour * 60 + start_minute\n",
    "end_time_in_minutes = end_hour * 60 + end_minute\n",
    "\n",
    "# Calculate the total time spent in minutes\n",
    "total_time_in_minutes = end_time_in_minutes - start_time_in_minutes\n",
    "\n",
    "# Convert total time to hours and minutes\n",
    "total_hours = total_time_in_minutes // 60\n",
    "total_minutes = total_time_in_minutes % 60\n",
    "\n",
    "# Calculate the average time spent per task in minutes\n",
    "average_time_per_task = total_time_in_minutes / tasks_completed\n",
    "\n",
    "# Output the results\n",
    "print(f\"Worked from {start_hour:02}:{start_minute:02} to {end_hour:02}:{end_minute:02}\")\n",
    "print(f\"Total time spent: {total_hours} hour(s) {total_minutes:02} minute(s)\")\n",
    "print(f\"Average time per task: {average_time_per_task:.2f} minutes\")\n"
   ]
  },
  {
   "cell_type": "markdown",
   "metadata": {},
   "source": [
    "**Exercise 2:**\n",
    "\n",
    "Write a program to complete the following:\n",
    "\n",
    "1. Create a list with the following elements: 15, 42, 7, -3, 28.\n",
    "2. Change the first element of the list (index 0) to 100.\n",
    "3. Print the resulting list and the sum of all the elements with odd indices in the list.\n"
   ]
  },
  {
   "cell_type": "code",
   "execution_count": null,
   "metadata": {},
   "outputs": [],
   "source": [
    "# -------------------- Solution ----------------------- #\n",
    "# Write your code here:\n",
    "\n",
    "# Step 1: Create a list with the specified elements\n",
    "my_list = [15, 42, 7, -3, 28]\n",
    "\n",
    "# Step 2: Change the first element of the list (index 0) to 100\n",
    "my_list[0] = 100\n",
    "\n",
    "# Step 3: Print the resulting list\n",
    "print(\"Resulting List:\", my_list)\n",
    "\n",
    "# Step 4: Calculate and print the sum of all the elements in the list\n",
    "total_sum = my_list[1] + my_list[3]\n",
    "print(\"Sum of all elements:\", total_sum)\n"
   ]
  },
  {
   "cell_type": "markdown",
   "metadata": {},
   "source": [
    "**Exercise 3: Converting a List to a Tuple**\n",
    "\n",
    "A data analyst has a list of monthly sales figures for a company and wants to store them as a tuple to prevent accidental modifications. The `tuple()` function can be used to create a tuple from a list. For example, `my_tuple = tuple(my_list)` creates a tuple from the list `my_list`.\n",
    "\n",
    "- Update the program below to create a tuple named `monthly_sales` from the list `sales_figures`. \n",
    "\n",
    "```python\n",
    "# Given list of monthly sales figures\n",
    "sales_figures = [2500, 3000, 2750, 3200, 2900]\n",
    "\n",
    "# Your code here to create a tuple named monthly_sales\n",
    "```\n",
    "\n",
    "- Since tuples are immutable, create a new tuple named updated_sales that contains all the sales figures from monthly_sales, but with a 10% increase applied to the sales for the month of March (the third month).\n"
   ]
  },
  {
   "cell_type": "code",
   "execution_count": null,
   "metadata": {},
   "outputs": [],
   "source": [
    "# -------------------- Solution ----------------------- #\n",
    "# Write your code here:\n",
    "\n",
    "# Given list of monthly sales figures\n",
    "sales_figures = [2500, 3000, 2750, 3200, 2900]\n",
    "\n",
    "# Step 1: Create the tuple\n",
    "monthly_sales = tuple(sales_figures)\n",
    "\n",
    "# Increase the March sales by 10%\n",
    "new_sales = list(monthly_sales)  # Convert to list to modify\n",
    "new_sales[2] *= 1.10  # Apply 10% increase to March (third month)\n",
    "updated_sales = tuple(new_sales)  # Return as a new tuple\n",
    "\n",
    "# Output results\n",
    "print(\"Monthly Sales:\", monthly_sales)\n",
    "print(\"Updated Sales (with March increase):\", updated_sales)\n"
   ]
  },
  {
   "cell_type": "markdown",
   "metadata": {},
   "source": [
    "**Exercise 4: alculating Distance Units**\n",
    "\n",
    "The following program reads in a distance as a float and the unit as a string: \"m\" for miles or \"k\" for kilometers.\n",
    "\n",
    "Calculate `new_distance`, the result of converting `distance` from miles to kilometers or kilometers to miles based on `unit`. Calculate `new_unit`: \"k\" if `unit` is \"m\" and \"m\" if `unit` is \"k\".\n",
    "\n",
    "**Conversion formulas:**\n",
    "\n",
    "- $Kilometers = Miles * 1.60934$\n",
    "- $Miles = Kilometers / 1.60934$"
   ]
  },
  {
   "cell_type": "code",
   "execution_count": 1,
   "metadata": {},
   "outputs": [
    {
     "name": "stdout",
     "output_type": "stream",
     "text": [
      "Converted Distance: 64.37 k\n"
     ]
    }
   ],
   "source": [
    "# -------------------- Solution ----------------------- #\n",
    "# Write your code here:\n",
    "\n",
    "distance = float(input())\n",
    "unit = input()\n",
    "\n",
    "if unit == \"m\":  # If the unit is miles\n",
    "    new_distance = distance * 1.60934  # Convert to kilometers\n",
    "    new_unit = \"k\"\n",
    "elif unit == \"k\":  # If the unit is kilometers\n",
    "    new_distance = distance / 1.60934  # Convert to miles\n",
    "    new_unit = \"m\"\n",
    "else:\n",
    "    raise ValueError(\"Unit must be 'm' for miles or 'k' for kilometers.\")\n",
    "\n",
    "print(f\"Converted Distance: {new_distance:.2f} {new_unit}\")\n"
   ]
  },
  {
   "cell_type": "markdown",
   "metadata": {},
   "source": [
    "**Exercise 5: Temperature Check**\n",
    "\n",
    "Write a program that reads in the current temperature as an integer and checks if the temperature is within a comfortable range for outdoor activities. The comfortable temperature range is defined as being between 60°F and 80°F, inclusive.\n",
    "\n",
    "If the temperature is within the comfortable range, print \"Enjoy your day outside\". Otherwise, print \"Stay indoors\".\n"
   ]
  },
  {
   "cell_type": "code",
   "execution_count": null,
   "metadata": {},
   "outputs": [],
   "source": [
    "# -------------------- Solution ----------------------- #\n",
    "# Write your code here:\n",
    "\n",
    "# Read the current temperature as an integer\n",
    "temperature = int(input(\"Enter the current temperature in °F: \"))\n",
    "\n",
    "# Check if the temperature is within the comfortable range\n",
    "if 60 <= temperature <= 80:\n",
    "    print(\"Enjoy your day outside\")\n",
    "else:\n",
    "    print(\"Stay indoors\")\n"
   ]
  },
  {
   "cell_type": "markdown",
   "metadata": {},
   "source": [
    "**Exercise 6: Sock Size Conversion**\n",
    "\n",
    "Write a program that reads in a sock size from the US sizing chart and computes the equivalent European sock size. (A subset of sizes is used.) If the input does not match S, M, L, or XL, the output should be assigned to -1. If the input is valid, output the corresponding European size. Ex: If the input is M, the output is \"40\".\n",
    "\n",
    "Size conversions for US size to European size:\n",
    "\n",
    "- S : 36\n",
    "- M : 40\n",
    "- L : 44\n",
    "- XL : 48\n"
   ]
  },
  {
   "cell_type": "code",
   "execution_count": null,
   "metadata": {},
   "outputs": [],
   "source": [
    "# -------------------- Solution ----------------------- #\n",
    "# Write your code here:\n",
    "\n",
    "# Read the sock size input\n",
    "sock_size = input()\n",
    "european_size = 0\n",
    "\n",
    "# Determine the European sock size based on the US size input\n",
    "if sock_size == \"S\":\n",
    "    european_size = 36\n",
    "elif sock_size == \"M\":\n",
    "    european_size = 40\n",
    "elif sock_size == \"L\":\n",
    "    european_size = 44\n",
    "elif sock_size == \"XL\":\n",
    "    european_size = 48\n",
    "else:\n",
    "    european_size = -1\n",
    "\n",
    "# Print the resulting European sock size\n",
    "print(european_size)\n",
    "\n"
   ]
  },
  {
   "cell_type": "markdown",
   "metadata": {},
   "source": [
    "**Exercise 7: Snack Orders**\n",
    "\n",
    "Write a program that reads in a string, \"snack\" or \"dessert\", representing the menu choice, and an integer, 1, 2, or 3, representing the user's snack or dessert choice. The program then prints the user's selection.\n",
    "\n",
    "**Snack Options:**\n",
    "\n",
    "1: Potato chips  \n",
    "2: Mixed nuts  \n",
    "3: Fruit salad  \n",
    "\n",
    "**Dessert Options:**\n",
    "\n",
    "1: Chocolate cake  \n",
    "2: Vanilla ice cream  \n",
    "3: Fruit tart  \n",
    "\n",
    "**Example:**\n",
    "\n",
    "If the input is:\n",
    "```\n",
    "dessert\n",
    "2\n",
    "```\n",
    "\n",
    "The output is:\n",
    "```\n",
    "Your order: Vanilla ice cream\n",
    "```"
   ]
  },
  {
   "cell_type": "code",
   "execution_count": null,
   "metadata": {},
   "outputs": [],
   "source": [
    "# -------------------- Solution ----------------------- #\n",
    "# Write your code here:\n",
    "\n",
    "menu_choice = input()  # Get the menu choice (snack or dessert)\n",
    "meal_choice = int(input())  # Get the meal choice (1, 2, or 3)\n",
    "\n",
    "if menu_choice == \"snack\":\n",
    "    if meal_choice == 1:\n",
    "        order = \"Potato chips\"\n",
    "    elif meal_choice == 2:\n",
    "        order = \"Mixed nuts\"\n",
    "    else:\n",
    "        order = \"Fruit salad\"\n",
    "else:  # Assume the choice is \"dessert\"\n",
    "    if meal_choice == 1:\n",
    "        order = \"Chocolate cake\"\n",
    "    elif meal_choice == 2:\n",
    "        order = \"Vanilla ice cream\"\n",
    "    else:\n",
    "        order = \"Fruit tart\"\n",
    "\n",
    "print(\"Your order:\", order)\n"
   ]
  },
  {
   "cell_type": "markdown",
   "metadata": {},
   "source": [
    "**Exercise 8: Temperature Evaluation**  \n",
    "Write a program that reads in an integer, `temperature`, and prints `temp_report`, a string indicating whether the temperature is cold, warm, or hot. Temperature values under 60 have a `temp_report` of \"cold\", values from 60 to 85 have a `temp_report` of \"warm\", and values above 85 have a `temp_report` of \"hot\". Use a conditional expression to assign `temp_report`.\n",
    "\n",
    "**Example:** If the input is 50, the output is \"Temperature is cold\"."
   ]
  },
  {
   "cell_type": "code",
   "execution_count": 2,
   "metadata": {},
   "outputs": [
    {
     "name": "stdout",
     "output_type": "stream",
     "text": [
      "Temperature is cold\n"
     ]
    }
   ],
   "source": [
    "# -------------------- Solution ----------------------- #\n",
    "# Write your code here:\n",
    "\n",
    "# Read the input temperature as an integer\n",
    "temperature = int(input())\n",
    "\n",
    "# Use a conditional expression to assign temp_report based on the temperature value\n",
    "temp_report = \"cold\" if temperature < 60 else \"warm\" if temperature <= 85 else \"hot\"\n",
    "\n",
    "# Print the result\n",
    "print(\"Temperature is\", temp_report)\n"
   ]
  }
 ],
 "metadata": {
  "kernelspec": {
   "display_name": "Python 3",
   "language": "python",
   "name": "python3"
  },
  "language_info": {
   "codemirror_mode": {
    "name": "ipython",
    "version": 3
   },
   "file_extension": ".py",
   "mimetype": "text/x-python",
   "name": "python",
   "nbconvert_exporter": "python",
   "pygments_lexer": "ipython3",
   "version": "3.12.1"
  }
 },
 "nbformat": 4,
 "nbformat_minor": 2
}
