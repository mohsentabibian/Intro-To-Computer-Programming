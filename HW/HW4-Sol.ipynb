{
 "cells": [
  {
   "cell_type": "markdown",
   "metadata": {},
   "source": [
    "## Intro to Computer Programming - Solution to Homework 4 - Fall 2024 - Wilmington College  "
   ]
  },
  {
   "cell_type": "markdown",
   "metadata": {},
   "source": [
    "### Exercise 1: Reading Numbers in a while loop\n",
    "\n",
    "Write a program that continuously prompts the user to enter a number until they input the number 0. The program should keep accepting inputs until this condition is met. Once the user enters 0, the program should print \"Loop terminated: 0 has been entered.\"\n",
    "\n",
    "Test your code with various numbers to verify that the loop continues to run until 0 is entered."
   ]
  },
  {
   "cell_type": "code",
   "execution_count": null,
   "metadata": {},
   "outputs": [],
   "source": [
    "# -------------------- Solution ----------------------- #\n",
    "# Write your code here:\n",
    "\n",
    "number = None  # Initialize the variable\n",
    "\n",
    "# Start the loop, which will continue until the user inputs 0\n",
    "while number != 0:\n",
    "    number = int(input(\"Enter a number: \"))  # Take input from the user\n",
    "    if number == 0:\n",
    "        print(\"Loop terminated: 0 has been entered.\")  # Condition met, loop ends\n",
    "\n"
   ]
  },
  {
   "cell_type": "markdown",
   "metadata": {},
   "source": [
    "### Exercise 2: Product of Even Numbers\n",
    "\n",
    "Write a program that reads two integer values, x1 and x2. Use a while loop to calculate the product of all even numbers between x1 and x2 (inclusive of x1 and x2). Remember, a number is even if number % 2 == 0. If there are no even numbers in the range, the product should be 1."
   ]
  },
  {
   "cell_type": "code",
   "execution_count": null,
   "metadata": {},
   "outputs": [],
   "source": [
    "# -------------------- Solution ----------------------- #\n",
    "# Write your code here:\n",
    "\n",
    "# Read two integer values from the user\n",
    "x1 = int(input(\"Enter the first number (x1): \"))\n",
    "x2 = int(input(\"Enter the second number (x2): \"))\n",
    "\n",
    "# Ensure that x1 is less than or equal to x2\n",
    "if x1 > x2:\n",
    "    x1, x2 = x2, x1\n",
    "\n",
    "# Initialize the product and the iterator variable\n",
    "product = 1\n",
    "current = x1\n",
    "\n",
    "# Use a while loop to calculate the product of even numbers\n",
    "while current <= x2:\n",
    "    if current % 2 == 0:  # Check if the number is even\n",
    "        product *= current\n",
    "    current += 1\n",
    "\n",
    "# If no even numbers were found, the product should remain 1\n",
    "print(\"The product of even numbers between\", x1, \"and\", x2, \"is:\", product)\n"
   ]
  },
  {
   "cell_type": "markdown",
   "metadata": {},
   "source": [
    "### Exercise 3: Counting vowels\n",
    "\n",
    "Write a program using a for loop that takes in a string as input and counts the number of vowels (a, e, i, o, u) in the provided string, regardless of case. The program must print the number of vowels counted.\n",
    "\n",
    "**Example:**\n",
    "If the input is \"Hello World\", the program outputs 3."
   ]
  },
  {
   "cell_type": "code",
   "execution_count": null,
   "metadata": {},
   "outputs": [],
   "source": [
    "# -------------------- Solution ----------------------- #\n",
    "# Write your code here:\n",
    "\n",
    "# Get the input string from the user\n",
    "user_input = input(\"Enter a string: \")\n",
    "\n",
    "# Initialize a counter for vowels\n",
    "vowel_count = 0\n",
    "\n",
    "# Define the vowels (both lowercase and uppercase)\n",
    "vowels = \"aeiouAEIOU\"\n",
    "\n",
    "# Use a for loop to iterate through each character in the input string\n",
    "for char in user_input:\n",
    "    # Check if the character is a vowel\n",
    "    if char in vowels:\n",
    "        vowel_count += 1\n",
    "\n",
    "# Print the number of vowels counted\n",
    "print(vowel_count)\n"
   ]
  },
  {
   "cell_type": "markdown",
   "metadata": {},
   "source": [
    "### Exercise 4: equences\n",
    "\n",
    "Write a program that reads two integer values, `n1` and `n2`, with `n1 < n2`, and performs the following tasks:\n",
    "\n",
    "1. Prints all multiples of 3 between the two provided numbers (inclusive of both), in ascending order.\n",
    "2. Prints all multiples of 5 between the two provided numbers (exclusive of both), in descending order.\n",
    "\n",
    "**Input:**  \n",
    "`3 30`\n",
    "\n",
    "**Expected Output:**  \n",
    "```\n",
    "3 6 9 12 15 18 21 24 27 30\n",
    "25 20 15 10\n",
    "```"
   ]
  },
  {
   "cell_type": "code",
   "execution_count": null,
   "metadata": {},
   "outputs": [],
   "source": [
    "# -------------------- Solution ----------------------- #\n",
    "# Write your code here:\n",
    "\n",
    "n1 = int(input(\"Enter an integer: \"))\n",
    "n2 = int(input(\"Enter another integer larger than the first one: \"))\n",
    "\n",
    "if n2 <= n1:\n",
    "    print(\"Error: n2 must be greater than n1.\")\n",
    "else:\n",
    "    # Printing multiples of 3 in increasing order (inclusive)\n",
    "    for i in range(n1, n2 + 1):\n",
    "        if i % 3 == 0:\n",
    "            print(i, end=' ')\n",
    "    \n",
    "    print()\n",
    "    \n",
    "    # Printing multiples of 5 in decreasing order (exclusive)\n",
    "    for i in range(n2 - 1, n1, -1):\n",
    "        if i % 5 == 0:\n",
    "            print(i, end=' ')"
   ]
  },
  {
   "cell_type": "markdown",
   "metadata": {},
   "source": [
    "### Exercise 5: Printing a Reverse Triangle of Stars\n",
    " \n",
    "Write a program that prints the following output:\n",
    "\n",
    "```\n",
    "*********\n",
    " ********\n",
    "  ********\n",
    "   ********\n",
    "    ********\n",
    "     ********\n",
    "      ********\n",
    "       ********\n",
    "        ********\n",
    "```"
   ]
  },
  {
   "cell_type": "code",
   "execution_count": null,
   "metadata": {},
   "outputs": [],
   "source": [
    "# -------------------- Solution ----------------------- #\n",
    "# Write your code here:\n",
    "\n",
    "rows = 9\n",
    "i = 0\n",
    "\n",
    "while i < rows:\n",
    "    # Print leading spaces\n",
    "    j = 0\n",
    "    while j < i:\n",
    "        print(\" \", end=\"\")\n",
    "        j += 1\n",
    "\n",
    "    # Print stars\n",
    "    k = rows - i\n",
    "    while k > 0:\n",
    "        print(\"*\", end=\"\")\n",
    "        k -= 1\n",
    "        \n",
    "    print()  # Move to the next line\n",
    "    i += 1"
   ]
  },
  {
   "cell_type": "markdown",
   "metadata": {},
   "source": [
    "### Exercise 6: Using the break Control Statement in a Loop\n",
    "Write a program that reads a string value and prints \"Found\" if the string contains the letter 'a'. Otherwise, print \"Not found\".\n"
   ]
  },
  {
   "cell_type": "code",
   "execution_count": null,
   "metadata": {},
   "outputs": [],
   "source": [
    "# -------------------- Solution ----------------------- #\n",
    "# Write your code here:\n",
    "\n",
    "usr = input(\"Enter a string: \")\n",
    "\n",
    "# Printing the given input\n",
    "print(\"You have entered:\", usr)\n",
    "\n",
    "found = False\n",
    "\n",
    "# Iterating through the string and checking if the letter 'a' exists\n",
    "for c in usr:\n",
    "    if c == 'a':\n",
    "        print(\"Found\")\n",
    "        found = True\n",
    "        break\n",
    "\n",
    "# Printing Not Found otherwise\n",
    "if not found:\n",
    "    print(\"Not Found\")"
   ]
  },
  {
   "cell_type": "markdown",
   "metadata": {},
   "source": [
    "### Exercise 7: Using a break statement in a loop\n",
    "\n",
    "Complete the following code so that the program finds the first number in the list my_list that is less than 3. The program should print that number and stop checking the rest of the list."
   ]
  },
  {
   "cell_type": "code",
   "execution_count": null,
   "metadata": {},
   "outputs": [],
   "source": [
    "# -------------------- Solution ----------------------- #\n",
    "# Write your code here:\n",
    "\n",
    "my_list = [4, 5, 7, 2, 8, 1, 6]\n",
    "\n",
    "for i in my_list:\n",
    "    if i >= 3:\n",
    "        continue\n",
    "    else:\n",
    "        print(i)\n",
    "        break\n"
   ]
  },
  {
   "cell_type": "markdown",
   "metadata": {},
   "source": [
    "### Exercise 8: Sum of Even Values Greater than 5\n",
    "\n",
    "Write a program that, given a list, calculates the sum of all even integer values greater than 5. If a value less than or equal to 5 is found in the list, no output should be printed. Test the code with different values in the list."
   ]
  },
  {
   "cell_type": "code",
   "execution_count": null,
   "metadata": {},
   "outputs": [],
   "source": [
    "# -------------------- Solution ----------------------- #\n",
    "# Write your code here:\n",
    "\n",
    "list1 = [6, 8, 10, 12, 3, 4]\n",
    "list2 = [2, 5, 6, 7]\n",
    "\n",
    "total = 0\n",
    "\n",
    "for i in list1:\n",
    "    if i <= 5:\n",
    "        break\n",
    "    if i % 2 == 0:\n",
    "        total += i\n",
    "else:\n",
    "    print(\"sum =\", total)"
   ]
  },
  {
   "cell_type": "markdown",
   "metadata": {},
   "source": [
    "### Exercise 9: Prime Fibonacci Numbers\n",
    "Write a program that takes in a positive integer number (N) and prints out the first N prime numbers from the Fibonacci sequence on separate lines.\n",
    "\n",
    "Note: A prime number is a number greater than 1 that has no positive divisors other than 1 and itself. To check whether a number is prime, you can use the condition `number % i != 0` for `i` greater than 1 and less than `number`. The Fibonacci sequence starts with 0 and 1, and each subsequent number is the sum of the two preceding ones. \n",
    "\n",
    "Ex: if N = 4, the output is:\n",
    "\n",
    "```\n",
    "2\n",
    "3\n",
    "5\n",
    "13\n",
    "```\n",
    "\n",
    "**Instructions:**\n",
    "\n",
    "1. Read the input value N from the user.\n",
    "2. Generate Fibonacci numbers and check for primality until you find the first N prime numbers.\n",
    "3. Print the prime Fibonacci numbers.\n"
   ]
  },
  {
   "cell_type": "code",
   "execution_count": null,
   "metadata": {},
   "outputs": [],
   "source": [
    "# -------------------- Solution ----------------------- #\n",
    "# Write your code here:\n",
    "\n",
    "N = int(input())\n",
    "prime_count = 0\n",
    "a = 0\n",
    "b = 1\n",
    "\n",
    "while prime_count < N:\n",
    "    # Generate the next Fibonacci number\n",
    "    if prime_count == 0:\n",
    "        fib_num = a\n",
    "    elif prime_count == 1:\n",
    "        fib_num = b\n",
    "    else:\n",
    "        fib_num = a + b\n",
    "        a = b\n",
    "        b = fib_num\n",
    "    \n",
    "    # Check if the Fibonacci number is prime\n",
    "    if fib_num > 1:  # Check only for numbers greater than 1\n",
    "        is_prime = True\n",
    "        for i in range(2, int(fib_num**0.5) + 1):  # Check for factors up to the square root\n",
    "            if fib_num % i == 0:\n",
    "                is_prime = False\n",
    "                break\n",
    "        \n",
    "        # If it is prime, print it and increment the count\n",
    "        if is_prime:\n",
    "            print(fib_num)\n",
    "            prime_count += 1"
   ]
  }
 ],
 "metadata": {
  "kernelspec": {
   "display_name": "Python 3",
   "language": "python",
   "name": "python3"
  },
  "language_info": {
   "codemirror_mode": {
    "name": "ipython",
    "version": 3
   },
   "file_extension": ".py",
   "mimetype": "text/x-python",
   "name": "python",
   "nbconvert_exporter": "python",
   "pygments_lexer": "ipython3",
   "version": "3.12.1"
  }
 },
 "nbformat": 4,
 "nbformat_minor": 2
}
