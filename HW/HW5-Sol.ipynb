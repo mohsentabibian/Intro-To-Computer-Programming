{
 "cells": [
  {
   "cell_type": "markdown",
   "metadata": {},
   "source": [
    "## Intro to Computer Programming - Solution to Homework 5 - Fall 2024 - Wilmington College  \n"
   ]
  },
  {
   "cell_type": "markdown",
   "metadata": {},
   "source": [
    "### Exercise 1: Survey Consent Prompt\n",
    "\n",
    "Write a function, `survey_consent()`, that asks the user if they consent to participate in a survey. The user responds with \"Yes\" or \"No\", and the function outputs a response based on their input. In the main program, read the number of respondents and call `survey_consent()` for each user.\n",
    "\n",
    "Given inputs 1 and \"Yes\", the output is:\n",
    "\n",
    "```\n",
    "Do you consent to participate in the survey?\n",
    "Yes\n",
    "Thank you for consenting to participate.\n",
    "```\n",
    "\n",
    "Given inputs 2, \"No\", and \"Yes\", the output is:\n",
    "\n",
    "```\n",
    "Do you consent to participate in the survey?\n",
    "No\n",
    "We respect your decision.\n",
    "Do you consent to participate in the survey?\n",
    "Yes\n",
    "Thank you for consenting to participate.\n",
    "```"
   ]
  },
  {
   "cell_type": "code",
   "execution_count": null,
   "metadata": {},
   "outputs": [],
   "source": [
    "# -------------------- Solution ----------------------- #\n",
    "# Write your code here:\n",
    "\n",
    "def survey_consent():\n",
    "    print(\"Do you consent to participate in the survey?\")\n",
    "    response = input()\n",
    "    if response == \"Yes\":\n",
    "        print(\"Thank you for consenting to participate.\")\n",
    "    else:\n",
    "        print(\"We respect your decision.\")\n",
    "\n",
    "# Main program\n",
    "num_respondents = int(input())\n",
    "for i in range(num_respondents):\n",
    "    survey_consent()"
   ]
  },
  {
   "cell_type": "markdown",
   "metadata": {},
   "source": [
    "### Exercise 2: Coffee Shop Information\n",
    "\n",
    "Write a program that uses three functions to print information about a coffee shop, Java Junction:\n",
    "\n",
    "1. **coffee_shop_info()**: Prints the name, Java Junction, and hours of operation, 6a - 8p, and calls drinks_available() and pastries_available().\n",
    "2. **drinks_available()**: Reads an integer, assigns drink_count with the value, and prints drink_count.\n",
    "3. **pastries_available()**: Reads an integer, assigns pastry_count with the value, and prints pastry_count.\n",
    "\n",
    "The main program should just call coffee_shop_info().\n",
    "\n",
    "Given inputs 70 and 30, the output should be:\n",
    "\n",
    "```\n",
    "Java Junction\n",
    "6a - 8p\n",
    " Open drinks: 70\n",
    " Open pastries: 30\n",
    "```"
   ]
  },
  {
   "cell_type": "code",
   "execution_count": null,
   "metadata": {},
   "outputs": [],
   "source": [
    "# -------------------- Solution ----------------------- #\n",
    "# Write your code here:\n",
    "\n",
    "def drinks_available():\n",
    "    drink_count = int(input())\n",
    "    print(\"  Open drinks:\", drink_count)\n",
    "\n",
    "def pastries_available():\n",
    "    pastry_count = int(input())\n",
    "    print(\"  Open pastries:\", pastry_count)\n",
    "\n",
    "def coffee_shop_info():\n",
    "    print(\"Java Junction\")\n",
    "    print(\"6a - 8p\")\n",
    "    drinks_available()\n",
    "    pastries_available()\n",
    "\n",
    "coffee_shop_info()"
   ]
  },
  {
   "cell_type": "markdown",
   "metadata": {},
   "source": [
    "### Exercise 3: Escape Room Game Launch\n",
    "\n",
    "Write a program that reads in a selected game mode and calls one of two functions to launch the game. If the input is \"er\", call `escape_room()`. Otherwise, call `team_building()`.\n",
    "\n",
    "`escape_room()`:\n",
    "1. Reads in the number of players.\n",
    "2. Computes the number of additional players needed to form a full team of 4 players.\n",
    "3. Calls the function `find_additional_players()` with the calculated number.\n",
    "4. Prints \"Escape Room is starting...\".\n",
    "\n",
    "`team_building()`:\n",
    "1. Reads in a string representing the desired activity.\n",
    "2. Prints \"Starting team building with [desired activity]\".\n",
    "\n",
    "Note: `find_additional_players()` is provided and does not need to be edited.\n",
    "\n",
    "**Given input:**\n",
    "\n",
    "```\n",
    "er\n",
    "2\n",
    "```\n",
    "\n",
    "**The output is:**\n",
    "\n",
    "```\n",
    "Finding 2 additional players...\n",
    "Escape Room is starting...\n",
    "```\n",
    "\n",
    "**Given input:**\n",
    "\n",
    "```\n",
    "tb\n",
    "Trust Fall\n",
    "```\n",
    "\n",
    "**The output is:**\n",
    "\n",
    "```\n",
    "Starting team building with Trust Fall\n",
    "```"
   ]
  },
  {
   "cell_type": "code",
   "execution_count": null,
   "metadata": {},
   "outputs": [],
   "source": [
    "# -------------------- Solution ----------------------- #\n",
    "# Write your code here:\n",
    "\n",
    "def find_additional_players(num):\n",
    "    print(\"Finding\", num, \"additional players...\")\n",
    "\n",
    "def escape_room():\n",
    "    nplayers = int(input())\n",
    "    additional_players = 4 - nplayers\n",
    "    find_additional_players(additional_players)  \n",
    "    print(\"Escape Room is starting...\")\n",
    "\n",
    "def team_building():\n",
    "    activity = input()\n",
    "    print(\"Starting team building with\", activity)\n",
    "\n",
    "game_mode = input()\n",
    "if game_mode == \"er\":\n",
    "    escape_room()\n",
    "else:\n",
    "    team_building()"
   ]
  },
  {
   "cell_type": "markdown",
   "metadata": {},
   "source": [
    "### Exercise 4: Printing Rectangle Area\n",
    "Write a function, `print_rectangle_area()`, that takes in the length and width of a rectangle and prints the rectangle's area. The area of a rectangle is given by the formula $ l \\times w $, where $ l $ is the length and $ w $ is the width.\n",
    "\n",
    "**Given input:**\n",
    "\n",
    "```\n",
    "5\n",
    "3\n",
    "```\n",
    "\n",
    "**The output is:**\n",
    "\n",
    "```\n",
    "Rectangle area: 15.0\n",
    "```\n"
   ]
  },
  {
   "cell_type": "code",
   "execution_count": null,
   "metadata": {},
   "outputs": [],
   "source": [
    "# -------------------- Solution ----------------------- #\n",
    "# Write your code here:\n",
    "\n",
    "def print_rectangle_area(length, width):\n",
    "    area = length * width\n",
    "    print(\"Rectangle area:\", area)\n",
    "\n",
    "length = float(input())\n",
    "width = float(input())\n",
    "print_rectangle_area(length, width)"
   ]
  },
  {
   "cell_type": "markdown",
   "metadata": {},
   "source": [
    "### Exercise 5: maxing lists\n",
    "\n",
    "Write a function, `max_list()`, that takes in a list and returns the maximum value from the list.\n"
   ]
  },
  {
   "cell_type": "code",
   "execution_count": null,
   "metadata": {},
   "outputs": [],
   "source": [
    "# -------------------- Solution ----------------------- #\n",
    "# Write your code here:\n",
    "\n",
    "def max_list(val_list):\n",
    "    max_val = val_list[0]  # Start with the first element as the maximum\n",
    "    for val in val_list:\n",
    "        if val > max_val:\n",
    "            max_val = val\n",
    "    return max_val\n",
    "\n",
    "list1 = [34, 29, 77, 30, 48, 92]\n",
    "print(list1)\n",
    "print(f\"Max is: {max_list(list1)}\")\n",
    "list2 = [4, 2, 12, 8, 8]\n",
    "print(list2)\n",
    "print(f\"Max is: {max_list(list2)}\")"
   ]
  },
  {
   "cell_type": "markdown",
   "metadata": {},
   "source": [
    "### Exercise 6: Stream Subscription\n",
    "\n",
    "Write a function, `subscribe()`, that allows a viewer to subscribe to a streamer. `subscribe()` has three parameters:\n",
    "\n",
    "- `tier`: subscription tier, default value: \"Basic\"\n",
    "- `name`: subscriber's name, default value: \"Guest\"\n",
    "- `msg`: subscriber's message, default value: \"\"\n",
    "\n",
    "Given:\n",
    "\n",
    "```python\n",
    "subscribe(\"Premium\", \"Alex\")\n",
    "```\n",
    "\n",
    "The output should be:\n",
    "\n",
    "```\n",
    "Guest subscribed to Premium tier: Welcome Alex!\n",
    "```\n",
    "\n",
    "Write function calls that use the default values along with positional and keyword arguments."
   ]
  },
  {
   "cell_type": "code",
   "execution_count": null,
   "metadata": {},
   "outputs": [],
   "source": [
    "# -------------------- Solution ----------------------- #\n",
    "# Write your code here:\n",
    "def subscribe(tier=\"Basic\", name=\"Guest\", msg=\"\"):\n",
    "    print(name, \"subscribed to\", tier, \"tier:\", msg if msg else \"Thank you for subscribing!\")\n",
    "\n",
    "# Function calls using default values and arguments\n",
    "subscribe()  # All default values\n",
    "subscribe(name=\"Sam\")  # Default tier and message\n",
    "subscribe(\"Pro\", msg=\"Excited to join!\")  # Positional and keyword arguments\n",
    "subscribe(tier=\"Premium\", name=\"Alex\")  # Positional arguments"
   ]
  }
 ],
 "metadata": {
  "kernelspec": {
   "display_name": "Python 3",
   "language": "python",
   "name": "python3"
  },
  "language_info": {
   "codemirror_mode": {
    "name": "ipython",
    "version": 3
   },
   "file_extension": ".py",
   "mimetype": "text/x-python",
   "name": "python",
   "nbconvert_exporter": "python",
   "pygments_lexer": "ipython3",
   "version": "3.12.1"
  }
 },
 "nbformat": 4,
 "nbformat_minor": 2
}
