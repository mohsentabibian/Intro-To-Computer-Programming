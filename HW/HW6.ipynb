{
 "cells": [
  {
   "cell_type": "markdown",
   "metadata": {},
   "source": [
    "## Intro to Computer Programming - Homework 6 - Fall 2024 - Wilmington College  \n",
    "**Due Date: November 8, 2024, 23:59**"
   ]
  },
  {
   "cell_type": "markdown",
   "metadata": {},
   "source": [
    "### Exercise 1: Event Countdown\n",
    "\n",
    "Write a Python program that calculates the time remaining until a future event. For this exercise, create a date object for an event of your choice (for example, New Year's Day or a friend's wedding date). Get the current date and time using `datetime.now()`. Calculate the difference between the event date and the current date, and output the results in the following format:\n",
    "\n",
    "```plaintext\n",
    "Today's date and time: 2023-06-01 12:34:56\n",
    "Event date: 2023-12-31\n",
    "\n",
    "There are 213 days until the event\n",
    "(That's about 18379 hours, or 66204000 seconds)\n",
    "```"
   ]
  },
  {
   "cell_type": "code",
   "execution_count": null,
   "metadata": {},
   "outputs": [
    {
     "name": "stdout",
     "output_type": "stream",
     "text": [
      "Today's date and time: 2024-11-05 01:32:37\n",
      "Event date: 2023-12-31\n",
      "\n",
      "There are -311 days until the event\n",
      "(That's about -7442 hours, or -26789557 seconds)\n"
     ]
    }
   ],
   "source": [
    "# -------------------- Solution ----------------------- #\n",
    "# Write your code here:\n"
   ]
  },
  {
   "cell_type": "markdown",
   "metadata": {},
   "source": [
    "### Exercise 2: Distance and Time Conversion Test\n",
    "\n",
    "Write functions named `meters_to_yards`, `yards_to_meters`, `hours_to_minutes`, and `minutes_to_hours` with the following formula, and store it as `conversion.py`:\n",
    "\n",
    "$$\n",
    "Yards = meters \\times 1.09361 \\\\\n",
    "Meters = yards / 1.09361 \\\\\n",
    "Hours = Minutes \\times 60 \\\\\n",
    "Minutes = Hours / 60\n",
    "$$\n",
    "\n",
    "\n",
    "Then, write test code at the end of `conversion.py` to validate each of these functions. The test code should not execute if `conversion.py` is imported into other programs, only when it is run as the main program. The output for `conversion.py` when executed should be:\n",
    "\n",
    "```\n",
    "10 meters is 10.9 yards\n",
    "20 meters is 21.9 yards\n",
    "30 meters is 32.8 yards\n",
    "40 meters is 43.7 yards\n",
    "50 meters is 54.7 yards\n",
    "\n",
    "10 yards is 9.1 meters\n",
    "20 yards is 18.3 meters\n",
    "30 yards is 27.4 meters\n",
    "40 yards is 36.6 meters\n",
    "50 yards is 45.7 meters\n",
    "\n",
    "1 hour is 60 minutes\n",
    "2 hours is 120 minutes\n",
    "3 hours is 180 minutes\n",
    "4 hours is 240 minutes\n",
    "5 hours is 300 minutes\n",
    "\n",
    "60 minutes is 1.0 hours\n",
    "120 minutes is 2.0 hours\n",
    "180 minutes is 3.0 hours\n",
    "240 minutes is 4.0 hours\n",
    "300 minutes is 5.0 hours\n",
    "```\n"
   ]
  },
  {
   "cell_type": "code",
   "execution_count": null,
   "metadata": {},
   "outputs": [],
   "source": [
    "# -------------------- Solution ----------------------- #\n",
    "# Write your code here:\n"
   ]
  }
 ],
 "metadata": {
  "kernelspec": {
   "display_name": "Python 3",
   "language": "python",
   "name": "python3"
  },
  "language_info": {
   "codemirror_mode": {
    "name": "ipython",
    "version": 3
   },
   "file_extension": ".py",
   "mimetype": "text/x-python",
   "name": "python",
   "nbconvert_exporter": "python",
   "pygments_lexer": "ipython3",
   "version": "3.12.1"
  }
 },
 "nbformat": 4,
 "nbformat_minor": 2
}
