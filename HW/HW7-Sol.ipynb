{
 "cells": [
  {
   "cell_type": "markdown",
   "metadata": {},
   "source": [
    "## Intro to Computer Programming - Solution to Homework 7 - Fall 2024 - Wilmington College  "
   ]
  },
  {
   "cell_type": "markdown",
   "metadata": {},
   "source": [
    "### Exercise 1: Is it a vowel?\n",
    "\n",
    "Given the string, `char_input`, which is a one-character string object, check if the character is a vowel (`a`, `e`, `i`, `o`, `u`) regardless of its case (uppercase or lowercase). If it is a vowel, print `True`. Otherwise, print `False`.\n"
   ]
  },
  {
   "cell_type": "code",
   "execution_count": 6,
   "metadata": {},
   "outputs": [
    {
     "name": "stdout",
     "output_type": "stream",
     "text": [
      "True\n"
     ]
    }
   ],
   "source": [
    "# -------------------- Solution ----------------------- #\n",
    "# Write your code here:\n",
    "\n",
    "# Input string\n",
    "char_input = input(\"Enter a single character: \")\n",
    "\n",
    "# Convert the input to lowercase and check if it is a vowel\n",
    "is_vowel = char_input.lower() in \"aeiou\"\n",
    "\n",
    "# Print the result\n",
    "print(is_vowel)"
   ]
  },
  {
   "cell_type": "markdown",
   "metadata": {},
   "source": [
    "### Exercise 2: Editing the string at specified locations\n",
    "\n",
    "Given a string `string_variable` and a list of indices, replace the characters at the specified indices with an asterisk (`*`) and print the resulting string.\n",
    "\n",
    "```\n",
    "string_variable = \"example\"\n",
    "indices = [1, 3, 5]\n",
    "```\n",
    "\n",
    "**Output:**\n",
    "```\n",
    "e*a*p*e\n",
    "```"
   ]
  },
  {
   "cell_type": "code",
   "execution_count": 7,
   "metadata": {},
   "outputs": [
    {
     "name": "stdout",
     "output_type": "stream",
     "text": [
      "e*a*p*e\n"
     ]
    }
   ],
   "source": [
    "# -------------------- Solution ----------------------- #\n",
    "# Write your code here:\n",
    "\n",
    "def edit_string(string_variable, indices):\n",
    "    # Convert the string to a list of characters (since strings are immutable)\n",
    "    char_list = list(string_variable)\n",
    "\n",
    "    # Replace characters at specified indices with '*'\n",
    "    for index in indices:\n",
    "        if 0 <= index < len(char_list):  # Ensure the index is within bounds\n",
    "            char_list[index] = '*'\n",
    "    \n",
    "    # Join the list back into a string\n",
    "    result = ''.join(char_list)\n",
    "    print(result)\n",
    "\n",
    "# Test the function\n",
    "string_variable = \"example\"\n",
    "indices = [1, 3, 5]\n",
    "edit_string(string_variable, indices)"
   ]
  },
  {
   "cell_type": "markdown",
   "metadata": {},
   "source": [
    "### Exercise 3: Finding All Vowels\n",
    "\n",
    "Write a program that, given a string, counts the number of vowel characters (`a`, `e`, `i`, `o`, `u`) in the string. Also, print the given string with all vowels removed.\n",
    "\n",
    "**Input:**\n",
    "\n",
    "```\n",
    "\"This is a wonderful day\"\n",
    "```\n",
    "\n",
    "**Expected Output:**\n",
    "\n",
    "```\n",
    "7\n",
    "Ths s  wndrfl dy\n",
    "```"
   ]
  },
  {
   "cell_type": "code",
   "execution_count": 8,
   "metadata": {},
   "outputs": [
    {
     "name": "stdout",
     "output_type": "stream",
     "text": [
      "7\n",
      "Ths s  wndrfl dy\n"
     ]
    }
   ],
   "source": [
    "# -------------------- Solution ----------------------- #\n",
    "# Write your code here:\n",
    "\n",
    "def find_vowels(input_string):\n",
    "    vowels = \"aeiouAEIOU\"\n",
    "    count = sum(1 for char in input_string if char in vowels)\n",
    "    string_without_vowels = ''.join(char for char in input_string if char not in vowels)\n",
    "    \n",
    "    print(count)\n",
    "    print(string_without_vowels)\n",
    "\n",
    "# Test the function\n",
    "input_string = \"This is a wonderful day\"\n",
    "find_vowels(input_string)"
   ]
  },
  {
   "cell_type": "markdown",
   "metadata": {},
   "source": [
    "### Exercise 4: Formatted Table\n",
    "\n",
    "Create a Python program to display a formatted table of a company's employee details. The table should include columns for \"Employee Name,\" \"Department,\" and \"Salary.\"\n",
    "\n",
    "\n",
    "```\n",
    "Employee Name        Department           Salary    \n",
    "--------------------------------------------------\n",
    "Alice Smith          Marketing            $75,000   \n",
    "Bob Johnson          Engineering          $85,000   \n",
    "Charlie Brown        HR                   $70,000\n",
    "```"
   ]
  },
  {
   "cell_type": "code",
   "execution_count": 9,
   "metadata": {},
   "outputs": [
    {
     "name": "stdout",
     "output_type": "stream",
     "text": [
      "Employee Name        Department           Salary    \n",
      "--------------------------------------------------\n",
      "Alice Smith          Marketing            $75,000    \n",
      "Bob Johnson          Engineering          $85,000    \n",
      "Charlie Brown        HR                   $70,000    \n"
     ]
    }
   ],
   "source": [
    "# -------------------- Solution ----------------------- #\n",
    "# Write your code here:\n",
    "\n",
    "# Employee data as lists\n",
    "employee_names = [\"Alice Smith\", \"Bob Johnson\", \"Charlie Brown\"]\n",
    "departments = [\"Marketing\", \"Engineering\", \"HR\"]\n",
    "salaries = [75000, 85000, 70000]\n",
    "\n",
    "# Print the table header\n",
    "print(f\"{'Employee Name':<20} {'Department':<20} {'Salary':<10}\")\n",
    "print(\"-\" * 50)\n",
    "\n",
    "# Print each employee's details in the formatted table\n",
    "for i in range(len(employee_names)):\n",
    "    print(f\"{employee_names[i]:<20} {departments[i]:<20} ${salaries[i]:<10,}\")\n"
   ]
  },
  {
   "cell_type": "markdown",
   "metadata": {},
   "source": [
    "### Exercise 4: Favorite Books Order\n",
    "Write a Python program that allows the user to input their favorite books one by one. The user should enter each book on a separate line. When finished, the user will enter a blank line. The program will output a sentence based on the number of books entered:\n",
    "\n",
    "- If the user inputs nothing, the program should output:  \n",
    "  \"You have no favorite books.\"\n",
    "  \n",
    "- If the user inputs one book, the program should output:  \n",
    "  \"Your favorite book is [book].\"\n",
    "  \n",
    "- If the user inputs two books, the program should output:  \n",
    "  \"Your favorite books are [book1] and [book2].\"\n",
    "  \n",
    "- If the user inputs three or more books, the program should output:  \n",
    "  \"Your favorite books are [book1], [book2], and [book3].\""
   ]
  },
  {
   "cell_type": "code",
   "execution_count": 10,
   "metadata": {},
   "outputs": [
    {
     "name": "stdout",
     "output_type": "stream",
     "text": [
      "You have no favorite books.\n"
     ]
    }
   ],
   "source": [
    "# -------------------- Solution ----------------------- #\n",
    "# Write your code here:\n",
    "\n",
    "def favorite_books():\n",
    "    books = []\n",
    "    \n",
    "    # Input loop until the user enters a blank line\n",
    "    while True:\n",
    "        book = input(\"Enter a favorite book (or press Enter to finish): \")\n",
    "        if book == \"\":\n",
    "            break\n",
    "        books.append(book)\n",
    "    \n",
    "    # Conditional outputs based on the number of books\n",
    "    if len(books) == 0:\n",
    "        print(\"You have no favorite books.\")\n",
    "    elif len(books) == 1:\n",
    "        print(f\"Your favorite book is {books[0]}.\")\n",
    "    elif len(books) == 2:\n",
    "        print(f\"Your favorite books are {books[0]} and {books[1]}.\")\n",
    "    else:\n",
    "        print(f\"Your favorite books are {', '.join(books[:-1])}, and {books[-1]}.\")\n",
    "\n",
    "# Call the function to run the program\n",
    "favorite_books()"
   ]
  }
 ],
 "metadata": {
  "kernelspec": {
   "display_name": "Python 3",
   "language": "python",
   "name": "python3"
  },
  "language_info": {
   "codemirror_mode": {
    "name": "ipython",
    "version": 3
   },
   "file_extension": ".py",
   "mimetype": "text/x-python",
   "name": "python",
   "nbconvert_exporter": "python",
   "pygments_lexer": "ipython3",
   "version": "3.12.1"
  }
 },
 "nbformat": 4,
 "nbformat_minor": 2
}
