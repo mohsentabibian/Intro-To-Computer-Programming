{
 "cells": [
  {
   "cell_type": "markdown",
   "metadata": {},
   "source": [
    "## Intro to Computer Programming - Solution to Homework 8 - Fall 2024 - Wilmington College  "
   ]
  },
  {
   "cell_type": "markdown",
   "metadata": {},
   "source": [
    "### Exercise 1: Favorite Movies List\n",
    "\n",
    "Create a list of favorite movies. The initial list should include \"Inception,\" \"Interstellar,\" \"The Matrix,\" and \"The Dark Knight.\"\n",
    "\n",
    "Next, add \"Forrest Gump\" to the list.\n",
    "\n",
    "Then, remove \"The Matrix\" from the list and add \"Pulp Fiction\" to the list.\n",
    "\n",
    "Show the list contents after each modification.\n"
   ]
  },
  {
   "cell_type": "code",
   "execution_count": 1,
   "metadata": {},
   "outputs": [
    {
     "name": "stdout",
     "output_type": "stream",
     "text": [
      "['Inception', 'Interstellar', 'The Matrix', 'The Dark Knight']\n",
      "['Inception', 'Interstellar', 'The Matrix', 'The Dark Knight', 'Forrest Gump']\n",
      "['Inception', 'Interstellar', 'The Dark Knight', 'Forrest Gump']\n",
      "['Inception', 'Interstellar', 'The Dark Knight', 'Forrest Gump', 'Pulp Fiction']\n"
     ]
    }
   ],
   "source": [
    "# -------------------- Solution ----------------------- #\n",
    "# Write your code here:\n",
    "\n",
    "# Initial list of favorite movies\n",
    "movie_list = [\"Inception\", \"Interstellar\", \"The Matrix\", \"The Dark Knight\"]\n",
    "\n",
    "# Display the initial list\n",
    "print(movie_list)\n",
    "\n",
    "# Add \"Forrest Gump\" to the list\n",
    "movie_list.append(\"Forrest Gump\")\n",
    "\n",
    "# Display the list after addition\n",
    "print(movie_list)\n",
    "\n",
    "# Remove \"The Matrix\" from the list\n",
    "movie_list.remove(\"The Matrix\")\n",
    "\n",
    "# Display the list after removal\n",
    "print(movie_list)\n",
    "\n",
    "# Add \"Pulp Fiction\" to the list\n",
    "movie_list.append(\"Pulp Fiction\")\n",
    "\n",
    "# Display the final list\n",
    "print(movie_list)"
   ]
  },
  {
   "cell_type": "markdown",
   "metadata": {},
   "source": [
    "### Exercise 2: Simple Searching for a Book\n",
    "\n",
    "Write a program that prints \"Book found!\" if \"The Great Gatsby\" is found in the given list of books.\n",
    "\n",
    "```python\n",
    "book_list = [\"1984\", \"To Kill a Mockingbird\", \"The Great Gatsby\", \"Moby Dick\", \"Pride and Prejudice\"]\n",
    "\n",
    "```  \n"
   ]
  },
  {
   "cell_type": "code",
   "execution_count": null,
   "metadata": {},
   "outputs": [
    {
     "name": "stdout",
     "output_type": "stream",
     "text": [
      "found!\n"
     ]
    }
   ],
   "source": [
    "# -------------------- Solution ----------------------- #\n",
    "# Write your code here:\n",
    "\n",
    "# List of books\n",
    "book_list = [\"1984\", \"To Kill a Mockingbird\", \"The Great Gatsby\", \"Moby Dick\", \"Pride and Prejudice\"]\n",
    "\n",
    "# Using an iterative for loop to check if \"The Great Gatsby\" is in the list\n",
    "for book in book_list:\n",
    "    if book == \"The Great Gatsby\":\n",
    "        print(\"Book found!\")\n",
    "        break  # Exit the loop once the book is found"
   ]
  },
  {
   "cell_type": "markdown",
   "metadata": {},
   "source": [
    "### Exercise 3: Sorting and Reversing\n",
    "\n",
    "Complete the program below to arrange and print the ages of students in both ascending and descending order.\n",
    "\n",
    "```python\n",
    "# List of student ages\n",
    "age_list = [18, 22, 21, 19, 25, 20, 23, 17, 21, 24]\n",
    "```"
   ]
  },
  {
   "cell_type": "code",
   "execution_count": null,
   "metadata": {},
   "outputs": [
    {
     "name": "stdout",
     "output_type": "stream",
     "text": [
      "Ascending order: [-101, -23, -3, 2, 3, 22, 32, 45, 75, 94, 699]\n",
      "Descending order: [699, 94, 75, 45, 32, 22, 3, 2, -3, -23, -101]\n"
     ]
    }
   ],
   "source": [
    "# -------------------- Solution ----------------------- #\n",
    "# Write your code here:\n",
    "\n",
    "# List of student ages\n",
    "age_list = [18, 22, 21, 19, 25, 20, 23, 17, 21, 24]\n",
    "\n",
    "# To sort in ascending order use the list sort() function\n",
    "age_list.sort()\n",
    "print(age_list)\n",
    "\n",
    "# Sorting in descending order is simply reversing the already sorted list\n",
    "age_list.reverse()\n",
    "print(age_list)"
   ]
  },
  {
   "cell_type": "markdown",
   "metadata": {},
   "source": [
    "### Exercise 4: Copy and Sort Example\n",
    "\n",
    "Make a copy of the list `shopping_list` called `sorted_shopping`. Sort the list `sorted_shopping`. Create a sentence using the words in each list and print those sentences (no need to add periods at the end of the sentences).\n",
    "\n",
    "```python\n",
    "# List of shopping items\n",
    "shopping_list = [\"apples\", \"bananas\", \"milk\", \"bread\", \"eggs\", \"butter\"]\n",
    "```"
   ]
  },
  {
   "cell_type": "code",
   "execution_count": null,
   "metadata": {},
   "outputs": [
    {
     "name": "stdout",
     "output_type": "stream",
     "text": [
      "Shopping list: apples bananas milk bread eggs butter\n",
      "Sorted shopping list: apples bananas bread butter eggs milk\n"
     ]
    }
   ],
   "source": [
    "# -------------------- Solution ----------------------- #\n",
    "# Write your code here:\n",
    "\n",
    "# # List of shopping items\n",
    "shopping_list = [\"apples\", \"bananas\", \"milk\", \"bread\", \"eggs\", \"butter\"]\n",
    "\n",
    "# Create a copy called sorted_shopping\n",
    "sorted_shopping = shopping_list.copy()\n",
    "\n",
    "# Sort the sorted_shopping list\n",
    "sorted_shopping.sort()\n",
    "\n",
    "# Create empty strings for sentences\n",
    "shopping_sentence = \"\"\n",
    "sorted_shopping_sentence = \"\"\n",
    "\n",
    "# Create sentence from original list\n",
    "for item in shopping_list:\n",
    "    shopping_sentence += item + \" \"\n",
    "\n",
    "# Create sentence from sorted list\n",
    "for item in sorted_shopping:\n",
    "    sorted_shopping_sentence += item + \" \"\n",
    "\n",
    "# Print the sentences\n",
    "print(\"Shopping list:\", shopping_sentence.strip())\n",
    "print(\"Sorted shopping list:\", sorted_shopping_sentence.strip())"
   ]
  },
  {
   "cell_type": "markdown",
   "metadata": {},
   "source": [
    "### Exercise 5: Matrix Multiplication for Grades\n",
    "\n",
    "Write a program that calculates the matrix multiplication product of the matrices **matA** and **matB** below and prints the result. \n",
    "\n",
    "The matrices represent a hypothetical grading system where **matA** contains the scores of 3 students in 2 assignments, and **matB** contains the weight of each assignment for 3 subjects. The result will give the weighted scores for each student in each subject.\n",
    "\n",
    "#### Matrices:\n",
    "```plaintext\n",
    "matA = [[85, 90],\n",
    "        [78, 82],\n",
    "        [88, 94]]\n",
    "\n",
    "matB = [[0.3, 0.4, 0.3],\n",
    "        [0.5, 0.3, 0.2]]\n",
    "\n",
    "result = [[? , ?, ?], \n",
    "          [? , ?, ?],\n",
    "          [? , ?, ?]]\n",
    "```\n",
    "\n",
    "#### Expected Result:\n",
    "```plaintext\n",
    "result = [[69.5, 60.0, 55.0],\n",
    "          [63.6, 55.2, 50.0],\n",
    "          [73.0, 63.2, 57.2]]\n",
    "```"
   ]
  },
  {
   "cell_type": "code",
   "execution_count": 5,
   "metadata": {},
   "outputs": [
    {
     "name": "stdout",
     "output_type": "stream",
     "text": [
      "Matrix multiplication result:\n",
      "[70.5, 61.0, 43.5]\n",
      "[64.4, 55.8, 39.8]\n",
      "[73.4, 63.400000000000006, 45.2]\n"
     ]
    }
   ],
   "source": [
    "# -------------------- Solution ----------------------- #\n",
    "# Write your code here:\n",
    "\n",
    "# Define the matrices\n",
    "matA = [[85, 90],\n",
    "        [78, 82],\n",
    "        [88, 94]]\n",
    "\n",
    "matB = [[0.3, 0.4, 0.3],\n",
    "        [0.5, 0.3, 0.2]]\n",
    "\n",
    "# Create a result matrix with zeros\n",
    "result = [[0 for _ in range(len(matB[0]))] for _ in range(len(matA))]\n",
    "\n",
    "# Perform matrix multiplication\n",
    "for i in range(len(matA)):  # Loop over rows of matA\n",
    "    for j in range(len(matB[0])):  # Loop over columns of matB\n",
    "        for k in range(len(matB)):  # Loop over elements in the row/column pair\n",
    "            result[i][j] += matA[i][k] * matB[k][j]\n",
    "\n",
    "# Print the result\n",
    "print(\"Matrix multiplication result:\")\n",
    "for row in result:\n",
    "    print(row)"
   ]
  },
  {
   "cell_type": "markdown",
   "metadata": {},
   "source": [
    "### Exercise 6: Selecting Four-Letter Names\n",
    "\n",
    "Write a program that creates a list of only four-letter names from the given list and prints the new list.\n",
    "\n",
    "#### Input:\n",
    "```python\n",
    "# A list of names\n",
    "name_list = [\"John\", \"Emma\", \"Chris\", \"Noah\", \"Liam\", \"Anna\", \"Mike\"]\n",
    "```\n",
    "\n",
    "#### Expected Output:\n",
    "```plaintext\n",
    "['John', 'Emma', 'Noah', 'Liam', 'Mike']\n",
    "```\n"
   ]
  },
  {
   "cell_type": "code",
   "execution_count": null,
   "metadata": {},
   "outputs": [
    {
     "name": "stdout",
     "output_type": "stream",
     "text": [
      "['John', 'Emma', 'Noah', 'Liam', 'Anna', 'Mike']\n"
     ]
    }
   ],
   "source": [
    "# -------------------- Solution ----------------------- #\n",
    "# Write your code here:\n",
    "\n",
    "# A list of names\n",
    "name_list = [\"John\", \"Emma\", \"Chris\", \"Noah\", \"Liam\", \"Anna\", \"Mike\"]\n",
    "\n",
    "# List comprehension to select only 4-letter names\n",
    "four_letter_names = [name for name in name_list if len(name) == 4]\n",
    "\n",
    "# Print the new list\n",
    "print(four_letter_names)"
   ]
  }
 ],
 "metadata": {
  "kernelspec": {
   "display_name": "Python 3",
   "language": "python",
   "name": "python3"
  },
  "language_info": {
   "codemirror_mode": {
    "name": "ipython",
    "version": 3
   },
   "file_extension": ".py",
   "mimetype": "text/x-python",
   "name": "python",
   "nbconvert_exporter": "python",
   "pygments_lexer": "ipython3",
   "version": "3.12.1"
  }
 },
 "nbformat": 4,
 "nbformat_minor": 2
}
