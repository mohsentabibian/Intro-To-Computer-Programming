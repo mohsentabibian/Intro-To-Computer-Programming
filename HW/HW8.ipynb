{
 "cells": [
  {
   "cell_type": "markdown",
   "metadata": {},
   "source": [
    "## Intro to Computer Programming - Homework 8 - Fall 2024 - Wilmington College  "
   ]
  },
  {
   "cell_type": "markdown",
   "metadata": {},
   "source": [
    "### Exercise 1: Favorite Movies List\n",
    "\n",
    "Create a list of favorite movies. The initial list should include \"Inception,\" \"Interstellar,\" \"The Matrix,\" and \"The Dark Knight.\"\n",
    "\n",
    "Next, add \"Forrest Gump\" to the list.\n",
    "\n",
    "Then, remove \"The Matrix\" from the list and add \"Pulp Fiction\" to the list.\n",
    "\n",
    "Show the list contents after each modification.\n"
   ]
  },
  {
   "cell_type": "code",
   "execution_count": 1,
   "metadata": {},
   "outputs": [],
   "source": [
    "# -------------------- Solution ----------------------- #\n",
    "# Write your code here:\n",
    "\n"
   ]
  },
  {
   "cell_type": "markdown",
   "metadata": {},
   "source": [
    "### Exercise 2: Simple Searching for a Book\n",
    "\n",
    "Write a program that prints \"Book found!\" if \"The Great Gatsby\" is found in the given list of books.\n",
    "\n",
    "```python\n",
    "book_list = [\"1984\", \"To Kill a Mockingbird\", \"The Great Gatsby\", \"Moby Dick\", \"Pride and Prejudice\"]\n",
    "\n",
    "```  \n"
   ]
  },
  {
   "cell_type": "code",
   "execution_count": 2,
   "metadata": {},
   "outputs": [],
   "source": [
    "# -------------------- Solution ----------------------- #\n",
    "# Write your code here:\n",
    "\n"
   ]
  },
  {
   "cell_type": "markdown",
   "metadata": {},
   "source": [
    "### Exercise 3: Sorting and Reversing\n",
    "\n",
    "Complete the program below to arrange and print the ages of students in both ascending and descending order.\n",
    "\n",
    "```python\n",
    "# List of student ages\n",
    "age_list = [18, 22, 21, 19, 25, 20, 23, 17, 21, 24]\n",
    "```"
   ]
  },
  {
   "cell_type": "code",
   "execution_count": 3,
   "metadata": {},
   "outputs": [],
   "source": [
    "# -------------------- Solution ----------------------- #\n",
    "# Write your code here:\n",
    "\n"
   ]
  },
  {
   "cell_type": "markdown",
   "metadata": {},
   "source": [
    "### Exercise 4: Copy and Sort Example\n",
    "\n",
    "Make a copy of the list `shopping_list` called `sorted_shopping`. Sort the list `sorted_shopping`. Create a sentence using the words in each list and print those sentences (no need to add periods at the end of the sentences).\n",
    "\n",
    "```python\n",
    "# List of shopping items\n",
    "shopping_list = [\"apples\", \"bananas\", \"milk\", \"bread\", \"eggs\", \"butter\"]\n",
    "```"
   ]
  },
  {
   "cell_type": "code",
   "execution_count": 4,
   "metadata": {},
   "outputs": [],
   "source": [
    "# -------------------- Solution ----------------------- #\n",
    "# Write your code here:\n"
   ]
  },
  {
   "cell_type": "markdown",
   "metadata": {},
   "source": [
    "### Exercise 5: Matrix Multiplication for Grades\n",
    "\n",
    "Write a program that calculates the matrix multiplication product of the matrices **matA** and **matB** below and prints the result. \n",
    "\n",
    "The matrices represent a hypothetical grading system where **matA** contains the scores of 3 students in 2 assignments, and **matB** contains the weight of each assignment for 3 subjects. The result will give the weighted scores for each student in each subject.\n",
    "\n",
    "#### Matrices:\n",
    "```plaintext\n",
    "matA = [[85, 90],\n",
    "        [78, 82],\n",
    "        [88, 94]]\n",
    "\n",
    "matB = [[0.3, 0.4, 0.3],\n",
    "        [0.5, 0.3, 0.2]]\n",
    "\n",
    "result = [[? , ?, ?], \n",
    "          [? , ?, ?],\n",
    "          [? , ?, ?]]\n",
    "```\n",
    "\n",
    "#### Expected Result:\n",
    "```plaintext\n",
    "result = [[69.5, 60.0, 55.0],\n",
    "          [63.6, 55.2, 50.0],\n",
    "          [73.0, 63.2, 57.2]]\n",
    "```"
   ]
  },
  {
   "cell_type": "code",
   "execution_count": 5,
   "metadata": {},
   "outputs": [],
   "source": [
    "# -------------------- Solution ----------------------- #\n",
    "# Write your code here:\n",
    "\n"
   ]
  },
  {
   "cell_type": "markdown",
   "metadata": {},
   "source": [
    "### Exercise 6: Selecting Four-Letter Names\n",
    "\n",
    "Write a program that creates a list of only four-letter names from the given list and prints the new list.\n",
    "\n",
    "#### Input:\n",
    "```python\n",
    "# A list of names\n",
    "name_list = [\"John\", \"Emma\", \"Chris\", \"Noah\", \"Liam\", \"Anna\", \"Mike\"]\n",
    "```\n",
    "\n",
    "#### Expected Output:\n",
    "```plaintext\n",
    "['John', 'Emma', 'Noah', 'Liam', 'Mike']\n",
    "```\n"
   ]
  },
  {
   "cell_type": "code",
   "execution_count": 6,
   "metadata": {},
   "outputs": [],
   "source": [
    "# -------------------- Solution ----------------------- #\n",
    "# Write your code here:\n",
    "\n"
   ]
  }
 ],
 "metadata": {
  "kernelspec": {
   "display_name": "Python 3",
   "language": "python",
   "name": "python3"
  },
  "language_info": {
   "codemirror_mode": {
    "name": "ipython",
    "version": 3
   },
   "file_extension": ".py",
   "mimetype": "text/x-python",
   "name": "python",
   "nbconvert_exporter": "python",
   "pygments_lexer": "ipython3",
   "version": "3.12.1"
  }
 },
 "nbformat": 4,
 "nbformat_minor": 2
}
