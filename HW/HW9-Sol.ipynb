{
 "cells": [
  {
   "cell_type": "markdown",
   "metadata": {},
   "source": [
    "## Intro to Computer Programming - Solution to Homework 9 - Fall 2024 - Wilmington College  "
   ]
  },
  {
   "cell_type": "markdown",
   "metadata": {},
   "source": [
    "### Exercise 1: Number of unique vowels in a string\n",
    "Given a string, calculate and print the number of unique vowels using a dictionary.\n",
    "\n",
    "**Input:**  \n",
    "`string_value = \"This is a string containing vowels\"`  \n",
    "\n",
    "**Prints:**  \n",
    "`4` (vowels: 'i', 'a', 'o', 'e')\n"
   ]
  },
  {
   "cell_type": "code",
   "execution_count": null,
   "metadata": {},
   "outputs": [],
   "source": [
    "# -------------------- Solution ----------------------- #\n",
    "# Write your code here:\n",
    "\n",
    "def count_unique_vowels(string_value):\n",
    "    vowels = \"aeiou\"\n",
    "    unique_vowels = {}\n",
    "    \n",
    "    for char in string_value.lower():\n",
    "        if char in vowels:\n",
    "            unique_vowels[char] = True\n",
    "            \n",
    "    print(len(unique_vowels))\n",
    "\n",
    "# Example usage\n",
    "string_value = \"This is a string containing vowels\"\n",
    "count_unique_vowels(string_value)"
   ]
  },
  {
   "cell_type": "markdown",
   "metadata": {},
   "source": [
    "### Exercise 2: Word frequency count in a sentence\n",
    "\n",
    "Given a sentence, calculate and print the frequency of each word using a dictionary. \n",
    "\n",
    "For example:\n",
    "\n",
    "```\n",
    "sentence = \"Data science is fun and data science is growing\"\n",
    "```\n",
    "\n",
    "**Expected Output:**\n",
    "\n",
    "```\n",
    "{'Data': 2, 'science': 2, 'is': 2, 'fun': 1, 'and': 1, 'growing': 1}\n",
    "```\n"
   ]
  },
  {
   "cell_type": "code",
   "execution_count": null,
   "metadata": {},
   "outputs": [],
   "source": [
    "# -------------------- Solution ----------------------- #\n",
    "# Write your code here:\n",
    "\n",
    "def word_count(sentence):\n",
    "    words = sentence.split()  # Split sentence into words\n",
    "    word_dict = {}  # Dictionary to hold word frequencies\n",
    "\n",
    "    for word in words:\n",
    "        word = word.lower()  # Make the word lowercase to ensure case-insensitive comparison\n",
    "        if word in word_dict:\n",
    "            word_dict[word] += 1  # Increment the count if the word is already in the dictionary\n",
    "        else:\n",
    "            word_dict[word] = 1  # Add the word to the dictionary with count 1 if it's not present\n",
    "\n",
    "    return word_dict\n",
    "\n",
    "# Example sentence\n",
    "sentence = \"Data science is fun and data science is growing\"\n",
    "word_frequencies = word_count(sentence)\n",
    "\n",
    "# Print the result\n",
    "print(word_frequencies)"
   ]
  },
  {
   "cell_type": "markdown",
   "metadata": {},
   "source": [
    "### Exercise 3: Student Grades Conversion\n",
    "Suppose you have a dictionary containing the names of students as keys and their respective grades as values. The grades are out of 100. Write a Python program that uses dictionary comprehension to create a new dictionary where the values are the grades converted to a scale of 4.0, assuming the following mapping:\n",
    "\n",
    "- 90 and above -> 4.0\n",
    "- 80 to 89 -> 3.0\n",
    "- 70 to 79 -> 2.0\n",
    "- 60 to 69 -> 1.0\n",
    "- Below 60 -> 0.0\n",
    "\n",
    "```\n",
    "# Original dictionary of student grades\n",
    "student_grades = {\n",
    "    'Alice': 95,\n",
    "    'Bob': 85,\n",
    "    'Charlie': 72,\n",
    "    'David': 60,\n",
    "    'Eve': 50\n",
    "}\n",
    "```"
   ]
  },
  {
   "cell_type": "code",
   "execution_count": null,
   "metadata": {},
   "outputs": [],
   "source": [
    "# -------------------- Solution ----------------------- #\n",
    "# Write your code here:\n",
    "\n",
    "# Original dictionary of student grades\n",
    "student_grades = {\n",
    "    'Alice': 95,\n",
    "    'Bob': 85,\n",
    "    'Charlie': 72,\n",
    "    'David': 60,\n",
    "    'Eve': 50\n",
    "}\n",
    "\n",
    "# Dictionary comprehension to convert grades to 4.0 scale\n",
    "grade_scale = {\n",
    "    'Alice': 4.0 if student_grades['Alice'] >= 90 else (3.0 if student_grades['Alice'] >= 80 else (2.0 if student_grades['Alice'] >= 70 else (1.0 if student_grades['Alice'] >= 60 else 0.0))),\n",
    "    'Bob': 4.0 if student_grades['Bob'] >= 90 else (3.0 if student_grades['Bob'] >= 80 else (2.0 if student_grades['Bob'] >= 70 else (1.0 if student_grades['Bob'] >= 60 else 0.0))),\n",
    "    'Charlie': 4.0 if student_grades['Charlie'] >= 90 else (3.0 if student_grades['Charlie'] >= 80 else (2.0 if student_grades['Charlie'] >= 70 else (1.0 if student_grades['Charlie'] >= 60 else 0.0))),\n",
    "    'David': 4.0 if student_grades['David'] >= 90 else (3.0 if student_grades['David'] >= 80 else (2.0 if student_grades['David'] >= 70 else (1.0 if student_grades['David'] >= 60 else 0.0))),\n",
    "    'Eve': 4.0 if student_grades['Eve'] >= 90 else (3.0 if student_grades['Eve'] >= 80 else (2.0 if student_grades['Eve'] >= 70 else (1.0 if student_grades['Eve'] >= 60 else 0.0))),\n",
    "}\n",
    "\n",
    "# Output the converted grade scale\n",
    "print(grade_scale)"
   ]
  },
  {
   "cell_type": "markdown",
   "metadata": {},
   "source": [
    "### Exercise 4: \n",
    "\n",
    "You have a dictionary containing information about students in a school. Each student is identified by a student ID, and their information includes their name, grade level, and GPA. You want to group students by their grade level, so that you can easily see the names and GPAs of all students in each grade. Write a Python program that, when given a dictionary of students, outputs a nested dictionary that groups students by their grade level.\n",
    "\n",
    "**Input:**\n",
    "\n",
    "```\n",
    "students = {\n",
    "    101: {\"name\": \"John\", \"grade\": \"10\", \"GPA\": 3.8},\n",
    "    102: {\"name\": \"Jane\", \"grade\": \"12\", \"GPA\": 4.0},\n",
    "    103: {\"name\": \"Jim\", \"grade\": \"11\", \"GPA\": 3.5},\n",
    "    104: {\"name\": \"Jake\", \"grade\": \"10\", \"GPA\": 3.6},\n",
    "    105: {\"name\": \"Jill\", \"grade\": \"12\", \"GPA\": 3.9}\n",
    "}\n",
    "```\n",
    "\n",
    "**Expected Output:**\n",
    "\n",
    "```\n",
    "{\n",
    "    \"10\": {101: {\"name\": \"John\", \"GPA\": 3.8}, 104: {\"name\": \"Jake\", \"GPA\": 3.6}},\n",
    "    \"11\": {103: {\"name\": \"Jim\", \"GPA\": 3.5}},\n",
    "    \"12\": {102: {\"name\": \"Jane\", \"GPA\": 4.0}, 105: {\"name\": \"Jill\", \"GPA\": 3.9}}\n",
    "}\n",
    "```\n"
   ]
  },
  {
   "cell_type": "code",
   "execution_count": null,
   "metadata": {},
   "outputs": [],
   "source": [
    "# -------------------- Solution ----------------------- #\n",
    "# Write your code here:\n",
    "\n",
    "students = {\n",
    "    101: {\"name\": \"John\", \"grade\": \"10\", \"GPA\": 3.8},\n",
    "    102: {\"name\": \"Jane\", \"grade\": \"12\", \"GPA\": 4.0},\n",
    "    103: {\"name\": \"Jim\", \"grade\": \"11\", \"GPA\": 3.5},\n",
    "    104: {\"name\": \"Jake\", \"grade\": \"10\", \"GPA\": 3.6},\n",
    "    105: {\"name\": \"Jill\", \"grade\": \"12\", \"GPA\": 3.9}\n",
    "}\n",
    "\n",
    "# Initialize an empty dictionary to store the result\n",
    "grade_students = {}\n",
    "\n",
    "# Iterate over the students dictionary\n",
    "for student_id, info in students.items():\n",
    "    grade = info[\"grade\"]\n",
    "    \n",
    "    # If the grade level is not in the result dictionary, add it\n",
    "    if grade not in grade_students:\n",
    "        grade_students[grade] = {}\n",
    "    \n",
    "    # Add the student to the corresponding grade level\n",
    "    grade_students[grade][student_id] = {\"name\": info[\"name\"], \"GPA\": info[\"GPA\"]}\n",
    "\n",
    "# Print the result\n",
    "print(grade_students)"
   ]
  },
  {
   "cell_type": "markdown",
   "metadata": {},
   "source": [
    "### Exercise 5: Positive and Negative Values\n",
    "Given a list of integers, create a dictionary with two keys, \"positive\" and \"negative\". The values associated with each key must be the list of corresponding positive and negative values in the given list.\n",
    "\n",
    "    Input:\n",
    "    input_list = [4, -1, 3, -2, 0]\n",
    "    \n",
    "    Output:\n",
    "    {\"positive\": [4, 3], \"negative\": [-1, -2]}\n"
   ]
  },
  {
   "cell_type": "code",
   "execution_count": null,
   "metadata": {},
   "outputs": [],
   "source": [
    "# -------------------- Solution ----------------------- #\n",
    "# Write your code here:\n",
    "\n",
    "def separate_positive_negative(input_list):\n",
    "    result = {\"positive\": [], \"negative\": []}\n",
    "    \n",
    "    for num in input_list:\n",
    "        if num > 0:\n",
    "            result[\"positive\"].append(num)\n",
    "        elif num < 0:\n",
    "            result[\"negative\"].append(num)\n",
    "    \n",
    "    return result\n",
    "\n",
    "# Example usage\n",
    "input_list = [4, -1, 3, -2, 0]\n",
    "print(separate_positive_negative(input_list))"
   ]
  }
 ],
 "metadata": {
  "kernelspec": {
   "display_name": "Python 3",
   "language": "python",
   "name": "python3"
  },
  "language_info": {
   "codemirror_mode": {
    "name": "ipython",
    "version": 3
   },
   "file_extension": ".py",
   "mimetype": "text/x-python",
   "name": "python",
   "nbconvert_exporter": "python",
   "pygments_lexer": "ipython3",
   "version": "3.12.1"
  }
 },
 "nbformat": 4,
 "nbformat_minor": 2
}
