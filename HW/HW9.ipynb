{
 "cells": [
  {
   "cell_type": "markdown",
   "metadata": {},
   "source": [
    "## Intro to Computer Programming - Homework 9 - Fall 2024 - Wilmington College  "
   ]
  },
  {
   "cell_type": "markdown",
   "metadata": {},
   "source": [
    "### Exercise 1: Number of unique vowels in a string\n",
    "Given a string, calculate and print the number of unique vowels using a dictionary.\n",
    "\n",
    "**Input:**  \n",
    "`string_value = \"This is a string containing vowels\"`  \n",
    "\n",
    "**Prints:**  \n",
    "`4` (vowels: 'i', 'a', 'o', 'e')\n"
   ]
  },
  {
   "cell_type": "code",
   "execution_count": null,
   "metadata": {},
   "outputs": [],
   "source": [
    "# -------------------- Solution ----------------------- #\n",
    "# Write your code here:\n",
    "\n"
   ]
  },
  {
   "cell_type": "markdown",
   "metadata": {},
   "source": [
    "### Exercise 2: Word frequency count in a sentence\n",
    "\n",
    "Given a sentence, calculate and print the frequency of each word using a dictionary. \n",
    "\n",
    "For example:\n",
    "\n",
    "```\n",
    "sentence = \"Data science is fun and data science is growing\"\n",
    "```\n",
    "\n",
    "**Expected Output:**\n",
    "\n",
    "```\n",
    "{'Data': 2, 'science': 2, 'is': 2, 'fun': 1, 'and': 1, 'growing': 1}\n",
    "```\n"
   ]
  },
  {
   "cell_type": "code",
   "execution_count": null,
   "metadata": {},
   "outputs": [],
   "source": [
    "# -------------------- Solution ----------------------- #\n",
    "# Write your code here:\n",
    "\n"
   ]
  },
  {
   "cell_type": "markdown",
   "metadata": {},
   "source": [
    "### Exercise 3: Student Grades Conversion\n",
    "Suppose you have a dictionary containing the names of students as keys and their respective grades as values. The grades are out of 100. Write a Python program that uses dictionary comprehension to create a new dictionary where the values are the grades converted to a scale of 4.0, assuming the following mapping:\n",
    "\n",
    "- 90 and above -> 4.0\n",
    "- 80 to 89 -> 3.0\n",
    "- 70 to 79 -> 2.0\n",
    "- 60 to 69 -> 1.0\n",
    "- Below 60 -> 0.0\n",
    "\n",
    "```\n",
    "# Original dictionary of student grades\n",
    "student_grades = {\n",
    "    'Alice': 95,\n",
    "    'Bob': 85,\n",
    "    'Charlie': 72,\n",
    "    'David': 60,\n",
    "    'Eve': 50\n",
    "}\n",
    "```"
   ]
  },
  {
   "cell_type": "code",
   "execution_count": null,
   "metadata": {},
   "outputs": [],
   "source": [
    "# -------------------- Solution ----------------------- #\n",
    "# Write your code here:\n",
    "\n"
   ]
  },
  {
   "cell_type": "markdown",
   "metadata": {},
   "source": [
    "### Exercise 4: \n",
    "\n",
    "You have a dictionary containing information about students in a school. Each student is identified by a student ID, and their information includes their name, grade level, and GPA. You want to group students by their grade level, so that you can easily see the names and GPAs of all students in each grade. Write a Python program that, when given a dictionary of students, outputs a nested dictionary that groups students by their grade level.\n",
    "\n",
    "**Input:**\n",
    "\n",
    "```\n",
    "students = {\n",
    "    101: {\"name\": \"John\", \"grade\": \"10\", \"GPA\": 3.8},\n",
    "    102: {\"name\": \"Jane\", \"grade\": \"12\", \"GPA\": 4.0},\n",
    "    103: {\"name\": \"Jim\", \"grade\": \"11\", \"GPA\": 3.5},\n",
    "    104: {\"name\": \"Jake\", \"grade\": \"10\", \"GPA\": 3.6},\n",
    "    105: {\"name\": \"Jill\", \"grade\": \"12\", \"GPA\": 3.9}\n",
    "}\n",
    "```\n",
    "\n",
    "**Expected Output:**\n",
    "\n",
    "```\n",
    "{\n",
    "    \"10\": {101: {\"name\": \"John\", \"GPA\": 3.8}, 104: {\"name\": \"Jake\", \"GPA\": 3.6}},\n",
    "    \"11\": {103: {\"name\": \"Jim\", \"GPA\": 3.5}},\n",
    "    \"12\": {102: {\"name\": \"Jane\", \"GPA\": 4.0}, 105: {\"name\": \"Jill\", \"GPA\": 3.9}}\n",
    "}\n",
    "```\n"
   ]
  },
  {
   "cell_type": "code",
   "execution_count": null,
   "metadata": {},
   "outputs": [],
   "source": [
    "# -------------------- Solution ----------------------- #\n",
    "# Write your code here:\n",
    "\n"
   ]
  },
  {
   "cell_type": "markdown",
   "metadata": {},
   "source": [
    "### Exercise 5: Positive and Negative Values\n",
    "Given a list of integers, create a dictionary with two keys, \"positive\" and \"negative\". The values associated with each key must be the list of corresponding positive and negative values in the given list.\n",
    "\n",
    "    Input:\n",
    "    input_list = [4, -1, 3, -2, 0]\n",
    "    \n",
    "    Output:\n",
    "    {\"positive\": [4, 3], \"negative\": [-1, -2]}\n"
   ]
  },
  {
   "cell_type": "code",
   "execution_count": null,
   "metadata": {},
   "outputs": [],
   "source": [
    "# -------------------- Solution ----------------------- #\n",
    "# Write your code here:\n",
    "\n"
   ]
  }
 ],
 "metadata": {
  "kernelspec": {
   "display_name": "Python 3",
   "language": "python",
   "name": "python3"
  },
  "language_info": {
   "codemirror_mode": {
    "name": "ipython",
    "version": 3
   },
   "file_extension": ".py",
   "mimetype": "text/x-python",
   "name": "python",
   "nbconvert_exporter": "python",
   "pygments_lexer": "ipython3",
   "version": "3.12.1"
  }
 },
 "nbformat": 4,
 "nbformat_minor": 2
}
