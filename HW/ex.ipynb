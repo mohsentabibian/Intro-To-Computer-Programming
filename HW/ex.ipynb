{
 "cells": [
  {
   "cell_type": "code",
   "execution_count": 6,
   "metadata": {},
   "outputs": [
    {
     "name": "stdout",
     "output_type": "stream",
     "text": [
      "1 2 3 5 8 13 \n",
      "f 13\n"
     ]
    }
   ],
   "source": [
    "    # Initializing the first two Fibonacci numbers\n",
    "    f = 1\n",
    "    g = 1\n",
    "    #print (f, end = ' ')\n",
    "\n",
    "    # Running the loop while the last Fibonacci number is less than 20\n",
    "    while g < 20:\n",
    "      print(g, end = ' ')\n",
    "      # Calculating the next Fibonacci number and updating the last two sequence numbers\n",
    "      temp = f\n",
    "      f = g\n",
    "    g = temp + g\n",
    "\n",
    "    print()\n",
    "    print('f', f)\n"
   ]
  },
  {
   "cell_type": "markdown",
   "metadata": {},
   "source": [
    "Counting spaces\n",
    "Write a program using a for loop that takes in a string as input and counts the number of spaces in the provided string. The program must print the number of spaces counted. Ex: If the input is \"Hi everyone\", the program outputs 1."
   ]
  },
  {
   "cell_type": "code",
   "execution_count": 10,
   "metadata": {},
   "outputs": [
    {
     "name": "stdout",
     "output_type": "stream",
     "text": [
      "h\n",
      "i\n",
      " \n",
      "w\n",
      "o\n",
      "r\n",
      "l\n",
      "d\n",
      "count: 0\n"
     ]
    }
   ],
   "source": [
    "user_input = input(\"enter your word\")\n",
    "\n",
    "count = 0\n",
    "for chr in user_input:\n",
    "    print(chr)\n",
    "    if chr == \" \":\n",
    "        print(\"if statement\", chr)\n",
    "\n",
    "        count += 1\n",
    "    \n",
    "print(\"count:\", count)"
   ]
  },
  {
   "cell_type": "markdown",
   "metadata": {},
   "source": [
    "# Sequences\n",
    "Write a program that reads two integer values, n1 and n2, with n1 < n2, and performs the following tasks:\n",
    "\n",
    "- Prints all even numbers between the two provided numbers (inclusive of both), in ascending order.\n",
    "- Prints all odd numbers between the two provided numbers (exclusive of both), in descending order.\n",
    "\n",
    "    Input: 2 8\n",
    "\n",
    "    Prints: \n",
    "\n",
    "    2 4 6 8\n",
    "\n",
    "    7 5 3\n",
    "    \n",
    "Note: the program should return an error message if the second number is smaller than the first."
   ]
  },
  {
   "cell_type": "code",
   "execution_count": null,
   "metadata": {},
   "outputs": [],
   "source": [
    "int_1 = input()\n",
    "int_2 = input()"
   ]
  }
 ],
 "metadata": {
  "kernelspec": {
   "display_name": "Python 3",
   "language": "python",
   "name": "python3"
  },
  "language_info": {
   "codemirror_mode": {
    "name": "ipython",
    "version": 3
   },
   "file_extension": ".py",
   "mimetype": "text/x-python",
   "name": "python",
   "nbconvert_exporter": "python",
   "pygments_lexer": "ipython3",
   "version": "3.12.1"
  }
 },
 "nbformat": 4,
 "nbformat_minor": 2
}
