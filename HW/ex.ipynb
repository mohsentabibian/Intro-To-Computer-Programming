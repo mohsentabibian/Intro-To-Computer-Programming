{
 "cells": [
  {
   "cell_type": "markdown",
   "metadata": {},
   "source": [
    "Laundromat information\n",
    "Write a program that uses three functions to print information about a laundromat, Liam's Laundry:\n",
    "\n",
    "laundromat_info(): Prints the name, Liam's Laundry, and hours of operation, 7a - 11p, and calls washers_open() and dryers_open()\n",
    "washers_open(): Reads an integer, assigns washer_count with the value, and prints washer_count\n",
    "dryers_open(): Reads an integer, assigns dryer_count with the value, and prints dryer_count\n",
    "The main program should just call laundromat_info().\n",
    "\n",
    "Given inputs 50 and 40, the output is:\n",
    "\n",
    "    Liam's Laundry\n",
    "    7a - 11p\n",
    "     Open washers: 50\n",
    "     Open dryers: 40\n"
   ]
  },
  {
   "cell_type": "code",
   "execution_count": null,
   "metadata": {},
   "outputs": [],
   "source": [
    "def washers_open():\n",
    "    washer_count = int(input())\n",
    "    print(\"  Open washers:\", washer_count)\n",
    "\n",
    "def dryers_open():\n",
    "    dryer_count = int(input())\n",
    "    print(\"  Open dryers:\", dryer_count)\n",
    "\n",
    "def laundromat_info():\n",
    "    print(\"Liam's Laundry\")\n",
    "    print(\"7a - 11p\")\n",
    "    washers_open()\n",
    "    dryers_open()\n",
    "\n",
    "laundromat_info()"
   ]
  },
  {
   "cell_type": "code",
   "execution_count": null,
   "metadata": {},
   "outputs": [],
   "source": [
    "def find_teammates(num):\n",
    "    print(\"Finding\", num, \"players...\")\n",
    "\n",
    "def battle_royale():\n",
    "    nplayers = int(input())\n",
    "    rand_players = 3 - nplayers\n",
    "    find_teammates(rand_players)  \n",
    "    print(\"Match starting...\")\n",
    "\n",
    "def practice():\n",
    "    game_map = input()\n",
    "    print(\"Launching practice on\", game_map)\n",
    "\n",
    "game_mode = input()\n",
    "if game_mode == \"br\":\n",
    "    battle_royale()\n",
    "else:\n",
    "    practice()"
   ]
  },
  {
   "cell_type": "code",
   "execution_count": 4,
   "metadata": {},
   "outputs": [
    {
     "data": {
      "text/plain": [
       "4.0"
      ]
     },
     "execution_count": 4,
     "metadata": {},
     "output_type": "execute_result"
    }
   ],
   "source": [
    "import math\n",
    "math.sqrt(16)"
   ]
  },
  {
   "cell_type": "code",
   "execution_count": 5,
   "metadata": {},
   "outputs": [
    {
     "data": {
      "text/plain": [
       "4.0"
      ]
     },
     "execution_count": 5,
     "metadata": {},
     "output_type": "execute_result"
    }
   ],
   "source": [
    "from math import sqrt\n",
    "sqrt(16)"
   ]
  },
  {
   "cell_type": "code",
   "execution_count": 6,
   "metadata": {},
   "outputs": [
    {
     "data": {
      "text/plain": [
       "4.0"
      ]
     },
     "execution_count": 6,
     "metadata": {},
     "output_type": "execute_result"
    }
   ],
   "source": [
    "import math as m\n",
    "m.sqrt(16)"
   ]
  },
  {
   "cell_type": "code",
   "execution_count": 7,
   "metadata": {},
   "outputs": [
    {
     "ename": "TypeError",
     "evalue": "hello() missing 1 required positional argument: 'name'",
     "output_type": "error",
     "traceback": [
      "\u001b[0;31m---------------------------------------------------------------------------\u001b[0m",
      "\u001b[0;31mTypeError\u001b[0m                                 Traceback (most recent call last)",
      "Cell \u001b[0;32mIn[7], line 10\u001b[0m\n\u001b[1;32m      5\u001b[0m \u001b[38;5;28;01mdef\u001b[39;00m \u001b[38;5;21mhello\u001b[39m(name):\n\u001b[1;32m      7\u001b[0m   \u001b[38;5;28mprint\u001b[39m(\u001b[38;5;124m\"\u001b[39m\u001b[38;5;124mHello,\u001b[39m\u001b[38;5;124m\"\u001b[39m, name)\n\u001b[0;32m---> 10\u001b[0m \u001b[43mhello\u001b[49m\u001b[43m(\u001b[49m\u001b[43m)\u001b[49m\n\u001b[1;32m     12\u001b[0m hello(\u001b[38;5;124m\"\u001b[39m\u001b[38;5;124mChris\u001b[39m\u001b[38;5;124m\"\u001b[39m)\n",
      "\u001b[0;31mTypeError\u001b[0m: hello() missing 1 required positional argument: 'name'"
     ]
    }
   ],
   "source": [
    "\n",
    "def hello():\n",
    "\n",
    "  print(\"Hello!\")\n",
    "\n",
    "def hello(name):\n",
    "\n",
    "  print(\"Hello,\", name)\n",
    "\n",
    "\n",
    "hello()\n",
    "\n",
    "hello(\"Chris\")"
   ]
  },
  {
   "cell_type": "code",
   "execution_count": 5,
   "metadata": {},
   "outputs": [
    {
     "name": "stdout",
     "output_type": "stream",
     "text": [
      "Help on module colors:\n",
      "\n",
      "NAME\n",
      "    colors - Functions for working with color names and hex/rgb values.\n",
      "\n",
      "FUNCTIONS\n",
      "    darken(color)\n",
      "        Decreases the red, green, and blue values of a color by 32 each.\n",
      "\n",
      "    lighten(color)\n",
      "        Increases the red, green, and blue values of a color by 32 each.\n",
      "\n",
      "    tohex(r, g, b)\n",
      "        Formats red, green, and blue integers as a color in hexadecimal.\n",
      "\n",
      "    torgb(color)\n",
      "        Converts a color in hexadecimal to red, green, and blue integers.\n",
      "\n",
      "DATA\n",
      "    BLACK = '#000000'\n",
      "    BLUE = '#0000FF'\n",
      "    GRAY = '#808080'\n",
      "    GREEN = '#008000'\n",
      "    ORANGE = '#FFA500'\n",
      "    RED = '#FF0000'\n",
      "    VIOLET = '#EE82EE'\n",
      "    WHITE = '#FFFFFF'\n",
      "    YELLOW = '#FFFF00'\n",
      "\n",
      "FILE\n",
      "    /workspaces/Intro-To-Computer-Programming/HW/colors.py\n",
      "\n",
      "\n"
     ]
    }
   ],
   "source": [
    "\n",
    "import colors\n",
    "help(colors)"
   ]
  },
  {
   "cell_type": "code",
   "execution_count": null,
   "metadata": {},
   "outputs": [],
   "source": []
  }
 ],
 "metadata": {
  "kernelspec": {
   "display_name": "Python 3",
   "language": "python",
   "name": "python3"
  },
  "language_info": {
   "codemirror_mode": {
    "name": "ipython",
    "version": 3
   },
   "file_extension": ".py",
   "mimetype": "text/x-python",
   "name": "python",
   "nbconvert_exporter": "python",
   "pygments_lexer": "ipython3",
   "version": "3.12.1"
  }
 },
 "nbformat": 4,
 "nbformat_minor": 2
}
