{
 "cells": [
  {
   "cell_type": "markdown",
   "metadata": {},
   "source": [
    "# Intro to Computer Programming - Final Review - Fall 2024 - Wilmington College"
   ]
  },
  {
   "cell_type": "markdown",
   "metadata": {},
   "source": [
    "### **Exercise 1: Modify String with Indices**\n",
    "\n",
    "You are given a string and a list of indices. Write a program that replaces the characters at the specified indices with a pound sign (`#`) and prints the modified string.\n",
    "\n",
    "**Input:**\n",
    "```python\n",
    "string_variable = \"python\"\n",
    "indices = [0, 2, 4]\n",
    "```\n",
    "\n",
    "**Expected Output:**\n",
    "```\n",
    "#y#on\n",
    "```"
   ]
  },
  {
   "cell_type": "code",
   "execution_count": 1,
   "metadata": {},
   "outputs": [
    {
     "name": "stdout",
     "output_type": "stream",
     "text": [
      "#y#h#n\n"
     ]
    }
   ],
   "source": [
    "# -------------------- Solution ----------------------- #\n",
    "# Write your code here:\n",
    "# \n",
    "def modify_string(string_variable, indices):\n",
    "    string_list = list(string_variable)  # Convert string to list\n",
    "    for index in indices:\n",
    "        string_list[index] = \"#\"  # Replace character at each index with '#'\n",
    "    return \"\".join(string_list)  # Convert list back to string\n",
    "\n",
    "# Example usage\n",
    "string_variable = \"python\"\n",
    "indices = [0, 2, 4]\n",
    "print(modify_string(string_variable, indices))\n"
   ]
  },
  {
   "cell_type": "markdown",
   "metadata": {},
   "source": [
    "### **Exercise 2: Count All Consonants**\n",
    "\n",
    "Write a program that counts the number of consonants in a given string. Also, print the string after removing all consonants.\n",
    "\n",
    "**Input:**  \n",
    "`\"This is a beautiful day\"`\n",
    "\n",
    "**Expected Output:**\n",
    "```\n",
    "10\n",
    "i i a eaui a\n",
    "```"
   ]
  },
  {
   "cell_type": "code",
   "execution_count": 2,
   "metadata": {},
   "outputs": [
    {
     "name": "stdout",
     "output_type": "stream",
     "text": [
      "10\n",
      "i i a eauiu a\n"
     ]
    }
   ],
   "source": [
    "# -------------------- Solution ----------------------- #\n",
    "# Write your code here:\n",
    "\n",
    "def count_consonants(string):\n",
    "    vowels = \"aeiouAEIOU\"\n",
    "    consonants = 0\n",
    "    result = []\n",
    "\n",
    "    for char in string:\n",
    "        if char.isalpha() and char not in vowels:\n",
    "            consonants += 1\n",
    "        elif char.isalpha() == False:\n",
    "            result.append(char)\n",
    "        elif char in vowels:\n",
    "            result.append(char)\n",
    "\n",
    "    return consonants, \"\".join(result)\n",
    "\n",
    "# Example usage\n",
    "input_string = \"This is a beautiful day\"\n",
    "consonants_count, string_without_consonants = count_consonants(input_string)\n",
    "print(consonants_count)\n",
    "print(string_without_consonants)\n"
   ]
  },
  {
   "cell_type": "markdown",
   "metadata": {},
   "source": [
    "### **Exercise 3: Employee Salary Table**\n",
    "\n",
    "Create a Python program that displays a table of employee details, which includes the following columns:\n",
    "- Employee Name\n",
    "- Position\n",
    "- Salary\n",
    "\n",
    "The table should be neatly formatted, and you may use string formatting techniques like `f-strings` for alignment.\n",
    "\n",
    "**Input Data:**\n",
    "```python\n",
    "employees = [\n",
    "    (\"Alice\", \"Manager\", 95000),\n",
    "    (\"Bob\", \"Developer\", 75000),\n",
    "    (\"Charlie\", \"HR\", 65000)\n",
    "]\n",
    "```\n",
    "\n",
    "**Expected Output:**\n",
    "```\n",
    "Employee Name   Position       Salary\n",
    "-------------------------------------\n",
    "Alice           Manager        95000\n",
    "Bob             Developer      75000\n",
    "Charlie         HR             65000\n",
    "```\n"
   ]
  },
  {
   "cell_type": "code",
   "execution_count": 3,
   "metadata": {},
   "outputs": [
    {
     "name": "stdout",
     "output_type": "stream",
     "text": [
      "Employee Name   Position        Salary    \n",
      "----------------------------------------\n",
      "Alice           Manager         95000     \n",
      "Bob             Developer       75000     \n",
      "Charlie         HR              65000     \n"
     ]
    }
   ],
   "source": [
    "# -------------------- Solution ----------------------- #\n",
    "# Write your code here:\n",
    "\n",
    "def display_employee_table(employees):\n",
    "    print(f\"{'Employee Name':<15} {'Position':<15} {'Salary':<10}\")\n",
    "    print(\"-\" * 40)\n",
    "    for employee in employees:\n",
    "        print(f\"{employee[0]:<15} {employee[1]:<15} {employee[2]:<10}\")\n",
    "\n",
    "# Example usage\n",
    "employees = [\n",
    "    (\"Alice\", \"Manager\", 95000),\n",
    "    (\"Bob\", \"Developer\", 75000),\n",
    "    (\"Charlie\", \"HR\", 65000)\n",
    "]\n",
    "display_employee_table(employees)\n"
   ]
  },
  {
   "cell_type": "markdown",
   "metadata": {},
   "source": [
    "### **Exercise 4: User's Top Three Movies**\n",
    "\n",
    "Write a Python program that allows the user to input their top three movies, one per line. When the user finishes entering the movies, the program should print a message based on the number of movies input:\n",
    "\n",
    "- If no movie is entered, print: \"You have no favorite movies.\"\n",
    "- If one movie is entered, print: \"Your favorite movie is [movie].\"\n",
    "- If two movies are entered, print: \"Your favorite movies are [movie1] and [movie2].\"\n",
    "- If three movies are entered, print: \"Your favorite movies are [movie1], [movie2], and [movie3].\"\n"
   ]
  },
  {
   "cell_type": "code",
   "execution_count": 4,
   "metadata": {},
   "outputs": [
    {
     "name": "stdout",
     "output_type": "stream",
     "text": [
      "You have no favorite movies.\n"
     ]
    }
   ],
   "source": [
    "# -------------------- Solution ----------------------- #\n",
    "# Write your code here:\n",
    "\n",
    "def get_top_movies():\n",
    "    movies = []\n",
    "    for i in range(3):\n",
    "        movie = input(f\"Enter movie {i+1}: \")\n",
    "        if movie:\n",
    "            movies.append(movie)\n",
    "    \n",
    "    if len(movies) == 0:\n",
    "        print(\"You have no favorite movies.\")\n",
    "    elif len(movies) == 1:\n",
    "        print(f\"Your favorite movie is {movies[0]}.\")\n",
    "    elif len(movies) == 2:\n",
    "        print(f\"Your favorite movies are {movies[0]} and {movies[1]}.\")\n",
    "    elif len(movies) == 3:\n",
    "        print(f\"Your favorite movies are {movies[0]}, {movies[1]}, and {movies[2]}.\")\n",
    "\n",
    "get_top_movies()\n"
   ]
  },
  {
   "cell_type": "markdown",
   "metadata": {},
   "source": [
    "### **Exercise 5: Matrix Addition**\n",
    "\n",
    "Write a Python program that calculates the sum of two matrices. The matrices represent two different subjects’ scores for three students. Print the resulting matrix.\n",
    "\n",
    "#### Matrices:\n",
    "\n",
    "```plaintext\n",
    "matA = [[85, 90],\n",
    "        [78, 82],\n",
    "        [88, 94]]\n",
    "\n",
    "matB = [[5, 10],\n",
    "        [10, 5],\n",
    "        [3, 6]]\n",
    "\n",
    "result = [[? , ?], \n",
    "          [? , ?],\n",
    "          [? , ?]]\n",
    "```\n",
    "\n",
    "**Expected Result:**\n",
    "```plaintext\n",
    "result = [[90, 100],\n",
    "          [88, 87],\n",
    "          [91, 100]]\n",
    "```"
   ]
  },
  {
   "cell_type": "code",
   "execution_count": 5,
   "metadata": {},
   "outputs": [
    {
     "name": "stdout",
     "output_type": "stream",
     "text": [
      "[90, 100]\n",
      "[88, 87]\n",
      "[91, 100]\n"
     ]
    }
   ],
   "source": [
    "# -------------------- Solution ----------------------- #\n",
    "# Write your code here:\n",
    "\n",
    "def add_matrices(matA, matB):\n",
    "    result = [[matA[i][j] + matB[i][j] for j in range(len(matA[0]))] for i in range(len(matA))]\n",
    "    return result\n",
    "\n",
    "# Example usage\n",
    "matA = [[85, 90], [78, 82], [88, 94]]\n",
    "matB = [[5, 10], [10, 5], [3, 6]]\n",
    "result = add_matrices(matA, matB)\n",
    "for row in result:\n",
    "    print(row)\n"
   ]
  },
  {
   "cell_type": "markdown",
   "metadata": {},
   "source": [
    "### **Exercise 6: Merge Sorted Arrays**\n",
    "Write a Python program that merges two sorted arrays into a single sorted array. The merging process must be efficient.\n",
    "\n",
    "**Input:**\n",
    "```python\n",
    "arr1 = [1, 3, 5, 7]\n",
    "arr2 = [2, 4, 6, 8]\n",
    "```\n",
    "\n",
    "**Expected Output:**\n",
    "```\n",
    "[1, 2, 3, 4, 5, 6, 7, 8]\n",
    "```"
   ]
  },
  {
   "cell_type": "code",
   "execution_count": 6,
   "metadata": {},
   "outputs": [
    {
     "name": "stdout",
     "output_type": "stream",
     "text": [
      "[1, 2, 3, 4, 5, 6, 7, 8]\n"
     ]
    }
   ],
   "source": [
    "# -------------------- Solution ----------------------- #\n",
    "# Write your code here:\n",
    "\n",
    "def merge_sorted_arrays(arr1, arr2):\n",
    "    return sorted(arr1 + arr2)\n",
    "\n",
    "# Example usage\n",
    "arr1 = [1, 3, 5, 7]\n",
    "arr2 = [2, 4, 6, 8]\n",
    "print(merge_sorted_arrays(arr1, arr2))\n"
   ]
  },
  {
   "cell_type": "markdown",
   "metadata": {},
   "source": [
    "### **Exercise 7: Group Words by Length**\n",
    "Write a Python program that groups words by their length. The program should output a dictionary where the keys are the word lengths, and the values are lists of words with that length.\n",
    "\n",
    "**Input:**\n",
    "```python\n",
    "words = [\"apple\", \"bat\", \"car\", \"banana\", \"pie\", \"grape\", \"melon\"]\n",
    "```\n",
    "\n",
    "**Expected Output:**\n",
    "```python\n",
    "{\n",
    "    3: ['bat', 'car', 'pie'],\n",
    "    5: ['apple', 'grape'],\n",
    "    6: ['banana', 'melon']\n",
    "}\n",
    "```"
   ]
  },
  {
   "cell_type": "code",
   "execution_count": 7,
   "metadata": {},
   "outputs": [
    {
     "name": "stdout",
     "output_type": "stream",
     "text": [
      "{5: ['apple', 'grape', 'melon'], 3: ['bat', 'car', 'pie'], 6: ['banana']}\n"
     ]
    }
   ],
   "source": [
    "# -------------------- Solution ----------------------- #\n",
    "# Write your code here:\n",
    "\n",
    "def group_words_by_length(words):\n",
    "    length_dict = {}\n",
    "    for word in words:\n",
    "        length_dict.setdefault(len(word), []).append(word)\n",
    "    return length_dict\n",
    "\n",
    "# Example usage\n",
    "words = [\"apple\", \"bat\", \"car\", \"banana\", \"pie\", \"grape\", \"melon\"]\n",
    "print(group_words_by_length(words))\n"
   ]
  },
  {
   "cell_type": "markdown",
   "metadata": {},
   "source": [
    "### **Exercise 8: Swap Keys and Values in a Dictionary**\n",
    "Write a Python program that swaps the keys and values in a given dictionary. If there are duplicate values, the new dictionary should only keep one of them.\n",
    "\n",
    "**Input:**\n",
    "```python\n",
    "input_dict = {'a': 1, 'b': 2, 'c': 3}\n",
    "```\n",
    "\n",
    "**Expected Output:**\n",
    "```python\n",
    "{1: 'a', 2: 'b', 3: 'c'}\n",
    "```"
   ]
  },
  {
   "cell_type": "code",
   "execution_count": 8,
   "metadata": {},
   "outputs": [
    {
     "name": "stdout",
     "output_type": "stream",
     "text": [
      "{1: 'a', 2: 'b', 3: 'c'}\n"
     ]
    }
   ],
   "source": [
    "# -------------------- Solution ----------------------- #\n",
    "# Write your code here:\n",
    "\n",
    "def swap_keys_and_values(input_dict):\n",
    "    return {v: k for k, v in input_dict.items()}\n",
    "\n",
    "# Example usage\n",
    "input_dict = {'a': 1, 'b': 2, 'c': 3}\n",
    "print(swap_keys_and_values(input_dict))\n"
   ]
  },
  {
   "cell_type": "markdown",
   "metadata": {},
   "source": [
    "### **Exercise 9: Filter Short Names**\n",
    "\n",
    "Write a Python program that creates a list of names that are only three letters long from a given list of names. Print the new list.\n",
    "\n",
    "**Input:**\n",
    "```python\n",
    "names = [\"Tom\", \"Jane\", \"Sue\", \"Chris\", \"Max\", \"Liam\"]\n",
    "```\n",
    "\n",
    "**Expected Output:**\n",
    "```\n",
    "['Tom', 'Sue', 'Max']\n",
    "```"
   ]
  },
  {
   "cell_type": "code",
   "execution_count": 9,
   "metadata": {},
   "outputs": [
    {
     "name": "stdout",
     "output_type": "stream",
     "text": [
      "['Tom', 'Sue', 'Max']\n"
     ]
    }
   ],
   "source": [
    "# -------------------- Solution ----------------------- #\n",
    "# Write your code here:\n",
    "\n",
    "def filter_short_names(names):\n",
    "    # Create a new list to store names with exactly three letters\n",
    "    short_names = []\n",
    "    \n",
    "    # Iterate through each name in the list\n",
    "    for name in names:\n",
    "        if len(name) == 3:  # Check if the name has exactly three letters\n",
    "            short_names.append(name)  # Add to the result list if condition is met\n",
    "    \n",
    "    return short_names\n",
    "\n",
    "# Input list of names\n",
    "names = [\"Tom\", \"Jane\", \"Sue\", \"Chris\", \"Max\", \"Liam\"]\n",
    "\n",
    "# Get the list of short names\n",
    "result = filter_short_names(names)\n",
    "\n",
    "# Print the result\n",
    "print(result)\n"
   ]
  }
 ],
 "metadata": {
  "kernelspec": {
   "display_name": "Python 3",
   "language": "python",
   "name": "python3"
  },
  "language_info": {
   "codemirror_mode": {
    "name": "ipython",
    "version": 3
   },
   "file_extension": ".py",
   "mimetype": "text/x-python",
   "name": "python",
   "nbconvert_exporter": "python",
   "pygments_lexer": "ipython3",
   "version": "3.12.1"
  }
 },
 "nbformat": 4,
 "nbformat_minor": 2
}
