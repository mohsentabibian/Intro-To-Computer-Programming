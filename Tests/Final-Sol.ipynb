{
 "cells": [
  {
   "cell_type": "markdown",
   "metadata": {},
   "source": [
    "# Intro to Computer Programming - Final Test - Fall 2024 - Wilmington College\n",
    "## Due Date: December 08, 2024, 11.59 AM\n",
    "\n",
    "Dear Students,\n",
    "\n",
    "Welcome to Final Exam for the Intro to Computer Programming course.\n",
    "\n",
    "**Submission Instructions:**\n",
    "Please complete the final test and submit it to the Blackboard. In case you encounter any issues or have questions, feel free to seek assistance from me.\n",
    "\n",
    "**Alternative Submission:**\n",
    "If, for any reason, you are unable to use BB, you can submit your work via email. If you face any challenges, don't hesitate to reach out."
   ]
  },
  {
   "cell_type": "markdown",
   "metadata": {},
   "source": [
    "### **Exercise 1: Modify String with Indices**\n",
    "\n",
    "You are given a string and a list of indices. Write a program that replaces the characters at the specified indices with a pound sign (`%`) and prints the modified string.\n",
    "\n",
    "**Input:**\n",
    "```python\n",
    "string_variable = \"python\"\n",
    "indices = [1, 2, 5]\n",
    "```\n",
    "\n",
    "**Expected Output:**\n",
    "```\n",
    "p%%on\n",
    "```"
   ]
  },
  {
   "cell_type": "code",
   "execution_count": null,
   "metadata": {},
   "outputs": [],
   "source": [
    "# -------------------- Solution ----------------------- #\n",
    "# Write your code here:\n",
    "# \n",
    "def modify_string(string_variable, indices):\n",
    "    string_list = list(string_variable)  # Convert string to list\n",
    "    for index in indices:\n",
    "        string_list[index] = \"%\"  # Replace character at each index with '%'\n",
    "    return \"\".join(string_list)  # Convert list back to string\n",
    "\n",
    "# Example usage\n",
    "string_variable = \"python\"\n",
    "indices = [1, 2, 5]\n",
    "print(modify_string(string_variable, indices))\n"
   ]
  },
  {
   "cell_type": "markdown",
   "metadata": {},
   "source": [
    "### **Exercise 2: Matrix Transpose**\n",
    "Write a Python program that takes a 2D matrix as input and transposes it. The transpose of a matrix is obtained by swapping the rows and columns.\n",
    "\n",
    "**Input:**\n",
    "```python\n",
    "matrix = [\n",
    "    [1, 2, 3],\n",
    "    [4, 5, 6],\n",
    "    [7, 8, 9]\n",
    "]\n",
    "```\n",
    "\n",
    "**Expected Output:**\n",
    "```python\n",
    "[\n",
    "    [1, 4, 7],\n",
    "    [2, 5, 8],\n",
    "    [3, 6, 9]\n",
    "]\n",
    "```"
   ]
  },
  {
   "cell_type": "code",
   "execution_count": null,
   "metadata": {},
   "outputs": [],
   "source": [
    "# -------------------- Solution ----------------------- #\n",
    "# Write your code here:\n",
    "\n",
    "def transpose_matrix(matrix):\n",
    "    # Initialize an empty matrix to store the transposed values\n",
    "    transposed = []\n",
    "    \n",
    "    # Iterate over columns of the original matrix\n",
    "    for i in range(len(matrix[0])):  # Iterate through columns\n",
    "        row = []  # Create a new row\n",
    "        for j in range(len(matrix)):  # Iterate through rows\n",
    "            row.append(matrix[j][i])  # Append the element at [j][i] to the row\n",
    "        transposed.append(row)  # Append the row to the transposed matrix\n",
    "\n",
    "    return transposed\n",
    "\n",
    "# Input matrix\n",
    "matrix = [\n",
    "    [1, 2, 3],\n",
    "    [4, 5, 6],\n",
    "    [7, 8, 9]\n",
    "]\n",
    "\n",
    "# Transpose the matrix\n",
    "transposed_matrix = transpose_matrix(matrix)\n",
    "\n",
    "# Print the transposed matrix\n",
    "print(transposed_matrix)\n"
   ]
  },
  {
   "cell_type": "markdown",
   "metadata": {},
   "source": [
    "### **Exercise 3: Merge Two Dictionaries**\n",
    "Write a Python program that merges two dictionaries into one. If there are overlapping keys, sum their values.\n",
    "\n",
    "**Input:**\n",
    "```python\n",
    "dict1 = {'a': 5, 'b': 10, 'c': 15}\n",
    "dict2 = {'b': 3, 'c': 8, 'd': 20}\n",
    "```\n",
    "\n",
    "**Expected Output:**\n",
    "```python\n",
    "{'a': 5, 'b': 13, 'c': 23, 'd': 20}\n",
    "```\n"
   ]
  },
  {
   "cell_type": "code",
   "execution_count": null,
   "metadata": {},
   "outputs": [],
   "source": [
    "# -------------------- Solution ----------------------- #\n",
    "# Write your code here:\n",
    "\n",
    "def merge_dictionaries(dict1, dict2):\n",
    "    result = dict1.copy()\n",
    "    for key, value in dict2.items():\n",
    "        if key in result:\n",
    "            result[key] += value\n",
    "        else:\n",
    "            result[key] = value\n",
    "    return result\n",
    "\n",
    "# Example usage\n",
    "dict1 = {'a': 5, 'b': 10, 'c': 15}\n",
    "dict2 = {'b': 3, 'c': 8, 'd': 20}\n",
    "print(merge_dictionaries(dict1, dict2))\n"
   ]
  },
  {
   "cell_type": "markdown",
   "metadata": {},
   "source": [
    "### **Exercise 4: Count the Occurrence of Each Character in a String**\n",
    "Write a Python program that counts the occurrence of each character in a string and stores the result in a dictionary.\n",
    "\n",
    "**Input:**\n",
    "```python\n",
    "input_str = \"programming\"\n",
    "```\n",
    "\n",
    "**Expected Output:**\n",
    "```python\n",
    "{'p': 1, 'r': 2, 'o': 1, 'g': 2, 'a': 1, 'm': 2, 'i': 1, 'n': 1}\n",
    "```\n"
   ]
  },
  {
   "cell_type": "code",
   "execution_count": null,
   "metadata": {},
   "outputs": [],
   "source": [
    "# -------------------- Solution ----------------------- #\n",
    "# Write your code here:\n",
    "\n",
    "def count_characters(input_str):\n",
    "    return {char: input_str.count(char) for char in set(input_str)}\n",
    "\n",
    "# Example usage\n",
    "input_str = \"programming\"\n",
    "print(count_characters(input_str))\n"
   ]
  },
  {
   "cell_type": "markdown",
   "metadata": {},
   "source": [
    "### **Exercise 5: : Data Manipulation and Analysis with Python**\n",
    "\n",
    "You are provided with a dataset of student records stored in a list of dictionaries. Each record contains information about the student’s name, age, major, and grades. Perform the following tasks:\n",
    "\n",
    "```python\n",
    "students = [\n",
    "    {\"name\": \"Alice\", \"age\": 20, \"major\": \"Computer Science\", \"grades\": [85, 90, 78]},\n",
    "    {\"name\": \"Bob\", \"age\": 22, \"major\": \"Mathematics\", \"grades\": [88, 92, 95]},\n",
    "    {\"name\": \"Charlie\", \"age\": 21, \"major\": \"Biology\", \"grades\": [70, 65, 80]},\n",
    "    {\"name\": \"David\", \"age\": 23, \"major\": \"Computer Science\", \"grades\": [60, 75, 85]},\n",
    "    {\"name\": \"Eve\", \"age\": 20, \"major\": \"Mathematics\", \"grades\": [95, 88, 92]}\n",
    "]\n",
    "```\n",
    "\n",
    "---\n",
    "\n",
    "#### **Part 1: Filtering and Displaying Records (Lists and Conditionals)**  \n",
    "Write a function `filter_by_major` that filters and prints the records of students majoring in \"Computer Science\".\n",
    "\n",
    "**Expected Output:**  \n",
    "```\n",
    "{'name': 'Alice', 'age': 20, 'major': 'Computer Science', 'grades': [85, 90, 78]}  \n",
    "{'name': 'David', 'age': 23, 'major': 'Computer Science', 'grades': [60, 75, 85]}\n",
    "```"
   ]
  },
  {
   "cell_type": "code",
   "execution_count": null,
   "metadata": {},
   "outputs": [],
   "source": [
    "# -------------------- Solution ----------------------- #\n",
    "# Write your code here:\n",
    "\n",
    "### **Part 1: Filtering and Displaying Records**\n",
    "def filter_by_major(students, major):\n",
    "    for student in students:\n",
    "        if student[\"major\"] == major:\n",
    "            print(student)\n",
    "\n",
    "filter_by_major(students, \"Computer Science\")\n"
   ]
  },
  {
   "cell_type": "markdown",
   "metadata": {},
   "source": [
    "#### **Part 2: Average Grade Calculation (Loops and Functions)**  \n",
    "Write a function `calculate_average_grade` that calculates and prints the average grade for each student.\n",
    "\n",
    "**Expected Output:**  \n",
    "```\n",
    "Alice: 84.33  \n",
    "Bob: 91.67  \n",
    "Charlie: 71.67  \n",
    "David: 73.33  \n",
    "Eve: 91.67\n",
    "```\n"
   ]
  },
  {
   "cell_type": "code",
   "execution_count": null,
   "metadata": {},
   "outputs": [],
   "source": [
    "# -------------------- Solution ----------------------- #\n",
    "# Write your code here:\n",
    "\n",
    "### **Part 2: Average Grade Calculation**\n",
    "def calculate_average_grade(students):\n",
    "    for student in students:\n",
    "        average = sum(student[\"grades\"]) / len(student[\"grades\"])\n",
    "        print(f\"{student['name']}: {average:.2f}\")\n",
    "\n",
    "calculate_average_grade(students)"
   ]
  },
  {
   "cell_type": "markdown",
   "metadata": {},
   "source": [
    "#### **Part 3: Find the Student with the Highest Average (Dictionaries and Loops)**  \n",
    "Write a function `highest_average_student` that finds and prints the name of the student with the highest average grade and their average.\n",
    "\n",
    "**Expected Output:**  \n",
    "```\n",
    "Student with the highest average: Bob (91.67)\n",
    "```\n"
   ]
  },
  {
   "cell_type": "code",
   "execution_count": null,
   "metadata": {},
   "outputs": [],
   "source": [
    "# -------------------- Solution ----------------------- #\n",
    "# Write your code here:\n",
    "\n",
    "### **Part 3: Find the Student with the Highest Average**\n",
    "def highest_average_student(students):\n",
    "    highest_avg = 0\n",
    "    top_student = \"\"\n",
    "    \n",
    "    for student in students:\n",
    "        average = sum(student[\"grades\"]) / len(student[\"grades\"])\n",
    "        if average > highest_avg:\n",
    "            highest_avg = average\n",
    "            top_student = student[\"name\"]\n",
    "    \n",
    "    print(f\"Student with the highest average: {top_student} ({highest_avg:.2f})\")\n",
    "\n",
    "highest_average_student(students)"
   ]
  },
  {
   "cell_type": "markdown",
   "metadata": {},
   "source": [
    "#### **Part 4: Group Students by Age (Dictionaries and List Manipulation)**  \n",
    "Write a function `group_by_age` that groups students by their age and prints the result.\n",
    "\n",
    "**Expected Output:**  \n",
    "```python\n",
    "{\n",
    "    20: ['Alice', 'Eve'],\n",
    "    21: ['Charlie'],\n",
    "    22: ['Bob'],\n",
    "    23: ['David']\n",
    "}\n",
    "```"
   ]
  },
  {
   "cell_type": "code",
   "execution_count": null,
   "metadata": {},
   "outputs": [],
   "source": [
    "# -------------------- Solution ----------------------- #\n",
    "# Write your code here:\n",
    "\n",
    "### **Part 4: Group Students by Age**\n",
    "def group_by_age(students):\n",
    "    age_groups = {}\n",
    "    \n",
    "    for student in students:\n",
    "        age = student[\"age\"]\n",
    "        if age not in age_groups:\n",
    "            age_groups[age] = []\n",
    "        age_groups[age].append(student[\"name\"])\n",
    "    \n",
    "    print(age_groups)\n",
    "\n",
    "group_by_age(students)\n"
   ]
  },
  {
   "cell_type": "markdown",
   "metadata": {},
   "source": [
    "#### **Part 5: Create a Summary Report (Formatted Strings and Loops)**  \n",
    "Generate a neatly formatted summary report that displays each student's name, major, and average grade.\n",
    "\n",
    "**Expected Output:**  \n",
    "```\n",
    "Name       Major              Average Grade  \n",
    "--------------------------------------------  \n",
    "Alice      Computer Science   84.33  \n",
    "Bob        Mathematics        91.67  \n",
    "Charlie    Biology            71.67  \n",
    "David      Computer Science   73.33  \n",
    "Eve        Mathematics        91.67\n",
    "```"
   ]
  },
  {
   "cell_type": "code",
   "execution_count": null,
   "metadata": {},
   "outputs": [],
   "source": [
    "# -------------------- Solution ----------------------- #\n",
    "# Write your code here:\n",
    "\n",
    "### **Part 5: Create a Summary Report**\n",
    "def generate_summary_report(students):\n",
    "    print(f\"{'Name':<10} {'Major':<20} {'Average Grade':<10}\")\n",
    "    print(\"-\" * 45)\n",
    "    \n",
    "    for student in students:\n",
    "        average = sum(student[\"grades\"]) / len(student[\"grades\"])\n",
    "        print(f\"{student['name']:<10} {student['major']:<20} {average:.2f}\")\n",
    "        \n",
    "generate_summary_report(students)"
   ]
  }
 ],
 "metadata": {
  "kernelspec": {
   "display_name": "Python 3",
   "language": "python",
   "name": "python3"
  },
  "language_info": {
   "codemirror_mode": {
    "name": "ipython",
    "version": 3
   },
   "file_extension": ".py",
   "mimetype": "text/x-python",
   "name": "python",
   "nbconvert_exporter": "python",
   "pygments_lexer": "ipython3",
   "version": "3.12.1"
  }
 },
 "nbformat": 4,
 "nbformat_minor": 2
}
