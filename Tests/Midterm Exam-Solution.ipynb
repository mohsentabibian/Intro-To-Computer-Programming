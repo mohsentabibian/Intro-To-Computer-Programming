{
 "cells": [
  {
   "cell_type": "markdown",
   "metadata": {},
   "source": [
    "# Intro to Computer Programming - Midterm Exam - Fall 2024 - Wilmington College\n",
    "## Due Date: October 31, 2024, 23:59\n",
    "\n",
    "Dear Students,\n",
    "\n",
    "Welcome to Midterm Exam for the Intro to Computer Programming course.\n",
    "\n",
    "**Submission Instructions:**\n",
    "Please complete the midterm exam and submit it to the Blackboard. In case you encounter any issues or have questions, feel free to seek assistance from me.\n",
    "\n",
    "**Alternative Submission:**\n",
    "If, for any reason, you are unable to use BB, you can submit your work via email. If you face any challenges, don't hesitate to reach out."
   ]
  },
  {
   "cell_type": "markdown",
   "metadata": {},
   "source": [
    "### Problem 1: Student Grade Calculator\n",
    "**(25 Marks)**  \n",
    "Write a function named `calculate_grade()`. The function should take a list of numerical scores as input and return the average score and a corresponding letter grade. The letter grade should be assigned based on the average score using the following scale:\n",
    "- A: 90-100\n",
    "- B: 80-89\n",
    "- C: 70-79\n",
    "- D: 60-69\n",
    "- F: Below 60\n",
    "\n",
    "*Example input:*  \n",
    "`[85, 92, 78, 88, 95]`\n",
    "\n",
    "*Expected output:*  \n",
    "`Average Score: 87.6, Grade: B`"
   ]
  },
  {
   "cell_type": "code",
   "execution_count": null,
   "metadata": {
    "vscode": {
     "languageId": "plaintext"
    }
   },
   "outputs": [],
   "source": [
    "# -------------------- Solution ----------------------- #\n",
    "# Write your code here:\n",
    "\n",
    "def calculate_grade(scores):\n",
    "    average_score = sum(scores) / len(scores)\n",
    "    if average_score >= 90:\n",
    "        grade = 'A'\n",
    "    elif average_score >= 80:\n",
    "        grade = 'B'\n",
    "    elif average_score >= 70:\n",
    "        grade = 'C'\n",
    "    elif average_score >= 60:\n",
    "        grade = 'D'\n",
    "    else:\n",
    "        grade = 'F'\n",
    "    \n",
    "    return average_score, grade\n",
    "\n",
    "# Example usage\n",
    "scores = [85, 92, 78, 88, 95]\n",
    "avg_score, grade = calculate_grade(scores)\n",
    "print(f\"Average Score: {avg_score:.1f}, Grade: {grade}\")\n"
   ]
  },
  {
   "cell_type": "markdown",
   "metadata": {},
   "source": [
    "### Problem 2: Simple ATM Simulation\n",
    "**(40 Marks)**  \n",
    "Create a simple ATM program with the following functionalities:\n",
    "1. Allow the user to input their PIN (for simplicity, just use \"1234\").\n",
    "2. Prompt the user for an action: \"Check Balance\", \"Deposit\", or \"Withdraw\".\n",
    "3. Implement each action using functions:\n",
    "   - `check_balance(balance)`: Prints the current balance.\n",
    "   - `deposit(balance, amount)`: Adds the deposit amount to the balance and returns the new balance.\n",
    "   - `withdraw(balance, amount)`: Subtracts the withdrawal amount from the balance (if sufficient funds are available) and returns the new balance.\n",
    "\n",
    "*Example session:*  \n",
    "- User inputs the correct PIN.  \n",
    "- User chooses \"Check Balance\".  \n",
    "- Output: `Current balance: $100`.  \n",
    "- User chooses \"Withdraw\" and inputs $30.  \n",
    "- Output: `Withdrawal successful! New balance: $70`."
   ]
  },
  {
   "cell_type": "code",
   "execution_count": null,
   "metadata": {
    "vscode": {
     "languageId": "plaintext"
    }
   },
   "outputs": [],
   "source": [
    "# -------------------- Solution ----------------------- #\n",
    "# Write your code here:\n",
    "\n",
    "def check_balance(balance):\n",
    "    print(f\"Current balance: ${balance:.2f}\")\n",
    "\n",
    "def deposit(balance, amount):\n",
    "    balance += amount\n",
    "    print(f\"Deposited ${amount:.2f}. New balance: ${balance:.2f}\")\n",
    "    return balance\n",
    "\n",
    "def withdraw(balance, amount):\n",
    "    if amount > balance:\n",
    "        print(\"Insufficient funds.\")\n",
    "    else:\n",
    "        balance -= amount\n",
    "        print(f\"Withdrew ${amount:.2f}. New balance: ${balance:.2f}\")\n",
    "    return balance\n",
    "\n",
    "def atm_simulation():\n",
    "    pin = \"1234\"\n",
    "    user_pin = input(\"Enter your PIN: \")\n",
    "    \n",
    "    if user_pin != pin:\n",
    "        print(\"Incorrect PIN.\")\n",
    "        return\n",
    "    \n",
    "    balance = 100.00  # Initial balance\n",
    "    while True:\n",
    "        action = input(\"Choose an action: Check Balance, Deposit, Withdraw, or Exit: \").lower()\n",
    "        if action == \"check balance\":\n",
    "            check_balance(balance)\n",
    "        elif action == \"deposit\":\n",
    "            amount = float(input(\"Enter amount to deposit: \"))\n",
    "            balance = deposit(balance, amount)\n",
    "        elif action == \"withdraw\":\n",
    "            amount = float(input(\"Enter amount to withdraw: \"))\n",
    "            balance = withdraw(balance, amount)\n",
    "        elif action == \"exit\":\n",
    "            print(\"Thank you for using the ATM!\")\n",
    "            break\n",
    "        else:\n",
    "            print(\"Invalid action. Please try again.\")\n",
    "\n",
    "atm_simulation()\n",
    "\n"
   ]
  },
  {
   "cell_type": "markdown",
   "metadata": {},
   "source": [
    "### Problem 3: Number Guessing Game\n",
    "**(25 Marks)**  \n",
    "Develop a simple number guessing game. The program should:\n",
    "1. Generate a random number between 1 and 100.\n",
    "2. Prompt the user to guess the number.\n",
    "3. Give hints if the guess is too high or too low.\n",
    "4. Keep track of the number of attempts until the user guesses the correct number.\n",
    "\n",
    "*Example interaction:*  \n",
    "- Random number is 42.  \n",
    "- User guesses 50 → Output: \"Too high!\"  \n",
    "- User guesses 30 → Output: \"Too low!\"  \n",
    "- User guesses 42 → Output: \"Correct! It took you 3 attempts.\""
   ]
  },
  {
   "cell_type": "code",
   "execution_count": null,
   "metadata": {
    "vscode": {
     "languageId": "plaintext"
    }
   },
   "outputs": [],
   "source": [
    "# -------------------- Solution ----------------------- #\n",
    "# Write your code here:\n",
    "\n",
    "import random\n",
    "\n",
    "def number_guessing_game():\n",
    "    number_to_guess = random.randint(1, 100)\n",
    "    attempts = 0\n",
    "    guess = None\n",
    "    \n",
    "    print(\"Welcome to the Number Guessing Game! Guess a number between 1 and 100.\")\n",
    "    \n",
    "    while guess != number_to_guess:\n",
    "        guess = int(input(\"Enter your guess: \"))\n",
    "        attempts += 1\n",
    "        \n",
    "        if guess < number_to_guess:\n",
    "            print(\"Too low!\")\n",
    "        elif guess > number_to_guess:\n",
    "            print(\"Too high!\")\n",
    "        else:\n",
    "            print(f\"Correct! It took you {attempts} attempts.\")\n",
    "\n",
    "number_guessing_game()\n"
   ]
  },
  {
   "cell_type": "markdown",
   "metadata": {},
   "source": [
    "### Problem 4: Subscription Management\n",
    "**(10 Marks)**  \n",
    "Write a program that allows users to manage their subscriptions. Create a function `manage_subscription(tier=\"Basic\", name=\"Guest\", msg=\"\")` which:\n",
    "1. Prompts the user to enter their subscription tier (default to \"Basic\").\n",
    "2. Asks for their name (default to \"Guest\").\n",
    "3. Requests an optional message from the subscriber (default to an empty string).\n",
    "4. Prints a confirmation message showing the details of the subscription.\n",
    "\n",
    "*Example input:*  \n",
    "`manage_subscription(\"Premium\", \"Alex\", \"Excited to join!\")`\n",
    "\n",
    "*Expected output:*  \n",
    "`Alex subscribed to Premium tier: Excited to join!`"
   ]
  },
  {
   "cell_type": "code",
   "execution_count": null,
   "metadata": {
    "vscode": {
     "languageId": "plaintext"
    }
   },
   "outputs": [],
   "source": [
    "# -------------------- Solution ----------------------- #\n",
    "# Write your code here:\n",
    "\n",
    "def manage_subscription(tier=\"Basic\", name=\"Guest\", msg=\"\"):\n",
    "    print(f\"{name} subscribed to {tier} tier: {msg}\")\n",
    "\n",
    "# Example usage\n",
    "manage_subscription(\"Premium\", \"Alex\", \"Excited to join!\")\n",
    "manage_subscription()  # Uses default values\n"
   ]
  }
 ],
 "metadata": {
  "kernelspec": {
   "display_name": "Python 3",
   "language": "python",
   "name": "python3"
  },
  "language_info": {
   "codemirror_mode": {
    "name": "ipython",
    "version": 3
   },
   "file_extension": ".py",
   "mimetype": "text/x-python",
   "name": "python",
   "nbconvert_exporter": "python",
   "pygments_lexer": "ipython3",
   "version": "3.12.1"
  }
 },
 "nbformat": 4,
 "nbformat_minor": 2
}
