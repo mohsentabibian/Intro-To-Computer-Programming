{
 "cells": [
  {
   "cell_type": "markdown",
   "metadata": {},
   "source": [
    "# Intro to Computer Programming - Midterm Exam - Fall 2024 - Wilmington College\n",
    "## Due Date: October 31, 2024, 23:59\n",
    "\n",
    "Dear Students,\n",
    "\n",
    "Welcome to Midterm Exam for the Intro to Computer Programming course.\n",
    "\n",
    "**Submission Instructions:**\n",
    "Please complete the midterm exam and submit it to the Blackboard. In case you encounter any issues or have questions, feel free to seek assistance from me.\n",
    "\n",
    "**Alternative Submission:**\n",
    "If, for any reason, you are unable to use BB, you can submit your work via email. If you face any challenges, don't hesitate to reach out."
   ]
  },
  {
   "cell_type": "markdown",
   "metadata": {},
   "source": [
    "### Problem 1: Student Grade Calculator\n",
    "**(25 Marks)**  \n",
    "Write a function named `calculate_grade()`. The function should take a list of numerical scores as input and return the average score and a corresponding letter grade. The letter grade should be assigned based on the average score using the following scale:\n",
    "- A: 90-100\n",
    "- B: 80-89\n",
    "- C: 70-79\n",
    "- D: 60-69\n",
    "- F: Below 60\n",
    "\n",
    "*Example input:*  \n",
    "`[85, 92, 78, 88, 95]`\n",
    "\n",
    "*Expected output:*  \n",
    "`Average Score: 87.6, Grade: B`"
   ]
  },
  {
   "cell_type": "code",
   "execution_count": null,
   "metadata": {
    "vscode": {
     "languageId": "plaintext"
    }
   },
   "outputs": [],
   "source": [
    "# -------------------- Solution ----------------------- #\n",
    "# Write your code here:\n"
   ]
  },
  {
   "cell_type": "markdown",
   "metadata": {},
   "source": [
    "### Problem 2: Simple ATM Simulation\n",
    "**(40 Marks)**  \n",
    "Create a simple ATM program with the following functionalities:\n",
    "1. Allow the user to input their PIN (for simplicity, just use \"1234\").\n",
    "2. Prompt the user for an action: \"Check Balance\", \"Deposit\", or \"Withdraw\".\n",
    "3. Implement each action using functions:\n",
    "   - `check_balance(balance)`: Prints the current balance.\n",
    "   - `deposit(balance, amount)`: Adds the deposit amount to the balance and returns the new balance.\n",
    "   - `withdraw(balance, amount)`: Subtracts the withdrawal amount from the balance (if sufficient funds are available) and returns the new balance.\n",
    "\n",
    "*Example session:*  \n",
    "- User inputs the correct PIN.  \n",
    "- User chooses \"Check Balance\".  \n",
    "- Output: `Current balance: $100`.  \n",
    "- User chooses \"Withdraw\" and inputs $30.  \n",
    "- Output: `Withdrawal successful! New balance: $70`."
   ]
  },
  {
   "cell_type": "code",
   "execution_count": null,
   "metadata": {
    "vscode": {
     "languageId": "plaintext"
    }
   },
   "outputs": [],
   "source": [
    "# -------------------- Solution ----------------------- #\n",
    "# Write your code here:\n",
    "\n"
   ]
  },
  {
   "cell_type": "markdown",
   "metadata": {},
   "source": [
    "### Problem 3: Number Guessing Game\n",
    "**(25 Marks)**  \n",
    "Develop a simple number guessing game. The program should:\n",
    "1. Generate a random number between 1 and 100.\n",
    "2. Prompt the user to guess the number.\n",
    "3. Give hints if the guess is too high or too low.\n",
    "4. Keep track of the number of attempts until the user guesses the correct number.\n",
    "\n",
    "*Example interaction:*  \n",
    "- Random number is 42.  \n",
    "- User guesses 50 → Output: \"Too high!\"  \n",
    "- User guesses 30 → Output: \"Too low!\"  \n",
    "- User guesses 42 → Output: \"Correct! It took you 3 attempts.\""
   ]
  },
  {
   "cell_type": "code",
   "execution_count": null,
   "metadata": {
    "vscode": {
     "languageId": "plaintext"
    }
   },
   "outputs": [],
   "source": [
    "# -------------------- Solution ----------------------- #\n",
    "# Write your code here:\n",
    "\n"
   ]
  },
  {
   "cell_type": "markdown",
   "metadata": {},
   "source": [
    "### Problem 4: Subscription Management\n",
    "**(10 Marks)**  \n",
    "Write a program that allows users to manage their subscriptions. Create a function `manage_subscription(tier=\"Basic\", name=\"Guest\", msg=\"\")` which:\n",
    "1. Prompts the user to enter their subscription tier (default to \"Basic\").\n",
    "2. Asks for their name (default to \"Guest\").\n",
    "3. Requests an optional message from the subscriber (default to an empty string).\n",
    "4. Prints a confirmation message showing the details of the subscription.\n",
    "\n",
    "*Example input:*  \n",
    "`manage_subscription(\"Premium\", \"Alex\", \"Excited to join!\")`\n",
    "\n",
    "*Expected output:*  \n",
    "`Alex subscribed to Premium tier: Excited to join!`"
   ]
  },
  {
   "cell_type": "code",
   "execution_count": null,
   "metadata": {
    "vscode": {
     "languageId": "plaintext"
    }
   },
   "outputs": [],
   "source": [
    "# -------------------- Solution ----------------------- #\n",
    "# Write your code here:\n",
    "\n"
   ]
  }
 ],
 "metadata": {
  "kernelspec": {
   "display_name": "Python 3",
   "language": "python",
   "name": "python3"
  },
  "language_info": {
   "codemirror_mode": {
    "name": "ipython",
    "version": 3
   },
   "file_extension": ".py",
   "mimetype": "text/x-python",
   "name": "python",
   "nbconvert_exporter": "python",
   "pygments_lexer": "ipython3",
   "version": "3.12.1"
  }
 },
 "nbformat": 4,
 "nbformat_minor": 2
}
