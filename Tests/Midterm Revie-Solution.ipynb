{
 "cells": [
  {
   "cell_type": "markdown",
   "metadata": {},
   "source": [
    "# Intro to Computer Programming - Review Exam - Fall 2024 - Wilmington College\n",
    "\n",
    "This review exam is designed to help you prepare for the midterm. Please complete all questions. If you have any questions or need assistance, feel free to reach out."
   ]
  },
  {
   "cell_type": "markdown",
   "metadata": {},
   "source": [
    "### Problem 1: Student Grade Statistics\n",
    "**(30 Marks)**  \n",
    "Write a function named `calculate_statistics()`. The function should take a list of numerical scores as input and return the following:\n",
    "1. Average score\n",
    "2. Highest score\n",
    "3. Lowest score\n",
    "4. Letter grade based on the average score using the following scale:\n",
    "   - A: 90-100\n",
    "   - B: 80-89\n",
    "   - C: 70-79\n",
    "   - D: 60-69\n",
    "   - F: Below 60\n",
    "\n",
    "*Example input:*  \n",
    "`[85, 92, 78, 88, 95]`\n",
    "\n",
    "*Expected output:*  \n",
    "`Average Score: 87.6, Highest Score: 95, Lowest Score: 78, Grade: B`"
   ]
  },
  {
   "cell_type": "code",
   "execution_count": null,
   "metadata": {
    "vscode": {
     "languageId": "plaintext"
    }
   },
   "outputs": [],
   "source": [
    "# -------------------- Solution ----------------------- #\n",
    "# Write your code here:\n",
    "\n",
    "\n",
    "def calculate_statistics(scores):\n",
    "    average_score = sum(scores) / len(scores)\n",
    "    highest_score = max(scores)\n",
    "    lowest_score = min(scores)\n",
    "    \n",
    "    if average_score >= 90:\n",
    "        grade = 'A'\n",
    "    elif average_score >= 80:\n",
    "        grade = 'B'\n",
    "    elif average_score >= 70:\n",
    "        grade = 'C'\n",
    "    elif average_score >= 60:\n",
    "        grade = 'D'\n",
    "    else:\n",
    "        grade = 'F'\n",
    "    \n",
    "    return average_score, highest_score, lowest_score, grade\n",
    "\n",
    "# Example usage\n",
    "scores = [85, 92, 78, 88, 95]\n",
    "avg_score, high_score, low_score, grade = calculate_statistics(scores)\n",
    "print(f\"Average Score: {avg_score:.1f}, Highest Score: {high_score}, Lowest Score: {low_score}, Grade: {grade}\")\n"
   ]
  },
  {
   "cell_type": "markdown",
   "metadata": {},
   "source": [
    "### Problem 2: Enhanced ATM Simulation\n",
    "**(40 Marks)**  \n",
    "Expand the ATM program with the following features:\n",
    "1. Allow the user to input their PIN (set to \"1234\").\n",
    "2. Include a transaction history feature that logs all deposits and withdrawals.\n",
    "3. Implement error handling for invalid inputs (e.g., non-numeric amounts).\n",
    "4. Allow the user to view transaction history.\n",
    "\n",
    "*Example session:*  \n",
    "- User inputs the correct PIN.  \n",
    "- User chooses \"Check Balance\".  \n",
    "- Output: `Current balance: $100`.  \n",
    "- User chooses \"Withdraw\" and inputs $30.  \n",
    "- Output: `Withdrawal successful! New balance: $70`.  \n",
    "- User chooses \"View Transaction History\".  \n",
    "- Output: `Transactions: Withdraw $30, Deposit $50`.\n"
   ]
  },
  {
   "cell_type": "code",
   "execution_count": null,
   "metadata": {
    "vscode": {
     "languageId": "plaintext"
    }
   },
   "outputs": [],
   "source": [
    "# -------------------- Solution ----------------------- #\n",
    "# Write your code here:\n",
    "\n",
    "\n",
    "def check_balance(balance):\n",
    "    print(f\"Current balance: ${balance:.2f}\")\n",
    "\n",
    "def deposit(balance, amount):\n",
    "    balance += amount\n",
    "    print(f\"Deposited ${amount:.2f}. New balance: ${balance:.2f}\")\n",
    "    return balance\n",
    "\n",
    "def withdraw(balance, amount):\n",
    "    if amount > balance:\n",
    "        print(\"Insufficient funds.\")\n",
    "    else:\n",
    "        balance -= amount\n",
    "        print(f\"Withdrew ${amount:.2f}. New balance: ${balance:.2f}\")\n",
    "    return balance\n",
    "\n",
    "def atm_simulation():\n",
    "    pin = \"1234\"\n",
    "    user_pin = input(\"Enter your PIN: \")\n",
    "    \n",
    "    if user_pin != pin:\n",
    "        print(\"Incorrect PIN.\")\n",
    "        return\n",
    "    \n",
    "    balance = 100.00  # Initial balance\n",
    "    transaction_history = []\n",
    "    \n",
    "    while True:\n",
    "        action = input(\"Choose an action: Check Balance, Deposit, Withdraw, View Transaction History, or Exit: \").lower()\n",
    "        if action == \"check balance\":\n",
    "            check_balance(balance)\n",
    "        elif action == \"deposit\":\n",
    "            amount = float(input(\"Enter amount to deposit: \"))\n",
    "            balance = deposit(balance, amount)\n",
    "            transaction_history.append(f\"Deposit ${amount:.2f}\")\n",
    "        elif action == \"withdraw\":\n",
    "            amount = float(input(\"Enter amount to withdraw: \"))\n",
    "            balance = withdraw(balance, amount)\n",
    "            transaction_history.append(f\"Withdraw ${amount:.2f}\")\n",
    "        elif action == \"view transaction history\":\n",
    "            print(\"Transaction History:\")\n",
    "            for transaction in transaction_history:\n",
    "                print(transaction)\n",
    "        elif action == \"exit\":\n",
    "            print(\"Thank you for using the ATM!\")\n",
    "            break\n",
    "        else:\n",
    "            print(\"Invalid action. Please try again.\")\n",
    "\n",
    "atm_simulation()\n"
   ]
  },
  {
   "cell_type": "markdown",
   "metadata": {},
   "source": [
    "### Problem 3: Random Word Guessing Game\n",
    "**(25 Marks)**  \n",
    "Create a simple word guessing game. The program should:\n",
    "1. Select a random word from a predefined list.\n",
    "2. Allow the user to guess the word, providing hints for incorrect guesses (e.g., correct letters in the correct position).\n",
    "3. Keep track of the number of attempts until the user guesses the correct word.\n",
    "\n",
    "*Example interaction:*  \n",
    "- Random word is \"apple\".  \n",
    "- User guesses \"grape\" → Output: \"Incorrect! Letters guessed correctly: 1 (a)\".  \n",
    "- User guesses \"apple\" → Output: \"Correct! It took you 2 attempts.\""
   ]
  },
  {
   "cell_type": "code",
   "execution_count": null,
   "metadata": {
    "vscode": {
     "languageId": "plaintext"
    }
   },
   "outputs": [],
   "source": [
    "# -------------------- Solution ----------------------- #\n",
    "# Write your code here:\n",
    "\n",
    "\n",
    "import random\n",
    "\n",
    "def word_guessing_game():\n",
    "    words = [\"apple\", \"banana\", \"grape\", \"orange\", \"kiwi\"]\n",
    "    word_to_guess = random.choice(words)\n",
    "    attempts = 0\n",
    "    guessed_letters = set()\n",
    "    \n",
    "    print(\"Welcome to the Word Guessing Game! Try to guess the word.\")\n",
    "\n",
    "    while True:\n",
    "        guess = input(\"Enter your guess (or the word): \").lower()\n",
    "        attempts += 1\n",
    "        \n",
    "        if guess == word_to_guess:\n",
    "            print(f\"Correct! It took you {attempts} attempts.\")\n",
    "            break\n",
    "        else:\n",
    "            for letter in word_to_guess:\n",
    "                if letter in guessed_letters:\n",
    "                    print(letter, end=\" \")\n",
    "                else:\n",
    "                    print(\"_\", end=\" \")\n",
    "            print()  # New line after displaying letters\n",
    "            guessed_letters.add(guess)\n",
    "\n",
    "word_guessing_game()\n"
   ]
  },
  {
   "cell_type": "markdown",
   "metadata": {},
   "source": [
    "### Problem 4: Subscription Upgrade\n",
    "**(15 Marks)**  \n",
    "Write a function `upgrade_subscription(tier, name)` which:\n",
    "1. Takes the current subscription tier and name as inputs.\n",
    "2. Prompts the user to enter a new subscription tier.\n",
    "3. Prints a confirmation message showing the updated subscription tier and the subscriber's name.\n",
    "\n",
    "*Example input:*  \n",
    "`upgrade_subscription(\"Basic\", \"Alex\")`\n",
    "\n",
    "*Expected output:*  \n",
    "`Alex upgraded from Basic to Premium.`"
   ]
  },
  {
   "cell_type": "code",
   "execution_count": null,
   "metadata": {
    "vscode": {
     "languageId": "plaintext"
    }
   },
   "outputs": [],
   "source": [
    "# -------------------- Solution ----------------------- #\n",
    "# Write your code here:\n",
    "\n",
    "def upgrade_subscription(current_tier, name):\n",
    "    new_tier = input(\"Enter your new subscription tier: \")\n",
    "    print(f\"{name} upgraded from {current_tier} to {new_tier}.\")\n",
    "\n",
    "# Example usage\n",
    "upgrade_subscription(\"Basic\", \"Alex\")\n",
    "\n"
   ]
  },
  {
   "cell_type": "markdown",
   "metadata": {},
   "source": [
    "### Problem 5: Simple Calculator\n",
    "**(20 Marks)**  \n",
    "Develop a simple calculator program that can perform basic arithmetic operations: addition, subtraction, multiplication, and division. Implement the following:\n",
    "1. A function `calculate()` that takes two numbers and an operation as inputs.\n",
    "2. The program should prompt the user to enter two numbers and an operation (+, -, *, /).\n",
    "3. Handle division by zero errors gracefully.\n",
    "\n",
    "*Example session:*  \n",
    "- User inputs: `5`, `0`, `/`.  \n",
    "- Output: `Error: Cannot divide by zero.`"
   ]
  },
  {
   "cell_type": "code",
   "execution_count": null,
   "metadata": {
    "vscode": {
     "languageId": "plaintext"
    }
   },
   "outputs": [],
   "source": [
    "# -------------------- Solution ----------------------- #\n",
    "# Write your code here:\n",
    "\n",
    "def calculate(num1, num2, operation):\n",
    "    if operation == '+':\n",
    "        return num1 + num2\n",
    "    elif operation == '-':\n",
    "        return num1 - num2\n",
    "    elif operation == '*':\n",
    "        return num1 * num2\n",
    "    elif operation == '/':\n",
    "        if num2 == 0:\n",
    "            return \"Error: Cannot divide by zero.\"\n",
    "        else:\n",
    "            return num1 / num2\n",
    "    else:\n",
    "        return \"Invalid operation.\"\n",
    "\n",
    "def simple_calculator():\n",
    "    num1 = float(input(\"Enter the first number: \"))\n",
    "    num2 = float(input(\"Enter the second number: \"))\n",
    "    operation = input(\"Enter an operation (+, -, *, /): \")\n",
    "    \n",
    "    result = calculate(num1, num2, operation)\n",
    "    print(f\"Result: {result}\")\n",
    "\n",
    "simple_calculator()\n"
   ]
  },
  {
   "cell_type": "markdown",
   "metadata": {},
   "source": [
    "\n",
    "**Good luck with your preparation!**"
   ]
  }
 ],
 "metadata": {
  "kernelspec": {
   "display_name": "Python 3",
   "language": "python",
   "name": "python3"
  },
  "language_info": {
   "codemirror_mode": {
    "name": "ipython",
    "version": 3
   },
   "file_extension": ".py",
   "mimetype": "text/x-python",
   "name": "python",
   "nbconvert_exporter": "python",
   "pygments_lexer": "ipython3",
   "version": "3.12.1"
  }
 },
 "nbformat": 4,
 "nbformat_minor": 2
}
