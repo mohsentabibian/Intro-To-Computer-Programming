{
 "cells": [
  {
   "cell_type": "markdown",
   "metadata": {},
   "source": [
    "# Intro to Computer Programming - Review Exam - Fall 2024 - Wilmington College\n",
    "\n",
    "This review exam is designed to help you prepare for the midterm. Please complete all questions. If you have any questions or need assistance, feel free to reach out."
   ]
  },
  {
   "cell_type": "markdown",
   "metadata": {},
   "source": [
    "### Problem 1: Student Grade Statistics\n",
    "**(30 Marks)**  \n",
    "Write a function named `calculate_statistics()`. The function should take a list of numerical scores as input and return the following:\n",
    "1. Average score\n",
    "2. Highest score\n",
    "3. Lowest score\n",
    "4. Letter grade based on the average score using the following scale:\n",
    "   - A: 90-100\n",
    "   - B: 80-89\n",
    "   - C: 70-79\n",
    "   - D: 60-69\n",
    "   - F: Below 60\n",
    "\n",
    "*Example input:*  \n",
    "`[85, 92, 78, 88, 95]`\n",
    "\n",
    "*Expected output:*  \n",
    "`Average Score: 87.6, Highest Score: 95, Lowest Score: 78, Grade: B`"
   ]
  },
  {
   "cell_type": "code",
   "execution_count": null,
   "metadata": {
    "vscode": {
     "languageId": "plaintext"
    }
   },
   "outputs": [],
   "source": [
    "# -------------------- Solution ----------------------- #\n",
    "# Write your code here:\n",
    "\n"
   ]
  },
  {
   "cell_type": "markdown",
   "metadata": {},
   "source": [
    "### Problem 2: Enhanced ATM Simulation\n",
    "**(40 Marks)**  \n",
    "Expand the ATM program with the following features:\n",
    "1. Allow the user to input their PIN (set to \"1234\").\n",
    "2. Include a transaction history feature that logs all deposits and withdrawals.\n",
    "3. Implement error handling for invalid inputs (e.g., non-numeric amounts).\n",
    "4. Allow the user to view transaction history.\n",
    "\n",
    "*Example session:*  \n",
    "- User inputs the correct PIN.  \n",
    "- User chooses \"Check Balance\".  \n",
    "- Output: `Current balance: $100`.  \n",
    "- User chooses \"Withdraw\" and inputs $30.  \n",
    "- Output: `Withdrawal successful! New balance: $70`.  \n",
    "- User chooses \"View Transaction History\".  \n",
    "- Output: `Transactions: Withdraw $30, Deposit $50`.\n"
   ]
  },
  {
   "cell_type": "code",
   "execution_count": null,
   "metadata": {
    "vscode": {
     "languageId": "plaintext"
    }
   },
   "outputs": [],
   "source": [
    "# -------------------- Solution ----------------------- #\n",
    "# Write your code here:\n",
    "\n",
    "\n"
   ]
  },
  {
   "cell_type": "markdown",
   "metadata": {},
   "source": [
    "### Problem 3: Random Word Guessing Game\n",
    "**(25 Marks)**  \n",
    "Create a simple word guessing game. The program should:\n",
    "1. Select a random word from a predefined list.\n",
    "2. Allow the user to guess the word, providing hints for incorrect guesses (e.g., correct letters in the correct position).\n",
    "3. Keep track of the number of attempts until the user guesses the correct word.\n",
    "\n",
    "*Example interaction:*  \n",
    "- Random word is \"apple\".  \n",
    "- User guesses \"grape\" → Output: \"Incorrect! Letters guessed correctly: 1 (a)\".  \n",
    "- User guesses \"apple\" → Output: \"Correct! It took you 2 attempts.\""
   ]
  },
  {
   "cell_type": "code",
   "execution_count": null,
   "metadata": {
    "vscode": {
     "languageId": "plaintext"
    }
   },
   "outputs": [],
   "source": [
    "# -------------------- Solution ----------------------- #\n",
    "# Write your code here:\n",
    "\n"
   ]
  },
  {
   "cell_type": "markdown",
   "metadata": {},
   "source": [
    "### Problem 4: Subscription Upgrade\n",
    "**(15 Marks)**  \n",
    "Write a function `upgrade_subscription(tier, name)` which:\n",
    "1. Takes the current subscription tier and name as inputs.\n",
    "2. Prompts the user to enter a new subscription tier.\n",
    "3. Prints a confirmation message showing the updated subscription tier and the subscriber's name.\n",
    "\n",
    "*Example input:*  \n",
    "`upgrade_subscription(\"Basic\", \"Alex\")`\n",
    "\n",
    "*Expected output:*  \n",
    "`Alex upgraded from Basic to Premium.`"
   ]
  },
  {
   "cell_type": "code",
   "execution_count": null,
   "metadata": {
    "vscode": {
     "languageId": "plaintext"
    }
   },
   "outputs": [],
   "source": [
    "# -------------------- Solution ----------------------- #\n",
    "# Write your code here:\n",
    "\n"
   ]
  },
  {
   "cell_type": "markdown",
   "metadata": {},
   "source": [
    "### Problem 5: Simple Calculator\n",
    "**(20 Marks)**  \n",
    "Develop a simple calculator program that can perform basic arithmetic operations: addition, subtraction, multiplication, and division. Implement the following:\n",
    "1. A function `calculate()` that takes two numbers and an operation as inputs.\n",
    "2. The program should prompt the user to enter two numbers and an operation (+, -, *, /).\n",
    "3. Handle division by zero errors gracefully.\n",
    "\n",
    "*Example session:*  \n",
    "- User inputs: `5`, `0`, `/`.  \n",
    "- Output: `Error: Cannot divide by zero.`"
   ]
  },
  {
   "cell_type": "code",
   "execution_count": null,
   "metadata": {
    "vscode": {
     "languageId": "plaintext"
    }
   },
   "outputs": [],
   "source": [
    "# -------------------- Solution ----------------------- #\n",
    "# Write your code here:\n"
   ]
  },
  {
   "cell_type": "markdown",
   "metadata": {},
   "source": [
    "\n",
    "**Good luck with your preparation!**"
   ]
  }
 ],
 "metadata": {
  "kernelspec": {
   "display_name": "Python 3",
   "language": "python",
   "name": "python3"
  },
  "language_info": {
   "codemirror_mode": {
    "name": "ipython",
    "version": 3
   },
   "file_extension": ".py",
   "mimetype": "text/x-python",
   "name": "python",
   "nbconvert_exporter": "python",
   "pygments_lexer": "ipython3",
   "version": "3.12.1"
  }
 },
 "nbformat": 4,
 "nbformat_minor": 2
}
